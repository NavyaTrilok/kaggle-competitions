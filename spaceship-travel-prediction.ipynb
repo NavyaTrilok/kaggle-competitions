{
 "cells": [
  {
   "cell_type": "code",
   "execution_count": 1,
   "id": "9399a154",
   "metadata": {
    "_cell_guid": "b1076dfc-b9ad-4769-8c92-a6c4dae69d19",
    "_uuid": "8f2839f25d086af736a60e9eeb907d3b93b6e0e5",
    "execution": {
     "iopub.execute_input": "2024-11-19T17:52:05.224126Z",
     "iopub.status.busy": "2024-11-19T17:52:05.223731Z",
     "iopub.status.idle": "2024-11-19T17:52:06.036253Z",
     "shell.execute_reply": "2024-11-19T17:52:06.035149Z"
    },
    "papermill": {
     "duration": 0.8385,
     "end_time": "2024-11-19T17:52:06.038736",
     "exception": false,
     "start_time": "2024-11-19T17:52:05.200236",
     "status": "completed"
    },
    "tags": []
   },
   "outputs": [
    {
     "name": "stdout",
     "output_type": "stream",
     "text": [
      "/kaggle/input/spaceship-titanic/sample_submission.csv\n",
      "/kaggle/input/spaceship-titanic/train.csv\n",
      "/kaggle/input/spaceship-titanic/test.csv\n"
     ]
    }
   ],
   "source": [
    "# This Python 3 environment comes with many helpful analytics libraries installed\n",
    "# It is defined by the kaggle/python Docker image: https://github.com/kaggle/docker-python\n",
    "# For example, here's several helpful packages to load\n",
    "\n",
    "import numpy as np # linear algebra\n",
    "import pandas as pd # data processing, CSV file I/O (e.g. pd.read_csv)\n",
    "\n",
    "# Input data files are available in the read-only \"../input/\" directory\n",
    "# For example, running this (by clicking run or pressing Shift+Enter) will list all files under the input directory\n",
    "\n",
    "import os\n",
    "for dirname, _, filenames in os.walk('/kaggle/input'):\n",
    "    for filename in filenames:\n",
    "        print(os.path.join(dirname, filename))\n",
    "\n",
    "# You can write up to 20GB to the current directory (/kaggle/working/) that gets preserved as output when you create a version using \"Save & Run All\" \n",
    "# You can also write temporary files to /kaggle/temp/, but they won't be saved outside of the current session"
   ]
  },
  {
   "cell_type": "markdown",
   "id": "267a379d",
   "metadata": {
    "papermill": {
     "duration": 0.019477,
     "end_time": "2024-11-19T17:52:06.077887",
     "exception": false,
     "start_time": "2024-11-19T17:52:06.058410",
     "status": "completed"
    },
    "tags": []
   },
   "source": [
    "Dataset Description\n",
    "In this competition your task is to predict whether a passenger was transported to an alternate dimension during the Spaceship Titanic's collision with the spacetime anomaly. To help you make these predictions, you're given a set of personal records recovered from the ship's damaged computer system."
   ]
  },
  {
   "cell_type": "markdown",
   "id": "5fc26231",
   "metadata": {
    "papermill": {
     "duration": 0.018401,
     "end_time": "2024-11-19T17:52:06.115358",
     "exception": false,
     "start_time": "2024-11-19T17:52:06.096957",
     "status": "completed"
    },
    "tags": []
   },
   "source": [
    "\n",
    "File and Data Field Descriptions\n",
    "\n",
    "train.csv - Personal records for about two-thirds (~8700) of the passengers, to be used as training data.\n",
    "\n",
    "PassengerId - A unique Id for each passenger. Each Id takes the form gggg_pp where gggg indicates a group the passenger is travelling with and pp is their number within the group. People in a group are often family members, but not always.\n",
    "\n",
    "HomePlanet - The planet the passenger departed from, typically their planet of permanent residence.\n",
    "\n",
    "CryoSleep - Indicates whether the passenger elected to be put into suspended animation for the duration of the voyage. Passengers in cryosleep are confined to their cabins.\n",
    "\n",
    "Cabin - The cabin number where the passenger is staying. Takes the form deck/num/side, where side can be either P for Port or S for Starboard.\n",
    "\n",
    "Destination - The planet the passenger will be debarking to.\n",
    "\n",
    "Age - The age of the passenger.\n",
    "\n",
    "VIP - Whether the passenger has paid for special VIP service during the voyage.\n",
    "\n",
    "RoomService, FoodCourt, ShoppingMall, Spa, VRDeck - Amount the passenger has billed at each of the Spaceship Titanic's many luxury amenities.\n",
    "\n",
    "Name - The first and last names of the passenger.\n",
    "\n",
    "Transported - Whether the passenger was transported to another dimension. This is the target, the column you are trying to predict.\n",
    "\n",
    "test.csv - Personal records for the remaining one-third (~4300) of the passengers, to be used as test data. Your task is to predict the value of Transported for the passengers in this set.\n",
    "\n",
    "sample_submission.csv - A submission file in the correct format.\n",
    "\n",
    "PassengerId - Id for each passenger in the test set.\n",
    "\n",
    "Transported - The target. For each passenger, predict either True or False."
   ]
  },
  {
   "cell_type": "code",
   "execution_count": 2,
   "id": "fa5de094",
   "metadata": {
    "execution": {
     "iopub.execute_input": "2024-11-19T17:52:06.155453Z",
     "iopub.status.busy": "2024-11-19T17:52:06.154154Z",
     "iopub.status.idle": "2024-11-19T17:52:08.094334Z",
     "shell.execute_reply": "2024-11-19T17:52:08.093472Z"
    },
    "papermill": {
     "duration": 1.962468,
     "end_time": "2024-11-19T17:52:08.096622",
     "exception": false,
     "start_time": "2024-11-19T17:52:06.134154",
     "status": "completed"
    },
    "tags": []
   },
   "outputs": [],
   "source": [
    "import pandas as pd\n",
    "import seaborn as sns\n",
    "import matplotlib.pyplot as plt\n",
    "from sklearn.tree import DecisionTreeClassifier\n",
    "from sklearn.metrics import ConfusionMatrixDisplay\n",
    "from sklearn.preprocessing import LabelEncoder\n",
    "from sklearn.model_selection import train_test_split"
   ]
  },
  {
   "cell_type": "markdown",
   "id": "c56ef8db",
   "metadata": {
    "papermill": {
     "duration": 0.018511,
     "end_time": "2024-11-19T17:52:08.134468",
     "exception": false,
     "start_time": "2024-11-19T17:52:08.115957",
     "status": "completed"
    },
    "tags": []
   },
   "source": [
    "**Reading the Data**"
   ]
  },
  {
   "cell_type": "code",
   "execution_count": 3,
   "id": "76887436",
   "metadata": {
    "execution": {
     "iopub.execute_input": "2024-11-19T17:52:08.174246Z",
     "iopub.status.busy": "2024-11-19T17:52:08.173642Z",
     "iopub.status.idle": "2024-11-19T17:52:08.265560Z",
     "shell.execute_reply": "2024-11-19T17:52:08.264719Z"
    },
    "papermill": {
     "duration": 0.11448,
     "end_time": "2024-11-19T17:52:08.267807",
     "exception": false,
     "start_time": "2024-11-19T17:52:08.153327",
     "status": "completed"
    },
    "tags": []
   },
   "outputs": [],
   "source": [
    "train = pd.read_csv('/kaggle/input/spaceship-titanic/train.csv')\n",
    "test = pd.read_csv('/kaggle/input/spaceship-titanic/test.csv')"
   ]
  },
  {
   "cell_type": "code",
   "execution_count": 4,
   "id": "689012da",
   "metadata": {
    "execution": {
     "iopub.execute_input": "2024-11-19T17:52:08.306759Z",
     "iopub.status.busy": "2024-11-19T17:52:08.306337Z",
     "iopub.status.idle": "2024-11-19T17:52:08.322889Z",
     "shell.execute_reply": "2024-11-19T17:52:08.321914Z"
    },
    "papermill": {
     "duration": 0.038235,
     "end_time": "2024-11-19T17:52:08.324829",
     "exception": false,
     "start_time": "2024-11-19T17:52:08.286594",
     "status": "completed"
    },
    "tags": []
   },
   "outputs": [
    {
     "data": {
      "text/plain": [
       "PassengerId       0\n",
       "HomePlanet      201\n",
       "CryoSleep       217\n",
       "Cabin           199\n",
       "Destination     182\n",
       "Age             179\n",
       "VIP             203\n",
       "RoomService     181\n",
       "FoodCourt       183\n",
       "ShoppingMall    208\n",
       "Spa             183\n",
       "VRDeck          188\n",
       "Name            200\n",
       "Transported       0\n",
       "dtype: int64"
      ]
     },
     "execution_count": 4,
     "metadata": {},
     "output_type": "execute_result"
    }
   ],
   "source": [
    "train.isna().sum()"
   ]
  },
  {
   "cell_type": "code",
   "execution_count": 5,
   "id": "3b8bef79",
   "metadata": {
    "execution": {
     "iopub.execute_input": "2024-11-19T17:52:08.364303Z",
     "iopub.status.busy": "2024-11-19T17:52:08.363540Z",
     "iopub.status.idle": "2024-11-19T17:52:08.372930Z",
     "shell.execute_reply": "2024-11-19T17:52:08.371895Z"
    },
    "papermill": {
     "duration": 0.03116,
     "end_time": "2024-11-19T17:52:08.374742",
     "exception": false,
     "start_time": "2024-11-19T17:52:08.343582",
     "status": "completed"
    },
    "tags": []
   },
   "outputs": [
    {
     "data": {
      "text/plain": [
       "PassengerId       0\n",
       "HomePlanet       87\n",
       "CryoSleep        93\n",
       "Cabin           100\n",
       "Destination      92\n",
       "Age              91\n",
       "VIP              93\n",
       "RoomService      82\n",
       "FoodCourt       106\n",
       "ShoppingMall     98\n",
       "Spa             101\n",
       "VRDeck           80\n",
       "Name             94\n",
       "dtype: int64"
      ]
     },
     "execution_count": 5,
     "metadata": {},
     "output_type": "execute_result"
    }
   ],
   "source": [
    "test.isna().sum()"
   ]
  },
  {
   "cell_type": "markdown",
   "id": "d9990430",
   "metadata": {
    "papermill": {
     "duration": 0.018659,
     "end_time": "2024-11-19T17:52:08.412471",
     "exception": false,
     "start_time": "2024-11-19T17:52:08.393812",
     "status": "completed"
    },
    "tags": []
   },
   "source": [
    "**Data Imputation**"
   ]
  },
  {
   "cell_type": "code",
   "execution_count": 6,
   "id": "a416270c",
   "metadata": {
    "execution": {
     "iopub.execute_input": "2024-11-19T17:52:08.452020Z",
     "iopub.status.busy": "2024-11-19T17:52:08.451617Z",
     "iopub.status.idle": "2024-11-19T17:52:08.489264Z",
     "shell.execute_reply": "2024-11-19T17:52:08.488432Z"
    },
    "papermill": {
     "duration": 0.05994,
     "end_time": "2024-11-19T17:52:08.491396",
     "exception": false,
     "start_time": "2024-11-19T17:52:08.431456",
     "status": "completed"
    },
    "tags": []
   },
   "outputs": [],
   "source": [
    "train['Group'] = train['PassengerId'].str.split('_').str[0]\n",
    "\n",
    "train['TotalExpenditure'] = train[['RoomService','FoodCourt','ShoppingMall','Spa','VRDeck']].sum(axis=1)\n",
    "\n",
    "train[['Deck','Num','Side']] = train['Cabin'].str.split('/',expand=True)\n",
    "\n",
    "train['Num'] = pd.to_numeric(train['Num'])"
   ]
  },
  {
   "cell_type": "code",
   "execution_count": 7,
   "id": "010c05bd",
   "metadata": {
    "execution": {
     "iopub.execute_input": "2024-11-19T17:52:08.531283Z",
     "iopub.status.busy": "2024-11-19T17:52:08.530520Z",
     "iopub.status.idle": "2024-11-19T17:52:08.551141Z",
     "shell.execute_reply": "2024-11-19T17:52:08.550354Z"
    },
    "papermill": {
     "duration": 0.042827,
     "end_time": "2024-11-19T17:52:08.553279",
     "exception": false,
     "start_time": "2024-11-19T17:52:08.510452",
     "status": "completed"
    },
    "tags": []
   },
   "outputs": [],
   "source": [
    "test['Group'] = test['PassengerId'].str.split('_').str[0]\n",
    "\n",
    "test['TotalExpenditure'] = test[['RoomService','FoodCourt','ShoppingMall','Spa','VRDeck']].sum(axis=1)\n",
    "\n",
    "test[['Deck','Num','Side']] = test['Cabin'].str.split('/',expand=True)\n",
    "\n",
    "test['Num'] = pd.to_numeric(test['Num'])"
   ]
  },
  {
   "cell_type": "markdown",
   "id": "4a9a8774",
   "metadata": {
    "papermill": {
     "duration": 0.018642,
     "end_time": "2024-11-19T17:52:08.591200",
     "exception": false,
     "start_time": "2024-11-19T17:52:08.572558",
     "status": "completed"
    },
    "tags": []
   },
   "source": [
    "**Replacing HomePlanet with HomePlanet of people in the same group**"
   ]
  },
  {
   "cell_type": "code",
   "execution_count": 8,
   "id": "c81647a9",
   "metadata": {
    "execution": {
     "iopub.execute_input": "2024-11-19T17:52:08.630958Z",
     "iopub.status.busy": "2024-11-19T17:52:08.630549Z",
     "iopub.status.idle": "2024-11-19T17:52:33.335352Z",
     "shell.execute_reply": "2024-11-19T17:52:33.334247Z"
    },
    "papermill": {
     "duration": 24.727797,
     "end_time": "2024-11-19T17:52:33.337879",
     "exception": false,
     "start_time": "2024-11-19T17:52:08.610082",
     "status": "completed"
    },
    "tags": []
   },
   "outputs": [],
   "source": [
    "for group in train['Group'].unique():\n",
    "    homeplanet_mode = train.loc[train['Group'] == group,'HomePlanet'].mode()\n",
    "    \n",
    "    if not homeplanet_mode.empty:\n",
    "        train.loc[(train['Group'] == group) & (train['HomePlanet'].isnull()),'HomePlanet'] = homeplanet_mode[0]\n",
    "\n",
    "\n",
    "for group in test['Group'].unique():\n",
    "    homeplanet_mode = test.loc[test['Group'] == group,'HomePlanet'].mode()\n",
    "    \n",
    "    if not homeplanet_mode.empty:\n",
    "        test.loc[(test['Group'] == group) & (test['HomePlanet'].isnull()),'HomePlanet'] = homeplanet_mode[0]"
   ]
  },
  {
   "cell_type": "code",
   "execution_count": 9,
   "id": "f87d61da",
   "metadata": {
    "execution": {
     "iopub.execute_input": "2024-11-19T17:52:33.377758Z",
     "iopub.status.busy": "2024-11-19T17:52:33.377343Z",
     "iopub.status.idle": "2024-11-19T17:52:33.384612Z",
     "shell.execute_reply": "2024-11-19T17:52:33.383731Z"
    },
    "papermill": {
     "duration": 0.02943,
     "end_time": "2024-11-19T17:52:33.386424",
     "exception": false,
     "start_time": "2024-11-19T17:52:33.356994",
     "status": "completed"
    },
    "tags": []
   },
   "outputs": [
    {
     "data": {
      "text/plain": [
       "111"
      ]
     },
     "execution_count": 9,
     "metadata": {},
     "output_type": "execute_result"
    }
   ],
   "source": [
    "train['HomePlanet'].isna().sum()"
   ]
  },
  {
   "cell_type": "code",
   "execution_count": 10,
   "id": "fac6c7ef",
   "metadata": {
    "execution": {
     "iopub.execute_input": "2024-11-19T17:52:33.426408Z",
     "iopub.status.busy": "2024-11-19T17:52:33.425547Z",
     "iopub.status.idle": "2024-11-19T17:52:33.436944Z",
     "shell.execute_reply": "2024-11-19T17:52:33.435987Z"
    },
    "papermill": {
     "duration": 0.033363,
     "end_time": "2024-11-19T17:52:33.438832",
     "exception": false,
     "start_time": "2024-11-19T17:52:33.405469",
     "status": "completed"
    },
    "tags": []
   },
   "outputs": [
    {
     "data": {
      "text/plain": [
       "HomePlanet\n",
       "Earth     4634\n",
       "Europa    2161\n",
       "Mars      1787\n",
       "Name: count, dtype: int64"
      ]
     },
     "execution_count": 10,
     "metadata": {},
     "output_type": "execute_result"
    }
   ],
   "source": [
    "train['HomePlanet'].value_counts()"
   ]
  },
  {
   "cell_type": "code",
   "execution_count": 11,
   "id": "43935234",
   "metadata": {
    "execution": {
     "iopub.execute_input": "2024-11-19T17:52:33.478546Z",
     "iopub.status.busy": "2024-11-19T17:52:33.478175Z",
     "iopub.status.idle": "2024-11-19T17:52:33.484172Z",
     "shell.execute_reply": "2024-11-19T17:52:33.483412Z"
    },
    "papermill": {
     "duration": 0.028168,
     "end_time": "2024-11-19T17:52:33.486037",
     "exception": false,
     "start_time": "2024-11-19T17:52:33.457869",
     "status": "completed"
    },
    "tags": []
   },
   "outputs": [],
   "source": [
    "train['HomePlanet'] = train['HomePlanet'].fillna('Mars')"
   ]
  },
  {
   "cell_type": "code",
   "execution_count": 12,
   "id": "070beb30",
   "metadata": {
    "execution": {
     "iopub.execute_input": "2024-11-19T17:52:33.526203Z",
     "iopub.status.busy": "2024-11-19T17:52:33.525532Z",
     "iopub.status.idle": "2024-11-19T17:52:33.533509Z",
     "shell.execute_reply": "2024-11-19T17:52:33.532527Z"
    },
    "papermill": {
     "duration": 0.030121,
     "end_time": "2024-11-19T17:52:33.535291",
     "exception": false,
     "start_time": "2024-11-19T17:52:33.505170",
     "status": "completed"
    },
    "tags": []
   },
   "outputs": [
    {
     "data": {
      "text/plain": [
       "HomePlanet\n",
       "Earth     2280\n",
       "Europa    1014\n",
       "Mars       937\n",
       "Name: count, dtype: int64"
      ]
     },
     "execution_count": 12,
     "metadata": {},
     "output_type": "execute_result"
    }
   ],
   "source": [
    "test['HomePlanet'].value_counts()"
   ]
  },
  {
   "cell_type": "code",
   "execution_count": 13,
   "id": "4df4ec19",
   "metadata": {
    "execution": {
     "iopub.execute_input": "2024-11-19T17:52:33.622948Z",
     "iopub.status.busy": "2024-11-19T17:52:33.622198Z",
     "iopub.status.idle": "2024-11-19T17:52:33.627961Z",
     "shell.execute_reply": "2024-11-19T17:52:33.627011Z"
    },
    "papermill": {
     "duration": 0.07535,
     "end_time": "2024-11-19T17:52:33.629834",
     "exception": false,
     "start_time": "2024-11-19T17:52:33.554484",
     "status": "completed"
    },
    "tags": []
   },
   "outputs": [],
   "source": [
    "test['HomePlane'] = test['HomePlanet'].fillna('Mars')"
   ]
  },
  {
   "cell_type": "code",
   "execution_count": 14,
   "id": "9fb241c5",
   "metadata": {
    "execution": {
     "iopub.execute_input": "2024-11-19T17:52:33.670223Z",
     "iopub.status.busy": "2024-11-19T17:52:33.669483Z",
     "iopub.status.idle": "2024-11-19T17:52:33.676607Z",
     "shell.execute_reply": "2024-11-19T17:52:33.675623Z"
    },
    "papermill": {
     "duration": 0.029504,
     "end_time": "2024-11-19T17:52:33.678587",
     "exception": false,
     "start_time": "2024-11-19T17:52:33.649083",
     "status": "completed"
    },
    "tags": []
   },
   "outputs": [
    {
     "data": {
      "text/plain": [
       "0"
      ]
     },
     "execution_count": 14,
     "metadata": {},
     "output_type": "execute_result"
    }
   ],
   "source": [
    "train['HomePlanet'].isna().sum()"
   ]
  },
  {
   "cell_type": "code",
   "execution_count": 15,
   "id": "6e373908",
   "metadata": {
    "execution": {
     "iopub.execute_input": "2024-11-19T17:52:33.721212Z",
     "iopub.status.busy": "2024-11-19T17:52:33.720332Z",
     "iopub.status.idle": "2024-11-19T17:52:33.726192Z",
     "shell.execute_reply": "2024-11-19T17:52:33.725197Z"
    },
    "papermill": {
     "duration": 0.030115,
     "end_time": "2024-11-19T17:52:33.728232",
     "exception": false,
     "start_time": "2024-11-19T17:52:33.698117",
     "status": "completed"
    },
    "tags": []
   },
   "outputs": [],
   "source": [
    "test['HomePlane'] = test['HomePlanet'].fillna('Mars')"
   ]
  },
  {
   "cell_type": "code",
   "execution_count": 16,
   "id": "08f32897",
   "metadata": {
    "execution": {
     "iopub.execute_input": "2024-11-19T17:52:33.768952Z",
     "iopub.status.busy": "2024-11-19T17:52:33.768444Z",
     "iopub.status.idle": "2024-11-19T17:52:33.774471Z",
     "shell.execute_reply": "2024-11-19T17:52:33.773537Z"
    },
    "papermill": {
     "duration": 0.029027,
     "end_time": "2024-11-19T17:52:33.776809",
     "exception": false,
     "start_time": "2024-11-19T17:52:33.747782",
     "status": "completed"
    },
    "tags": []
   },
   "outputs": [
    {
     "name": "stdout",
     "output_type": "stream",
     "text": [
      "PassengerId                 0616_01\n",
      "HomePlanet                      NaN\n",
      "CryoSleep                     False\n",
      "Cabin                        E/40/S\n",
      "Destination             TRAPPIST-1e\n",
      "Age                            31.0\n",
      "VIP                           False\n",
      "RoomService                     0.0\n",
      "FoodCourt                     428.0\n",
      "ShoppingMall                    NaN\n",
      "Spa                          1154.0\n",
      "VRDeck                       1025.0\n",
      "Name                Arkaban Spriney\n",
      "Group                          0616\n",
      "TotalExpenditure             2607.0\n",
      "Deck                              E\n",
      "Num                            40.0\n",
      "Side                              S\n",
      "HomePlane                      Mars\n",
      "Name: 276, dtype: object\n"
     ]
    }
   ],
   "source": [
    "print(test.loc[276])"
   ]
  },
  {
   "cell_type": "code",
   "execution_count": 17,
   "id": "3ef8215f",
   "metadata": {
    "execution": {
     "iopub.execute_input": "2024-11-19T17:52:33.818190Z",
     "iopub.status.busy": "2024-11-19T17:52:33.817270Z",
     "iopub.status.idle": "2024-11-19T17:52:33.823288Z",
     "shell.execute_reply": "2024-11-19T17:52:33.822348Z"
    },
    "papermill": {
     "duration": 0.029202,
     "end_time": "2024-11-19T17:52:33.825486",
     "exception": false,
     "start_time": "2024-11-19T17:52:33.796284",
     "status": "completed"
    },
    "tags": []
   },
   "outputs": [
    {
     "name": "stdout",
     "output_type": "stream",
     "text": [
      "0\n"
     ]
    }
   ],
   "source": [
    "print((test['HomePlanet'] == '').sum())  "
   ]
  },
  {
   "cell_type": "code",
   "execution_count": 18,
   "id": "bf2c94a4",
   "metadata": {
    "execution": {
     "iopub.execute_input": "2024-11-19T17:52:33.866912Z",
     "iopub.status.busy": "2024-11-19T17:52:33.866129Z",
     "iopub.status.idle": "2024-11-19T17:52:33.871446Z",
     "shell.execute_reply": "2024-11-19T17:52:33.870552Z"
    },
    "papermill": {
     "duration": 0.028358,
     "end_time": "2024-11-19T17:52:33.873823",
     "exception": false,
     "start_time": "2024-11-19T17:52:33.845465",
     "status": "completed"
    },
    "tags": []
   },
   "outputs": [
    {
     "name": "stdout",
     "output_type": "stream",
     "text": [
      "['Earth' 'Europa' 'Mars' nan]\n"
     ]
    }
   ],
   "source": [
    "print(test['HomePlanet'].unique()) "
   ]
  },
  {
   "cell_type": "code",
   "execution_count": 19,
   "id": "17b41750",
   "metadata": {
    "execution": {
     "iopub.execute_input": "2024-11-19T17:52:33.914932Z",
     "iopub.status.busy": "2024-11-19T17:52:33.914211Z",
     "iopub.status.idle": "2024-11-19T17:52:33.920259Z",
     "shell.execute_reply": "2024-11-19T17:52:33.919319Z"
    },
    "papermill": {
     "duration": 0.028604,
     "end_time": "2024-11-19T17:52:33.922232",
     "exception": false,
     "start_time": "2024-11-19T17:52:33.893628",
     "status": "completed"
    },
    "tags": []
   },
   "outputs": [],
   "source": [
    "test.loc[test['HomePlanet'].isna(), 'HomePlanet'] = 'Mars'"
   ]
  },
  {
   "cell_type": "code",
   "execution_count": 20,
   "id": "90139886",
   "metadata": {
    "execution": {
     "iopub.execute_input": "2024-11-19T17:52:33.964468Z",
     "iopub.status.busy": "2024-11-19T17:52:33.963744Z",
     "iopub.status.idle": "2024-11-19T17:52:33.970588Z",
     "shell.execute_reply": "2024-11-19T17:52:33.969594Z"
    },
    "papermill": {
     "duration": 0.030126,
     "end_time": "2024-11-19T17:52:33.972572",
     "exception": false,
     "start_time": "2024-11-19T17:52:33.942446",
     "status": "completed"
    },
    "tags": []
   },
   "outputs": [
    {
     "data": {
      "text/plain": [
       "0"
      ]
     },
     "execution_count": 20,
     "metadata": {},
     "output_type": "execute_result"
    }
   ],
   "source": [
    "test['HomePlanet'].isna().sum()"
   ]
  },
  {
   "cell_type": "markdown",
   "id": "a31d10b7",
   "metadata": {
    "papermill": {
     "duration": 0.019547,
     "end_time": "2024-11-19T17:52:34.011807",
     "exception": false,
     "start_time": "2024-11-19T17:52:33.992260",
     "status": "completed"
    },
    "tags": []
   },
   "source": [
    "**Replcing missing expenditures with 0 assuming they have spent nothing**"
   ]
  },
  {
   "cell_type": "code",
   "execution_count": 21,
   "id": "5afa823e",
   "metadata": {
    "execution": {
     "iopub.execute_input": "2024-11-19T17:52:34.052618Z",
     "iopub.status.busy": "2024-11-19T17:52:34.052246Z",
     "iopub.status.idle": "2024-11-19T17:52:34.063456Z",
     "shell.execute_reply": "2024-11-19T17:52:34.062650Z"
    },
    "papermill": {
     "duration": 0.034241,
     "end_time": "2024-11-19T17:52:34.065632",
     "exception": false,
     "start_time": "2024-11-19T17:52:34.031391",
     "status": "completed"
    },
    "tags": []
   },
   "outputs": [],
   "source": [
    "\n",
    "train['RoomService'] = train['RoomService'].fillna(0)\n",
    "train['FoodCourt'] = train['FoodCourt'].fillna(0)\n",
    "train['ShoppingMall'] = train['ShoppingMall'].fillna(0)\n",
    "train['Spa'] = train['Spa'].fillna(0)\n",
    "train['VRDeck'] = train['VRDeck'].fillna(0)\n",
    "\n",
    "\n",
    "test['RoomService'] = test['RoomService'].fillna(0)\n",
    "test['FoodCourt'] = test['FoodCourt'].fillna(0)\n",
    "test['ShoppingMall'] = test['ShoppingMall'].fillna(0)\n",
    "test['Spa'] = test['Spa'].fillna(0)\n",
    "test['VRDeck'] = test['VRDeck'].fillna(0)"
   ]
  },
  {
   "cell_type": "markdown",
   "id": "84b4bb06",
   "metadata": {
    "papermill": {
     "duration": 0.019835,
     "end_time": "2024-11-19T17:52:34.105098",
     "exception": false,
     "start_time": "2024-11-19T17:52:34.085263",
     "status": "completed"
    },
    "tags": []
   },
   "source": [
    "**If Passengers has spent nothing that might imply that they have been put to CryoSleep**"
   ]
  },
  {
   "cell_type": "code",
   "execution_count": 22,
   "id": "99c8882b",
   "metadata": {
    "execution": {
     "iopub.execute_input": "2024-11-19T17:52:34.145659Z",
     "iopub.status.busy": "2024-11-19T17:52:34.145310Z",
     "iopub.status.idle": "2024-11-19T17:52:34.154313Z",
     "shell.execute_reply": "2024-11-19T17:52:34.153509Z"
    },
    "papermill": {
     "duration": 0.031547,
     "end_time": "2024-11-19T17:52:34.156120",
     "exception": false,
     "start_time": "2024-11-19T17:52:34.124573",
     "status": "completed"
    },
    "tags": []
   },
   "outputs": [],
   "source": [
    "train.loc[train['CryoSleep'].isnull(), 'CryoSleep'] = train['TotalExpenditure'] == 0\n",
    "test.loc[train['CryoSleep'].isnull(), 'CryoSleep'] = test['TotalExpenditure'] == 0"
   ]
  },
  {
   "cell_type": "code",
   "execution_count": 23,
   "id": "f87a828a",
   "metadata": {
    "execution": {
     "iopub.execute_input": "2024-11-19T17:52:34.198578Z",
     "iopub.status.busy": "2024-11-19T17:52:34.197823Z",
     "iopub.status.idle": "2024-11-19T17:52:34.205267Z",
     "shell.execute_reply": "2024-11-19T17:52:34.204230Z"
    },
    "papermill": {
     "duration": 0.030503,
     "end_time": "2024-11-19T17:52:34.207096",
     "exception": false,
     "start_time": "2024-11-19T17:52:34.176593",
     "status": "completed"
    },
    "tags": []
   },
   "outputs": [
    {
     "data": {
      "text/plain": [
       "0"
      ]
     },
     "execution_count": 23,
     "metadata": {},
     "output_type": "execute_result"
    }
   ],
   "source": [
    "train['CryoSleep'].isna().sum()"
   ]
  },
  {
   "cell_type": "code",
   "execution_count": 24,
   "id": "8e166b98",
   "metadata": {
    "execution": {
     "iopub.execute_input": "2024-11-19T17:52:34.248533Z",
     "iopub.status.busy": "2024-11-19T17:52:34.247788Z",
     "iopub.status.idle": "2024-11-19T17:52:34.254638Z",
     "shell.execute_reply": "2024-11-19T17:52:34.253734Z"
    },
    "papermill": {
     "duration": 0.029639,
     "end_time": "2024-11-19T17:52:34.256640",
     "exception": false,
     "start_time": "2024-11-19T17:52:34.227001",
     "status": "completed"
    },
    "tags": []
   },
   "outputs": [
    {
     "data": {
      "text/plain": [
       "93"
      ]
     },
     "execution_count": 24,
     "metadata": {},
     "output_type": "execute_result"
    }
   ],
   "source": [
    "test['CryoSleep'].isna().sum()"
   ]
  },
  {
   "cell_type": "code",
   "execution_count": 25,
   "id": "2da3a184",
   "metadata": {
    "execution": {
     "iopub.execute_input": "2024-11-19T17:52:34.298434Z",
     "iopub.status.busy": "2024-11-19T17:52:34.297540Z",
     "iopub.status.idle": "2024-11-19T17:52:34.303367Z",
     "shell.execute_reply": "2024-11-19T17:52:34.302479Z"
    },
    "papermill": {
     "duration": 0.028592,
     "end_time": "2024-11-19T17:52:34.305239",
     "exception": false,
     "start_time": "2024-11-19T17:52:34.276647",
     "status": "completed"
    },
    "tags": []
   },
   "outputs": [],
   "source": [
    "test.loc[test['CryoSleep'].isna(), 'CryoSleep'] = True"
   ]
  },
  {
   "cell_type": "code",
   "execution_count": 26,
   "id": "55e96e55",
   "metadata": {
    "execution": {
     "iopub.execute_input": "2024-11-19T17:52:34.346875Z",
     "iopub.status.busy": "2024-11-19T17:52:34.346128Z",
     "iopub.status.idle": "2024-11-19T17:52:34.352665Z",
     "shell.execute_reply": "2024-11-19T17:52:34.351771Z"
    },
    "papermill": {
     "duration": 0.029376,
     "end_time": "2024-11-19T17:52:34.354634",
     "exception": false,
     "start_time": "2024-11-19T17:52:34.325258",
     "status": "completed"
    },
    "tags": []
   },
   "outputs": [
    {
     "data": {
      "text/plain": [
       "0"
      ]
     },
     "execution_count": 26,
     "metadata": {},
     "output_type": "execute_result"
    }
   ],
   "source": [
    "test['CryoSleep'].isna().sum()"
   ]
  },
  {
   "cell_type": "code",
   "execution_count": 27,
   "id": "f578af2f",
   "metadata": {
    "execution": {
     "iopub.execute_input": "2024-11-19T17:52:34.396105Z",
     "iopub.status.busy": "2024-11-19T17:52:34.395477Z",
     "iopub.status.idle": "2024-11-19T17:52:34.402624Z",
     "shell.execute_reply": "2024-11-19T17:52:34.401859Z"
    },
    "papermill": {
     "duration": 0.029963,
     "end_time": "2024-11-19T17:52:34.404488",
     "exception": false,
     "start_time": "2024-11-19T17:52:34.374525",
     "status": "completed"
    },
    "tags": []
   },
   "outputs": [],
   "source": [
    "test.loc[train['CryoSleep'].isnull(), 'CryoSleep'] = True"
   ]
  },
  {
   "cell_type": "code",
   "execution_count": 28,
   "id": "6f19efaf",
   "metadata": {
    "execution": {
     "iopub.execute_input": "2024-11-19T17:52:34.446412Z",
     "iopub.status.busy": "2024-11-19T17:52:34.445584Z",
     "iopub.status.idle": "2024-11-19T17:52:34.456545Z",
     "shell.execute_reply": "2024-11-19T17:52:34.455595Z"
    },
    "papermill": {
     "duration": 0.03386,
     "end_time": "2024-11-19T17:52:34.458428",
     "exception": false,
     "start_time": "2024-11-19T17:52:34.424568",
     "status": "completed"
    },
    "tags": []
   },
   "outputs": [
    {
     "data": {
      "text/plain": [
       "PassengerId           0\n",
       "HomePlanet            0\n",
       "CryoSleep             0\n",
       "Cabin               100\n",
       "Destination          92\n",
       "Age                  91\n",
       "VIP                  93\n",
       "RoomService           0\n",
       "FoodCourt             0\n",
       "ShoppingMall          0\n",
       "Spa                   0\n",
       "VRDeck                0\n",
       "Name                 94\n",
       "Group                 0\n",
       "TotalExpenditure      0\n",
       "Deck                100\n",
       "Num                 100\n",
       "Side                100\n",
       "HomePlane             0\n",
       "dtype: int64"
      ]
     },
     "execution_count": 28,
     "metadata": {},
     "output_type": "execute_result"
    }
   ],
   "source": [
    "test.isna().sum()"
   ]
  },
  {
   "cell_type": "markdown",
   "id": "ff8f89ff",
   "metadata": {
    "papermill": {
     "duration": 0.019705,
     "end_time": "2024-11-19T17:52:34.498224",
     "exception": false,
     "start_time": "2024-11-19T17:52:34.478519",
     "status": "completed"
    },
    "tags": []
   },
   "source": [
    "**Replacing missing Destination with Destination of each group**"
   ]
  },
  {
   "cell_type": "code",
   "execution_count": 29,
   "id": "383f58af",
   "metadata": {
    "execution": {
     "iopub.execute_input": "2024-11-19T17:52:34.539848Z",
     "iopub.status.busy": "2024-11-19T17:52:34.539441Z",
     "iopub.status.idle": "2024-11-19T17:52:59.255154Z",
     "shell.execute_reply": "2024-11-19T17:52:59.254266Z"
    },
    "papermill": {
     "duration": 24.739155,
     "end_time": "2024-11-19T17:52:59.257494",
     "exception": false,
     "start_time": "2024-11-19T17:52:34.518339",
     "status": "completed"
    },
    "tags": []
   },
   "outputs": [],
   "source": [
    "for group in train['Group'].unique():\n",
    "    destination_mode = train.loc[train['Group'] == group, 'Destination'].mode()\n",
    "    \n",
    "    if not destination_mode.empty:\n",
    "        train.loc[(train['Group'] == group) & (train['Destination'].isnull()),'Destination'] = destination_mode[0]\n",
    "    \n",
    "for group in test['Group'].unique():\n",
    "    destination_mode = test.loc[test['Group'] == group, 'Destination'].mode()\n",
    "    \n",
    "    if not destination_mode.empty:\n",
    "        test.loc[(test['Group'] == group) & (test['Destination'].isnull()),'Destination'] = destination_mode[0]\n",
    "    \n",
    "    "
   ]
  },
  {
   "cell_type": "code",
   "execution_count": 30,
   "id": "b5a3166e",
   "metadata": {
    "execution": {
     "iopub.execute_input": "2024-11-19T17:52:59.300323Z",
     "iopub.status.busy": "2024-11-19T17:52:59.299927Z",
     "iopub.status.idle": "2024-11-19T17:52:59.308437Z",
     "shell.execute_reply": "2024-11-19T17:52:59.307481Z"
    },
    "papermill": {
     "duration": 0.032343,
     "end_time": "2024-11-19T17:52:59.310450",
     "exception": false,
     "start_time": "2024-11-19T17:52:59.278107",
     "status": "completed"
    },
    "tags": []
   },
   "outputs": [
    {
     "data": {
      "text/plain": [
       "Destination\n",
       "TRAPPIST-1e      5969\n",
       "55 Cancri e      1816\n",
       "PSO J318.5-22     805\n",
       "Name: count, dtype: int64"
      ]
     },
     "execution_count": 30,
     "metadata": {},
     "output_type": "execute_result"
    }
   ],
   "source": [
    "train['Destination'].value_counts()"
   ]
  },
  {
   "cell_type": "code",
   "execution_count": 31,
   "id": "b25d7e70",
   "metadata": {
    "execution": {
     "iopub.execute_input": "2024-11-19T17:52:59.352179Z",
     "iopub.status.busy": "2024-11-19T17:52:59.351798Z",
     "iopub.status.idle": "2024-11-19T17:52:59.358196Z",
     "shell.execute_reply": "2024-11-19T17:52:59.357324Z"
    },
    "papermill": {
     "duration": 0.029525,
     "end_time": "2024-11-19T17:52:59.360066",
     "exception": false,
     "start_time": "2024-11-19T17:52:59.330541",
     "status": "completed"
    },
    "tags": []
   },
   "outputs": [],
   "source": [
    "train['Destination'] = train['Destination'].fillna('PSO J318.5-22')"
   ]
  },
  {
   "cell_type": "code",
   "execution_count": 32,
   "id": "3b6a76c5",
   "metadata": {
    "execution": {
     "iopub.execute_input": "2024-11-19T17:52:59.402488Z",
     "iopub.status.busy": "2024-11-19T17:52:59.401755Z",
     "iopub.status.idle": "2024-11-19T17:52:59.409676Z",
     "shell.execute_reply": "2024-11-19T17:52:59.408738Z"
    },
    "papermill": {
     "duration": 0.03149,
     "end_time": "2024-11-19T17:52:59.411753",
     "exception": false,
     "start_time": "2024-11-19T17:52:59.380263",
     "status": "completed"
    },
    "tags": []
   },
   "outputs": [
    {
     "data": {
      "text/plain": [
       "Destination\n",
       "TRAPPIST-1e      2985\n",
       "55 Cancri e       850\n",
       "PSO J318.5-22     391\n",
       "Name: count, dtype: int64"
      ]
     },
     "execution_count": 32,
     "metadata": {},
     "output_type": "execute_result"
    }
   ],
   "source": [
    "test['Destination'].value_counts()"
   ]
  },
  {
   "cell_type": "code",
   "execution_count": 33,
   "id": "94350b2f",
   "metadata": {
    "execution": {
     "iopub.execute_input": "2024-11-19T17:52:59.453912Z",
     "iopub.status.busy": "2024-11-19T17:52:59.453519Z",
     "iopub.status.idle": "2024-11-19T17:52:59.459272Z",
     "shell.execute_reply": "2024-11-19T17:52:59.458300Z"
    },
    "papermill": {
     "duration": 0.028963,
     "end_time": "2024-11-19T17:52:59.461107",
     "exception": false,
     "start_time": "2024-11-19T17:52:59.432144",
     "status": "completed"
    },
    "tags": []
   },
   "outputs": [],
   "source": [
    "test['Destination'] = test['Destination'].fillna('PSO J318.5-22')"
   ]
  },
  {
   "cell_type": "markdown",
   "id": "bb8b9fea",
   "metadata": {
    "papermill": {
     "duration": 0.020422,
     "end_time": "2024-11-19T17:52:59.501808",
     "exception": false,
     "start_time": "2024-11-19T17:52:59.481386",
     "status": "completed"
    },
    "tags": []
   },
   "source": [
    "**Repalcing Age with mean Age of each group**"
   ]
  },
  {
   "cell_type": "code",
   "execution_count": 34,
   "id": "bc65ab20",
   "metadata": {
    "execution": {
     "iopub.execute_input": "2024-11-19T17:52:59.544103Z",
     "iopub.status.busy": "2024-11-19T17:52:59.543682Z",
     "iopub.status.idle": "2024-11-19T17:53:20.514779Z",
     "shell.execute_reply": "2024-11-19T17:53:20.513664Z"
    },
    "papermill": {
     "duration": 20.994857,
     "end_time": "2024-11-19T17:53:20.517084",
     "exception": false,
     "start_time": "2024-11-19T17:52:59.522227",
     "status": "completed"
    },
    "tags": []
   },
   "outputs": [],
   "source": [
    "for group in train['Group'].unique():\n",
    "    age_mean = train.loc[train['Group'] == group, 'Age'].mean()\n",
    "    \n",
    "    train.loc[(train['Group'] == group) & (train['Age'].isna()),'Age'] = age_mean\n",
    "\n",
    "for group in test['Group'].unique():\n",
    "    age_mean = test.loc[test['Group'] == group, 'Age'].mean()\n",
    "    \n",
    "    test.loc[(test['Group'] == group) & (test['Age'].isna()),'Age'] = age_mean"
   ]
  },
  {
   "cell_type": "code",
   "execution_count": 35,
   "id": "610a4ee6",
   "metadata": {
    "execution": {
     "iopub.execute_input": "2024-11-19T17:53:20.560654Z",
     "iopub.status.busy": "2024-11-19T17:53:20.559544Z",
     "iopub.status.idle": "2024-11-19T17:53:20.567715Z",
     "shell.execute_reply": "2024-11-19T17:53:20.566747Z"
    },
    "papermill": {
     "duration": 0.031658,
     "end_time": "2024-11-19T17:53:20.569647",
     "exception": false,
     "start_time": "2024-11-19T17:53:20.537989",
     "status": "completed"
    },
    "tags": []
   },
   "outputs": [
    {
     "data": {
      "text/plain": [
       "47"
      ]
     },
     "execution_count": 35,
     "metadata": {},
     "output_type": "execute_result"
    }
   ],
   "source": [
    "train['Age'].isna().sum()\n",
    "test['Age'].isna().sum()"
   ]
  },
  {
   "cell_type": "code",
   "execution_count": 36,
   "id": "0c3f776d",
   "metadata": {
    "execution": {
     "iopub.execute_input": "2024-11-19T17:53:20.611987Z",
     "iopub.status.busy": "2024-11-19T17:53:20.611565Z",
     "iopub.status.idle": "2024-11-19T17:53:20.618330Z",
     "shell.execute_reply": "2024-11-19T17:53:20.617361Z"
    },
    "papermill": {
     "duration": 0.030233,
     "end_time": "2024-11-19T17:53:20.620438",
     "exception": false,
     "start_time": "2024-11-19T17:53:20.590205",
     "status": "completed"
    },
    "tags": []
   },
   "outputs": [],
   "source": [
    "train['Age'] = train['Age'].fillna(train['Age'].mean())\n",
    "test['Age'] = test['Age'].fillna(test['Age'].mean())"
   ]
  },
  {
   "cell_type": "markdown",
   "id": "597775f2",
   "metadata": {
    "papermill": {
     "duration": 0.020301,
     "end_time": "2024-11-19T17:53:20.661541",
     "exception": false,
     "start_time": "2024-11-19T17:53:20.641240",
     "status": "completed"
    },
    "tags": []
   },
   "source": [
    "**Replacing Side, Deck with Side, Deck of people in the same group assuming people from same group would sit together**"
   ]
  },
  {
   "cell_type": "code",
   "execution_count": 37,
   "id": "ab7b4db7",
   "metadata": {
    "execution": {
     "iopub.execute_input": "2024-11-19T17:53:20.704609Z",
     "iopub.status.busy": "2024-11-19T17:53:20.703653Z",
     "iopub.status.idle": "2024-11-19T17:53:45.119813Z",
     "shell.execute_reply": "2024-11-19T17:53:45.118980Z"
    },
    "papermill": {
     "duration": 24.439982,
     "end_time": "2024-11-19T17:53:45.122086",
     "exception": false,
     "start_time": "2024-11-19T17:53:20.682104",
     "status": "completed"
    },
    "tags": []
   },
   "outputs": [],
   "source": [
    "for group in train['Group'].unique():\n",
    "    deck_mode = train.loc[train['Group'] == group, 'Deck'].mode()\n",
    "    \n",
    "    if not deck_mode.empty:\n",
    "        train.loc[(train['Group'] == group) & (train['Deck'].isna()), 'Deck'] = deck_mode[0]\n",
    "\n",
    "for group in test['Group'].unique():\n",
    "    deck_mode = test.loc[test['Group'] == group, 'Deck'].mode()\n",
    "    \n",
    "    if not deck_mode.empty:\n",
    "        test.loc[(test['Group'] == group) & (test['Deck'].isna()), 'Deck'] = deck_mode[0]"
   ]
  },
  {
   "cell_type": "code",
   "execution_count": 38,
   "id": "b455ac17",
   "metadata": {
    "execution": {
     "iopub.execute_input": "2024-11-19T17:53:45.165560Z",
     "iopub.status.busy": "2024-11-19T17:53:45.165189Z",
     "iopub.status.idle": "2024-11-19T17:54:09.729427Z",
     "shell.execute_reply": "2024-11-19T17:54:09.728545Z"
    },
    "papermill": {
     "duration": 24.588211,
     "end_time": "2024-11-19T17:54:09.731755",
     "exception": false,
     "start_time": "2024-11-19T17:53:45.143544",
     "status": "completed"
    },
    "tags": []
   },
   "outputs": [],
   "source": [
    "\n",
    "for group in train['Group'].unique():\n",
    "    deck_mode = train.loc[train['Group'] == group, 'Side'].mode()\n",
    "    \n",
    "    if not deck_mode.empty:\n",
    "        train.loc[(train['Group'] == group) & (train['Side'].isna()), 'Side'] = deck_mode[0]\n",
    "\n",
    "for group in test['Group'].unique():\n",
    "    deck_mode = test.loc[test['Group'] == group, 'Side'].mode()\n",
    "    \n",
    "    if not deck_mode.empty:\n",
    "        test.loc[(test['Group'] == group) & (test['Side'].isna()), 'Side'] = deck_mode[0]"
   ]
  },
  {
   "cell_type": "code",
   "execution_count": 39,
   "id": "f32fd224",
   "metadata": {
    "execution": {
     "iopub.execute_input": "2024-11-19T17:54:09.775068Z",
     "iopub.status.busy": "2024-11-19T17:54:09.774244Z",
     "iopub.status.idle": "2024-11-19T17:54:09.788570Z",
     "shell.execute_reply": "2024-11-19T17:54:09.787569Z"
    },
    "papermill": {
     "duration": 0.037925,
     "end_time": "2024-11-19T17:54:09.790519",
     "exception": false,
     "start_time": "2024-11-19T17:54:09.752594",
     "status": "completed"
    },
    "tags": []
   },
   "outputs": [
    {
     "data": {
      "text/plain": [
       "PassengerId           0\n",
       "HomePlanet            0\n",
       "CryoSleep             0\n",
       "Cabin               199\n",
       "Destination           0\n",
       "Age                   0\n",
       "VIP                 203\n",
       "RoomService           0\n",
       "FoodCourt             0\n",
       "ShoppingMall          0\n",
       "Spa                   0\n",
       "VRDeck                0\n",
       "Name                200\n",
       "Transported           0\n",
       "Group                 0\n",
       "TotalExpenditure      0\n",
       "Deck                 99\n",
       "Num                 199\n",
       "Side                 99\n",
       "dtype: int64"
      ]
     },
     "execution_count": 39,
     "metadata": {},
     "output_type": "execute_result"
    }
   ],
   "source": [
    "train.isna().sum()"
   ]
  },
  {
   "cell_type": "code",
   "execution_count": 40,
   "id": "b4d2ae08",
   "metadata": {
    "execution": {
     "iopub.execute_input": "2024-11-19T17:54:09.847487Z",
     "iopub.status.busy": "2024-11-19T17:54:09.847089Z",
     "iopub.status.idle": "2024-11-19T17:54:09.860966Z",
     "shell.execute_reply": "2024-11-19T17:54:09.859713Z"
    },
    "papermill": {
     "duration": 0.044822,
     "end_time": "2024-11-19T17:54:09.863314",
     "exception": false,
     "start_time": "2024-11-19T17:54:09.818492",
     "status": "completed"
    },
    "tags": []
   },
   "outputs": [
    {
     "data": {
      "text/plain": [
       "PassengerId           0\n",
       "HomePlanet            0\n",
       "CryoSleep             0\n",
       "Cabin               100\n",
       "Destination           0\n",
       "Age                   0\n",
       "VIP                  93\n",
       "RoomService           0\n",
       "FoodCourt             0\n",
       "ShoppingMall          0\n",
       "Spa                   0\n",
       "VRDeck                0\n",
       "Name                 94\n",
       "Group                 0\n",
       "TotalExpenditure      0\n",
       "Deck                 63\n",
       "Num                 100\n",
       "Side                 63\n",
       "HomePlane             0\n",
       "dtype: int64"
      ]
     },
     "execution_count": 40,
     "metadata": {},
     "output_type": "execute_result"
    }
   ],
   "source": [
    "test.isna().sum()"
   ]
  },
  {
   "cell_type": "code",
   "execution_count": 41,
   "id": "f20bc699",
   "metadata": {
    "execution": {
     "iopub.execute_input": "2024-11-19T17:54:09.913862Z",
     "iopub.status.busy": "2024-11-19T17:54:09.913445Z",
     "iopub.status.idle": "2024-11-19T17:54:34.725833Z",
     "shell.execute_reply": "2024-11-19T17:54:34.724719Z"
    },
    "papermill": {
     "duration": 24.837344,
     "end_time": "2024-11-19T17:54:34.728208",
     "exception": false,
     "start_time": "2024-11-19T17:54:09.890864",
     "status": "completed"
    },
    "tags": []
   },
   "outputs": [],
   "source": [
    "for group in train['Group'].unique():\n",
    "    destination_mode = train.loc[train['Group'] == group, 'Destination'].mode()\n",
    "    \n",
    "    if not destination_mode.empty:\n",
    "        train.loc[(train['Group'] == group) & (train['Destination'].isnull()),'Destination'] = destination_mode[0]\n",
    "    \n",
    "\n",
    "for group in test['Group'].unique():\n",
    "    destination_mode = test.loc[test['Group'] == group, 'Destination'].mode()\n",
    "    \n",
    "    if not destination_mode.empty:\n",
    "        test.loc[(test['Group'] == group) & (test['Destination'].isnull()),'Destination'] = destination_mode[0]\n",
    "    \n",
    "    "
   ]
  },
  {
   "cell_type": "code",
   "execution_count": 42,
   "id": "4e7f5da9",
   "metadata": {
    "execution": {
     "iopub.execute_input": "2024-11-19T17:54:34.772524Z",
     "iopub.status.busy": "2024-11-19T17:54:34.771817Z",
     "iopub.status.idle": "2024-11-19T17:54:34.779151Z",
     "shell.execute_reply": "2024-11-19T17:54:34.778185Z"
    },
    "papermill": {
     "duration": 0.031323,
     "end_time": "2024-11-19T17:54:34.781077",
     "exception": false,
     "start_time": "2024-11-19T17:54:34.749754",
     "status": "completed"
    },
    "tags": []
   },
   "outputs": [
    {
     "data": {
      "text/plain": [
       "0"
      ]
     },
     "execution_count": 42,
     "metadata": {},
     "output_type": "execute_result"
    }
   ],
   "source": [
    "test['Destination'].isna().sum()"
   ]
  },
  {
   "cell_type": "code",
   "execution_count": 43,
   "id": "8da65f47",
   "metadata": {
    "execution": {
     "iopub.execute_input": "2024-11-19T17:54:34.825088Z",
     "iopub.status.busy": "2024-11-19T17:54:34.824111Z",
     "iopub.status.idle": "2024-11-19T17:54:34.831654Z",
     "shell.execute_reply": "2024-11-19T17:54:34.830661Z"
    },
    "papermill": {
     "duration": 0.031663,
     "end_time": "2024-11-19T17:54:34.833630",
     "exception": false,
     "start_time": "2024-11-19T17:54:34.801967",
     "status": "completed"
    },
    "tags": []
   },
   "outputs": [
    {
     "data": {
      "text/plain": [
       "99"
      ]
     },
     "execution_count": 43,
     "metadata": {},
     "output_type": "execute_result"
    }
   ],
   "source": [
    "train['Deck'].isna().sum()"
   ]
  },
  {
   "cell_type": "code",
   "execution_count": 44,
   "id": "639ca13f",
   "metadata": {
    "execution": {
     "iopub.execute_input": "2024-11-19T17:54:34.876834Z",
     "iopub.status.busy": "2024-11-19T17:54:34.876424Z",
     "iopub.status.idle": "2024-11-19T17:54:34.882825Z",
     "shell.execute_reply": "2024-11-19T17:54:34.881832Z"
    },
    "papermill": {
     "duration": 0.030462,
     "end_time": "2024-11-19T17:54:34.884987",
     "exception": false,
     "start_time": "2024-11-19T17:54:34.854525",
     "status": "completed"
    },
    "tags": []
   },
   "outputs": [],
   "source": [
    "train['Deck'] = train['Deck'].fillna('T')\n"
   ]
  },
  {
   "cell_type": "code",
   "execution_count": 45,
   "id": "5a453adf",
   "metadata": {
    "execution": {
     "iopub.execute_input": "2024-11-19T17:54:34.929277Z",
     "iopub.status.busy": "2024-11-19T17:54:34.928521Z",
     "iopub.status.idle": "2024-11-19T17:54:34.934513Z",
     "shell.execute_reply": "2024-11-19T17:54:34.933514Z"
    },
    "papermill": {
     "duration": 0.030187,
     "end_time": "2024-11-19T17:54:34.936518",
     "exception": false,
     "start_time": "2024-11-19T17:54:34.906331",
     "status": "completed"
    },
    "tags": []
   },
   "outputs": [],
   "source": [
    "test['Deck'] = test['Deck'].fillna('T')"
   ]
  },
  {
   "cell_type": "markdown",
   "id": "a38e2ad9",
   "metadata": {
    "papermill": {
     "duration": 0.021202,
     "end_time": "2024-11-19T17:54:34.978759",
     "exception": false,
     "start_time": "2024-11-19T17:54:34.957557",
     "status": "completed"
    },
    "tags": []
   },
   "source": [
    "**Replacing VIP with same  group status VIP True/False**"
   ]
  },
  {
   "cell_type": "code",
   "execution_count": 46,
   "id": "9402f263",
   "metadata": {
    "execution": {
     "iopub.execute_input": "2024-11-19T17:54:35.022086Z",
     "iopub.status.busy": "2024-11-19T17:54:35.021653Z",
     "iopub.status.idle": "2024-11-19T17:55:00.667213Z",
     "shell.execute_reply": "2024-11-19T17:55:00.666193Z"
    },
    "papermill": {
     "duration": 25.670058,
     "end_time": "2024-11-19T17:55:00.669660",
     "exception": false,
     "start_time": "2024-11-19T17:54:34.999602",
     "status": "completed"
    },
    "tags": []
   },
   "outputs": [],
   "source": [
    "for group in train['Group'].unique():\n",
    "    vip_mode = train.loc[train['Group'] == group, 'VIP'].mode()\n",
    "    \n",
    "    if not vip_mode.empty:\n",
    "        train.loc[(train['Group'] == group) & (train['VIP'].isna()), 'VIP'] = vip_mode[0]\n",
    "        \n",
    "\n",
    "for group in test['Group'].unique():\n",
    "    vip_mode = test.loc[test['Group'] == group, 'VIP'].mode()\n",
    "    \n",
    "    if not vip_mode.empty:\n",
    "        test.loc[(test['Group'] == group) & (test['VIP'].isna()), 'VIP'] = vip_mode[0]\n",
    "        \n",
    "    "
   ]
  },
  {
   "cell_type": "code",
   "execution_count": 47,
   "id": "28f99efc",
   "metadata": {
    "execution": {
     "iopub.execute_input": "2024-11-19T17:55:00.713512Z",
     "iopub.status.busy": "2024-11-19T17:55:00.713105Z",
     "iopub.status.idle": "2024-11-19T17:55:00.719667Z",
     "shell.execute_reply": "2024-11-19T17:55:00.718743Z"
    },
    "papermill": {
     "duration": 0.030819,
     "end_time": "2024-11-19T17:55:00.721817",
     "exception": false,
     "start_time": "2024-11-19T17:55:00.690998",
     "status": "completed"
    },
    "tags": []
   },
   "outputs": [
    {
     "data": {
      "text/plain": [
       "False"
      ]
     },
     "execution_count": 47,
     "metadata": {},
     "output_type": "execute_result"
    }
   ],
   "source": [
    "vip_mode[0]"
   ]
  },
  {
   "cell_type": "code",
   "execution_count": 48,
   "id": "f20568ed",
   "metadata": {
    "execution": {
     "iopub.execute_input": "2024-11-19T17:55:00.766413Z",
     "iopub.status.busy": "2024-11-19T17:55:00.766008Z",
     "iopub.status.idle": "2024-11-19T17:55:00.774844Z",
     "shell.execute_reply": "2024-11-19T17:55:00.773782Z"
    },
    "papermill": {
     "duration": 0.034056,
     "end_time": "2024-11-19T17:55:00.777345",
     "exception": false,
     "start_time": "2024-11-19T17:55:00.743289",
     "status": "completed"
    },
    "tags": []
   },
   "outputs": [
    {
     "name": "stderr",
     "output_type": "stream",
     "text": [
      "/tmp/ipykernel_17/2557423949.py:1: FutureWarning: Downcasting object dtype arrays on .fillna, .ffill, .bfill is deprecated and will change in a future version. Call result.infer_objects(copy=False) instead. To opt-in to the future behavior, set `pd.set_option('future.no_silent_downcasting', True)`\n",
      "  train['VIP'] = train['VIP'].fillna(False)\n",
      "/tmp/ipykernel_17/2557423949.py:2: FutureWarning: Downcasting object dtype arrays on .fillna, .ffill, .bfill is deprecated and will change in a future version. Call result.infer_objects(copy=False) instead. To opt-in to the future behavior, set `pd.set_option('future.no_silent_downcasting', True)`\n",
      "  test['VIP'] = test['VIP'].fillna(False)\n"
     ]
    }
   ],
   "source": [
    "train['VIP'] = train['VIP'].fillna(False)\n",
    "test['VIP'] = test['VIP'].fillna(False)"
   ]
  },
  {
   "cell_type": "code",
   "execution_count": 49,
   "id": "7d553a5b",
   "metadata": {
    "execution": {
     "iopub.execute_input": "2024-11-19T17:55:00.821213Z",
     "iopub.status.busy": "2024-11-19T17:55:00.820814Z",
     "iopub.status.idle": "2024-11-19T17:55:00.829585Z",
     "shell.execute_reply": "2024-11-19T17:55:00.828738Z"
    },
    "papermill": {
     "duration": 0.033216,
     "end_time": "2024-11-19T17:55:00.831646",
     "exception": false,
     "start_time": "2024-11-19T17:55:00.798430",
     "status": "completed"
    },
    "tags": []
   },
   "outputs": [
    {
     "data": {
      "text/plain": [
       "array([False,  True])"
      ]
     },
     "execution_count": 49,
     "metadata": {},
     "output_type": "execute_result"
    }
   ],
   "source": [
    "train['VIP'].unique()"
   ]
  },
  {
   "cell_type": "code",
   "execution_count": 50,
   "id": "02653588",
   "metadata": {
    "execution": {
     "iopub.execute_input": "2024-11-19T17:55:00.876412Z",
     "iopub.status.busy": "2024-11-19T17:55:00.875416Z",
     "iopub.status.idle": "2024-11-19T17:55:17.392491Z",
     "shell.execute_reply": "2024-11-19T17:55:17.390967Z"
    },
    "papermill": {
     "duration": 16.542239,
     "end_time": "2024-11-19T17:55:17.395273",
     "exception": false,
     "start_time": "2024-11-19T17:55:00.853034",
     "status": "completed"
    },
    "tags": []
   },
   "outputs": [],
   "source": [
    "for group in train['Group'].unique():\n",
    "    Num_mean = train.loc[train['Group'] == group, 'Num'].mean()\n",
    "    \n",
    "    train.loc[(train['Group'] == group) & (train['Num'].isna()),'Num'] = Num_mean"
   ]
  },
  {
   "cell_type": "code",
   "execution_count": 51,
   "id": "49b47ff7",
   "metadata": {
    "execution": {
     "iopub.execute_input": "2024-11-19T17:55:17.441519Z",
     "iopub.status.busy": "2024-11-19T17:55:17.441094Z",
     "iopub.status.idle": "2024-11-19T17:55:25.469965Z",
     "shell.execute_reply": "2024-11-19T17:55:25.468595Z"
    },
    "papermill": {
     "duration": 8.055056,
     "end_time": "2024-11-19T17:55:25.472628",
     "exception": false,
     "start_time": "2024-11-19T17:55:17.417572",
     "status": "completed"
    },
    "tags": []
   },
   "outputs": [],
   "source": [
    "for group in test['Group'].unique():\n",
    "    Num_mean = test.loc[train['Group'] == group, 'Num'].mean()\n",
    "    \n",
    "    test.loc[(test['Group'] == group) & (test['Num'].isna()),'Num'] = Num_mean"
   ]
  },
  {
   "cell_type": "code",
   "execution_count": 52,
   "id": "e6325385",
   "metadata": {
    "execution": {
     "iopub.execute_input": "2024-11-19T17:55:25.517889Z",
     "iopub.status.busy": "2024-11-19T17:55:25.517436Z",
     "iopub.status.idle": "2024-11-19T17:55:25.526534Z",
     "shell.execute_reply": "2024-11-19T17:55:25.525307Z"
    },
    "papermill": {
     "duration": 0.034323,
     "end_time": "2024-11-19T17:55:25.528756",
     "exception": false,
     "start_time": "2024-11-19T17:55:25.494433",
     "status": "completed"
    },
    "tags": []
   },
   "outputs": [],
   "source": [
    "train['Num'] = train['Num'].fillna(train['Num'].mode())"
   ]
  },
  {
   "cell_type": "code",
   "execution_count": 53,
   "id": "1b4fec1c",
   "metadata": {
    "execution": {
     "iopub.execute_input": "2024-11-19T17:55:25.575304Z",
     "iopub.status.busy": "2024-11-19T17:55:25.574452Z",
     "iopub.status.idle": "2024-11-19T17:55:25.581601Z",
     "shell.execute_reply": "2024-11-19T17:55:25.580560Z"
    },
    "papermill": {
     "duration": 0.032695,
     "end_time": "2024-11-19T17:55:25.583847",
     "exception": false,
     "start_time": "2024-11-19T17:55:25.551152",
     "status": "completed"
    },
    "tags": []
   },
   "outputs": [],
   "source": [
    "test['Num'] = test['Num'].fillna(test['Num'].mode())"
   ]
  },
  {
   "cell_type": "code",
   "execution_count": 54,
   "id": "d3386b74",
   "metadata": {
    "execution": {
     "iopub.execute_input": "2024-11-19T17:55:25.630188Z",
     "iopub.status.busy": "2024-11-19T17:55:25.629755Z",
     "iopub.status.idle": "2024-11-19T17:55:25.639407Z",
     "shell.execute_reply": "2024-11-19T17:55:25.638264Z"
    },
    "papermill": {
     "duration": 0.035595,
     "end_time": "2024-11-19T17:55:25.641805",
     "exception": false,
     "start_time": "2024-11-19T17:55:25.606210",
     "status": "completed"
    },
    "tags": []
   },
   "outputs": [
    {
     "data": {
      "text/plain": [
       "Side\n",
       "S    4343\n",
       "P    4251\n",
       "Name: count, dtype: int64"
      ]
     },
     "execution_count": 54,
     "metadata": {},
     "output_type": "execute_result"
    }
   ],
   "source": [
    "train['Side'].value_counts()"
   ]
  },
  {
   "cell_type": "code",
   "execution_count": 55,
   "id": "a3f37dd4",
   "metadata": {
    "execution": {
     "iopub.execute_input": "2024-11-19T17:55:25.689094Z",
     "iopub.status.busy": "2024-11-19T17:55:25.688344Z",
     "iopub.status.idle": "2024-11-19T17:55:25.695426Z",
     "shell.execute_reply": "2024-11-19T17:55:25.694194Z"
    },
    "papermill": {
     "duration": 0.032659,
     "end_time": "2024-11-19T17:55:25.697539",
     "exception": false,
     "start_time": "2024-11-19T17:55:25.664880",
     "status": "completed"
    },
    "tags": []
   },
   "outputs": [],
   "source": [
    "train['Side'] = train['Side'].fillna('P')"
   ]
  },
  {
   "cell_type": "code",
   "execution_count": 56,
   "id": "21055d52",
   "metadata": {
    "execution": {
     "iopub.execute_input": "2024-11-19T17:55:25.743360Z",
     "iopub.status.busy": "2024-11-19T17:55:25.742963Z",
     "iopub.status.idle": "2024-11-19T17:55:25.750005Z",
     "shell.execute_reply": "2024-11-19T17:55:25.748837Z"
    },
    "papermill": {
     "duration": 0.032771,
     "end_time": "2024-11-19T17:55:25.752391",
     "exception": false,
     "start_time": "2024-11-19T17:55:25.719620",
     "status": "completed"
    },
    "tags": []
   },
   "outputs": [],
   "source": [
    "test['Side'] = test['Side'].fillna('P')"
   ]
  },
  {
   "cell_type": "code",
   "execution_count": 57,
   "id": "1d0ece39",
   "metadata": {
    "execution": {
     "iopub.execute_input": "2024-11-19T17:55:25.797801Z",
     "iopub.status.busy": "2024-11-19T17:55:25.797320Z",
     "iopub.status.idle": "2024-11-19T17:55:25.815199Z",
     "shell.execute_reply": "2024-11-19T17:55:25.813993Z"
    },
    "papermill": {
     "duration": 0.043421,
     "end_time": "2024-11-19T17:55:25.817593",
     "exception": false,
     "start_time": "2024-11-19T17:55:25.774172",
     "status": "completed"
    },
    "tags": []
   },
   "outputs": [],
   "source": [
    "train['Cabin'] = train['Cabin'].fillna(train['Deck'] +'/'+train['Num'].astype(str)+'/'+train['Side'])"
   ]
  },
  {
   "cell_type": "code",
   "execution_count": 58,
   "id": "6e932af5",
   "metadata": {
    "execution": {
     "iopub.execute_input": "2024-11-19T17:55:25.863122Z",
     "iopub.status.busy": "2024-11-19T17:55:25.862686Z",
     "iopub.status.idle": "2024-11-19T17:55:25.885460Z",
     "shell.execute_reply": "2024-11-19T17:55:25.884571Z"
    },
    "papermill": {
     "duration": 0.048137,
     "end_time": "2024-11-19T17:55:25.887898",
     "exception": false,
     "start_time": "2024-11-19T17:55:25.839761",
     "status": "completed"
    },
    "tags": []
   },
   "outputs": [],
   "source": [
    "test['Cabin'] = test['Cabin'].fillna(train['Deck'] +'/'+test['Num'].astype(str)+'/'+test['Side'])"
   ]
  },
  {
   "cell_type": "code",
   "execution_count": 59,
   "id": "f43297fa",
   "metadata": {
    "execution": {
     "iopub.execute_input": "2024-11-19T17:55:25.933592Z",
     "iopub.status.busy": "2024-11-19T17:55:25.933175Z",
     "iopub.status.idle": "2024-11-19T17:55:25.947442Z",
     "shell.execute_reply": "2024-11-19T17:55:25.946346Z"
    },
    "papermill": {
     "duration": 0.039416,
     "end_time": "2024-11-19T17:55:25.949563",
     "exception": false,
     "start_time": "2024-11-19T17:55:25.910147",
     "status": "completed"
    },
    "tags": []
   },
   "outputs": [
    {
     "data": {
      "text/plain": [
       "PassengerId           0\n",
       "HomePlanet            0\n",
       "CryoSleep             0\n",
       "Cabin                 0\n",
       "Destination           0\n",
       "Age                   0\n",
       "VIP                   0\n",
       "RoomService           0\n",
       "FoodCourt             0\n",
       "ShoppingMall          0\n",
       "Spa                   0\n",
       "VRDeck                0\n",
       "Name                200\n",
       "Transported           0\n",
       "Group                 0\n",
       "TotalExpenditure      0\n",
       "Deck                  0\n",
       "Num                  99\n",
       "Side                  0\n",
       "dtype: int64"
      ]
     },
     "execution_count": 59,
     "metadata": {},
     "output_type": "execute_result"
    }
   ],
   "source": [
    "train.isna().sum()"
   ]
  },
  {
   "cell_type": "code",
   "execution_count": 60,
   "id": "de36364b",
   "metadata": {
    "execution": {
     "iopub.execute_input": "2024-11-19T17:55:25.995231Z",
     "iopub.status.busy": "2024-11-19T17:55:25.994779Z",
     "iopub.status.idle": "2024-11-19T17:55:26.007622Z",
     "shell.execute_reply": "2024-11-19T17:55:26.006551Z"
    },
    "papermill": {
     "duration": 0.038409,
     "end_time": "2024-11-19T17:55:26.009794",
     "exception": false,
     "start_time": "2024-11-19T17:55:25.971385",
     "status": "completed"
    },
    "tags": []
   },
   "outputs": [
    {
     "data": {
      "text/plain": [
       "PassengerId           0\n",
       "HomePlanet            0\n",
       "CryoSleep             0\n",
       "Cabin                 0\n",
       "Destination           0\n",
       "Age                   0\n",
       "VIP                   0\n",
       "RoomService           0\n",
       "FoodCourt             0\n",
       "ShoppingMall          0\n",
       "Spa                   0\n",
       "VRDeck                0\n",
       "Name                 94\n",
       "Group                 0\n",
       "TotalExpenditure      0\n",
       "Deck                  0\n",
       "Num                 100\n",
       "Side                  0\n",
       "HomePlane             0\n",
       "dtype: int64"
      ]
     },
     "execution_count": 60,
     "metadata": {},
     "output_type": "execute_result"
    }
   ],
   "source": [
    "test.isna().sum()"
   ]
  },
  {
   "cell_type": "markdown",
   "id": "fb1740b2",
   "metadata": {
    "papermill": {
     "duration": 0.022107,
     "end_time": "2024-11-19T17:55:26.054552",
     "exception": false,
     "start_time": "2024-11-19T17:55:26.032445",
     "status": "completed"
    },
    "tags": []
   },
   "source": [
    "**EDA**"
   ]
  },
  {
   "cell_type": "code",
   "execution_count": 61,
   "id": "dd41f298",
   "metadata": {
    "execution": {
     "iopub.execute_input": "2024-11-19T17:55:26.108472Z",
     "iopub.status.busy": "2024-11-19T17:55:26.108019Z",
     "iopub.status.idle": "2024-11-19T17:55:26.136257Z",
     "shell.execute_reply": "2024-11-19T17:55:26.134829Z"
    },
    "papermill": {
     "duration": 0.054367,
     "end_time": "2024-11-19T17:55:26.138983",
     "exception": false,
     "start_time": "2024-11-19T17:55:26.084616",
     "status": "completed"
    },
    "tags": []
   },
   "outputs": [
    {
     "data": {
      "text/html": [
       "<div>\n",
       "<style scoped>\n",
       "    .dataframe tbody tr th:only-of-type {\n",
       "        vertical-align: middle;\n",
       "    }\n",
       "\n",
       "    .dataframe tbody tr th {\n",
       "        vertical-align: top;\n",
       "    }\n",
       "\n",
       "    .dataframe thead th {\n",
       "        text-align: right;\n",
       "    }\n",
       "</style>\n",
       "<table border=\"1\" class=\"dataframe\">\n",
       "  <thead>\n",
       "    <tr style=\"text-align: right;\">\n",
       "      <th></th>\n",
       "      <th>PassengerId</th>\n",
       "      <th>HomePlanet</th>\n",
       "      <th>CryoSleep</th>\n",
       "      <th>Cabin</th>\n",
       "      <th>Destination</th>\n",
       "      <th>Age</th>\n",
       "      <th>VIP</th>\n",
       "      <th>RoomService</th>\n",
       "      <th>FoodCourt</th>\n",
       "      <th>ShoppingMall</th>\n",
       "      <th>Spa</th>\n",
       "      <th>VRDeck</th>\n",
       "      <th>Name</th>\n",
       "      <th>Transported</th>\n",
       "      <th>Group</th>\n",
       "      <th>TotalExpenditure</th>\n",
       "      <th>Deck</th>\n",
       "      <th>Num</th>\n",
       "      <th>Side</th>\n",
       "    </tr>\n",
       "  </thead>\n",
       "  <tbody>\n",
       "    <tr>\n",
       "      <th>0</th>\n",
       "      <td>0001_01</td>\n",
       "      <td>Europa</td>\n",
       "      <td>False</td>\n",
       "      <td>B/0/P</td>\n",
       "      <td>TRAPPIST-1e</td>\n",
       "      <td>39.0</td>\n",
       "      <td>False</td>\n",
       "      <td>0.0</td>\n",
       "      <td>0.0</td>\n",
       "      <td>0.0</td>\n",
       "      <td>0.0</td>\n",
       "      <td>0.0</td>\n",
       "      <td>Maham Ofracculy</td>\n",
       "      <td>False</td>\n",
       "      <td>0001</td>\n",
       "      <td>0.0</td>\n",
       "      <td>B</td>\n",
       "      <td>0.0</td>\n",
       "      <td>P</td>\n",
       "    </tr>\n",
       "    <tr>\n",
       "      <th>1</th>\n",
       "      <td>0002_01</td>\n",
       "      <td>Earth</td>\n",
       "      <td>False</td>\n",
       "      <td>F/0/S</td>\n",
       "      <td>TRAPPIST-1e</td>\n",
       "      <td>24.0</td>\n",
       "      <td>False</td>\n",
       "      <td>109.0</td>\n",
       "      <td>9.0</td>\n",
       "      <td>25.0</td>\n",
       "      <td>549.0</td>\n",
       "      <td>44.0</td>\n",
       "      <td>Juanna Vines</td>\n",
       "      <td>True</td>\n",
       "      <td>0002</td>\n",
       "      <td>736.0</td>\n",
       "      <td>F</td>\n",
       "      <td>0.0</td>\n",
       "      <td>S</td>\n",
       "    </tr>\n",
       "    <tr>\n",
       "      <th>2</th>\n",
       "      <td>0003_01</td>\n",
       "      <td>Europa</td>\n",
       "      <td>False</td>\n",
       "      <td>A/0/S</td>\n",
       "      <td>TRAPPIST-1e</td>\n",
       "      <td>58.0</td>\n",
       "      <td>True</td>\n",
       "      <td>43.0</td>\n",
       "      <td>3576.0</td>\n",
       "      <td>0.0</td>\n",
       "      <td>6715.0</td>\n",
       "      <td>49.0</td>\n",
       "      <td>Altark Susent</td>\n",
       "      <td>False</td>\n",
       "      <td>0003</td>\n",
       "      <td>10383.0</td>\n",
       "      <td>A</td>\n",
       "      <td>0.0</td>\n",
       "      <td>S</td>\n",
       "    </tr>\n",
       "    <tr>\n",
       "      <th>3</th>\n",
       "      <td>0003_02</td>\n",
       "      <td>Europa</td>\n",
       "      <td>False</td>\n",
       "      <td>A/0/S</td>\n",
       "      <td>TRAPPIST-1e</td>\n",
       "      <td>33.0</td>\n",
       "      <td>False</td>\n",
       "      <td>0.0</td>\n",
       "      <td>1283.0</td>\n",
       "      <td>371.0</td>\n",
       "      <td>3329.0</td>\n",
       "      <td>193.0</td>\n",
       "      <td>Solam Susent</td>\n",
       "      <td>False</td>\n",
       "      <td>0003</td>\n",
       "      <td>5176.0</td>\n",
       "      <td>A</td>\n",
       "      <td>0.0</td>\n",
       "      <td>S</td>\n",
       "    </tr>\n",
       "    <tr>\n",
       "      <th>4</th>\n",
       "      <td>0004_01</td>\n",
       "      <td>Earth</td>\n",
       "      <td>False</td>\n",
       "      <td>F/1/S</td>\n",
       "      <td>TRAPPIST-1e</td>\n",
       "      <td>16.0</td>\n",
       "      <td>False</td>\n",
       "      <td>303.0</td>\n",
       "      <td>70.0</td>\n",
       "      <td>151.0</td>\n",
       "      <td>565.0</td>\n",
       "      <td>2.0</td>\n",
       "      <td>Willy Santantines</td>\n",
       "      <td>True</td>\n",
       "      <td>0004</td>\n",
       "      <td>1091.0</td>\n",
       "      <td>F</td>\n",
       "      <td>1.0</td>\n",
       "      <td>S</td>\n",
       "    </tr>\n",
       "  </tbody>\n",
       "</table>\n",
       "</div>"
      ],
      "text/plain": [
       "  PassengerId HomePlanet CryoSleep  Cabin  Destination   Age    VIP  \\\n",
       "0     0001_01     Europa     False  B/0/P  TRAPPIST-1e  39.0  False   \n",
       "1     0002_01      Earth     False  F/0/S  TRAPPIST-1e  24.0  False   \n",
       "2     0003_01     Europa     False  A/0/S  TRAPPIST-1e  58.0   True   \n",
       "3     0003_02     Europa     False  A/0/S  TRAPPIST-1e  33.0  False   \n",
       "4     0004_01      Earth     False  F/1/S  TRAPPIST-1e  16.0  False   \n",
       "\n",
       "   RoomService  FoodCourt  ShoppingMall     Spa  VRDeck               Name  \\\n",
       "0          0.0        0.0           0.0     0.0     0.0    Maham Ofracculy   \n",
       "1        109.0        9.0          25.0   549.0    44.0       Juanna Vines   \n",
       "2         43.0     3576.0           0.0  6715.0    49.0      Altark Susent   \n",
       "3          0.0     1283.0         371.0  3329.0   193.0       Solam Susent   \n",
       "4        303.0       70.0         151.0   565.0     2.0  Willy Santantines   \n",
       "\n",
       "   Transported Group  TotalExpenditure Deck  Num Side  \n",
       "0        False  0001               0.0    B  0.0    P  \n",
       "1         True  0002             736.0    F  0.0    S  \n",
       "2        False  0003           10383.0    A  0.0    S  \n",
       "3        False  0003            5176.0    A  0.0    S  \n",
       "4         True  0004            1091.0    F  1.0    S  "
      ]
     },
     "execution_count": 61,
     "metadata": {},
     "output_type": "execute_result"
    }
   ],
   "source": [
    "train.head()"
   ]
  },
  {
   "cell_type": "code",
   "execution_count": 62,
   "id": "c3c053eb",
   "metadata": {
    "execution": {
     "iopub.execute_input": "2024-11-19T17:55:26.188389Z",
     "iopub.status.busy": "2024-11-19T17:55:26.187968Z",
     "iopub.status.idle": "2024-11-19T17:55:26.194667Z",
     "shell.execute_reply": "2024-11-19T17:55:26.193534Z"
    },
    "papermill": {
     "duration": 0.034606,
     "end_time": "2024-11-19T17:55:26.196815",
     "exception": false,
     "start_time": "2024-11-19T17:55:26.162209",
     "status": "completed"
    },
    "tags": []
   },
   "outputs": [],
   "source": [
    "def age_group(x):\n",
    "    if 10 < x and x < 20:\n",
    "        return '10-20'\n",
    "    elif 21 <= x and x <= 30:\n",
    "        return '21-30'\n",
    "    elif 31 <= x and x <= 40:\n",
    "        return '31-40'\n",
    "    elif 41 <= x and x <= 50:\n",
    "        return '41-50'\n",
    "    elif 51 <= x and x <= 60:\n",
    "        return '51-60'\n",
    "    elif 61 <= x and x <= 70:\n",
    "        return '61-70'\n",
    "    elif 71 <= x and x <= 80:\n",
    "        return '71-80'\n",
    "    else:\n",
    "        return '>80'"
   ]
  },
  {
   "cell_type": "code",
   "execution_count": 63,
   "id": "75a9a401",
   "metadata": {
    "execution": {
     "iopub.execute_input": "2024-11-19T17:55:26.245675Z",
     "iopub.status.busy": "2024-11-19T17:55:26.244626Z",
     "iopub.status.idle": "2024-11-19T17:55:26.255068Z",
     "shell.execute_reply": "2024-11-19T17:55:26.253898Z"
    },
    "papermill": {
     "duration": 0.038053,
     "end_time": "2024-11-19T17:55:26.257430",
     "exception": false,
     "start_time": "2024-11-19T17:55:26.219377",
     "status": "completed"
    },
    "tags": []
   },
   "outputs": [],
   "source": [
    "train['AgeGroup'] = train['Age'].apply(age_group)"
   ]
  },
  {
   "cell_type": "code",
   "execution_count": 64,
   "id": "acdca508",
   "metadata": {
    "execution": {
     "iopub.execute_input": "2024-11-19T17:55:26.304209Z",
     "iopub.status.busy": "2024-11-19T17:55:26.303759Z",
     "iopub.status.idle": "2024-11-19T17:55:26.624380Z",
     "shell.execute_reply": "2024-11-19T17:55:26.623250Z"
    },
    "papermill": {
     "duration": 0.347266,
     "end_time": "2024-11-19T17:55:26.627122",
     "exception": false,
     "start_time": "2024-11-19T17:55:26.279856",
     "status": "completed"
    },
    "tags": []
   },
   "outputs": [
    {
     "data": {
      "text/plain": [
       "<Axes: xlabel='AgeGroup', ylabel='count'>"
      ]
     },
     "execution_count": 64,
     "metadata": {},
     "output_type": "execute_result"
    },
    {
     "data": {
      "image/png": "[encoded data removed]",
      "text/plain": [
       "<Figure size 640x480 with 1 Axes>"
      ]
     },
     "metadata": {},
     "output_type": "display_data"
    }
   ],
   "source": [
    "sns.countplot(x='AgeGroup',data=train,hue='Transported')"
   ]
  },
  {
   "cell_type": "code",
   "execution_count": 65,
   "id": "69f3ef35",
   "metadata": {
    "execution": {
     "iopub.execute_input": "2024-11-19T17:55:26.675451Z",
     "iopub.status.busy": "2024-11-19T17:55:26.675009Z",
     "iopub.status.idle": "2024-11-19T17:55:26.685942Z",
     "shell.execute_reply": "2024-11-19T17:55:26.684574Z"
    },
    "papermill": {
     "duration": 0.037738,
     "end_time": "2024-11-19T17:55:26.688398",
     "exception": false,
     "start_time": "2024-11-19T17:55:26.650660",
     "status": "completed"
    },
    "tags": []
   },
   "outputs": [],
   "source": [
    "train_data = train[(train['Age'] <= 50)]"
   ]
  },
  {
   "cell_type": "code",
   "execution_count": 66,
   "id": "6bc26b58",
   "metadata": {
    "execution": {
     "iopub.execute_input": "2024-11-19T17:55:26.736923Z",
     "iopub.status.busy": "2024-11-19T17:55:26.736456Z",
     "iopub.status.idle": "2024-11-19T17:55:26.942561Z",
     "shell.execute_reply": "2024-11-19T17:55:26.941357Z"
    },
    "papermill": {
     "duration": 0.232929,
     "end_time": "2024-11-19T17:55:26.944985",
     "exception": false,
     "start_time": "2024-11-19T17:55:26.712056",
     "status": "completed"
    },
    "tags": []
   },
   "outputs": [
    {
     "data": {
      "text/plain": [
       "<Axes: xlabel='HomePlanet', ylabel='count'>"
      ]
     },
     "execution_count": 66,
     "metadata": {},
     "output_type": "execute_result"
    },
    {
     "data": {
      "image/png": "[encoded data removed]",
      "text/plain": [
       "<Figure size 640x480 with 1 Axes>"
      ]
     },
     "metadata": {},
     "output_type": "display_data"
    }
   ],
   "source": [
    "sns.countplot(x='HomePlanet',data=train_data,hue='Transported')"
   ]
  },
  {
   "cell_type": "markdown",
   "id": "7be56d8d",
   "metadata": {
    "papermill": {
     "duration": 0.022826,
     "end_time": "2024-11-19T17:55:26.991329",
     "exception": false,
     "start_time": "2024-11-19T17:55:26.968503",
     "status": "completed"
    },
    "tags": []
   },
   "source": [
    "Observation: From Earth there are more people who travelled\n",
    "    \n",
    "Feature to consider: HomePlanet"
   ]
  },
  {
   "cell_type": "code",
   "execution_count": 67,
   "id": "52405ec5",
   "metadata": {
    "execution": {
     "iopub.execute_input": "2024-11-19T17:55:27.039451Z",
     "iopub.status.busy": "2024-11-19T17:55:27.039035Z",
     "iopub.status.idle": "2024-11-19T17:55:27.266670Z",
     "shell.execute_reply": "2024-11-19T17:55:27.265508Z"
    },
    "papermill": {
     "duration": 0.254689,
     "end_time": "2024-11-19T17:55:27.269256",
     "exception": false,
     "start_time": "2024-11-19T17:55:27.014567",
     "status": "completed"
    },
    "tags": []
   },
   "outputs": [
    {
     "data": {
      "text/plain": [
       "<Axes: xlabel='Destination', ylabel='count'>"
      ]
     },
     "execution_count": 67,
     "metadata": {},
     "output_type": "execute_result"
    },
    {
     "data": {
      "image/png": "[encoded data removed]",
      "text/plain": [
       "<Figure size 640x480 with 1 Axes>"
      ]
     },
     "metadata": {},
     "output_type": "display_data"
    }
   ],
   "source": [
    "sns.countplot(x='Destination',data=train_data,hue='Transported')"
   ]
  },
  {
   "cell_type": "markdown",
   "id": "b8575d9f",
   "metadata": {
    "papermill": {
     "duration": 0.023459,
     "end_time": "2024-11-19T17:55:27.317480",
     "exception": false,
     "start_time": "2024-11-19T17:55:27.294021",
     "status": "completed"
    },
    "tags": []
   },
   "source": [
    "Observation: Most of the people transported to TRAPPIST-1e destination\n",
    "    \n",
    "feature to consider: Destination"
   ]
  },
  {
   "cell_type": "code",
   "execution_count": 68,
   "id": "3d05fd75",
   "metadata": {
    "execution": {
     "iopub.execute_input": "2024-11-19T17:55:27.367053Z",
     "iopub.status.busy": "2024-11-19T17:55:27.366588Z",
     "iopub.status.idle": "2024-11-19T17:55:27.576524Z",
     "shell.execute_reply": "2024-11-19T17:55:27.575282Z"
    },
    "papermill": {
     "duration": 0.237145,
     "end_time": "2024-11-19T17:55:27.578874",
     "exception": false,
     "start_time": "2024-11-19T17:55:27.341729",
     "status": "completed"
    },
    "tags": []
   },
   "outputs": [
    {
     "data": {
      "text/plain": [
       "<Axes: xlabel='VIP', ylabel='count'>"
      ]
     },
     "execution_count": 68,
     "metadata": {},
     "output_type": "execute_result"
    },
    {
     "data": {
      "image/png": "[encoded data removed]",
      "text/plain": [
       "<Figure size 640x480 with 1 Axes>"
      ]
     },
     "metadata": {},
     "output_type": "display_data"
    }
   ],
   "source": [
    "sns.countplot(x='VIP',data=train_data,hue='Transported')"
   ]
  },
  {
   "cell_type": "markdown",
   "id": "7f2fea6c",
   "metadata": {
    "papermill": {
     "duration": 0.023587,
     "end_time": "2024-11-19T17:55:27.627550",
     "exception": false,
     "start_time": "2024-11-19T17:55:27.603963",
     "status": "completed"
    },
    "tags": []
   },
   "source": [
    "Observation: Most of the Voyegers were not VIP\n",
    "    \n",
    "feature to consider: Voyegers"
   ]
  },
  {
   "cell_type": "code",
   "execution_count": 69,
   "id": "41eff098",
   "metadata": {
    "execution": {
     "iopub.execute_input": "2024-11-19T17:55:27.677328Z",
     "iopub.status.busy": "2024-11-19T17:55:27.676921Z",
     "iopub.status.idle": "2024-11-19T17:56:14.161105Z",
     "shell.execute_reply": "2024-11-19T17:56:14.159887Z"
    },
    "papermill": {
     "duration": 46.540841,
     "end_time": "2024-11-19T17:56:14.192147",
     "exception": false,
     "start_time": "2024-11-19T17:55:27.651306",
     "status": "completed"
    },
    "tags": []
   },
   "outputs": [
    {
     "name": "stderr",
     "output_type": "stream",
     "text": [
      "/opt/conda/lib/python3.10/site-packages/seaborn/_oldcore.py:1119: FutureWarning: use_inf_as_na option is deprecated and will be removed in a future version. Convert inf values to NaN before operating instead.\n",
      "  with pd.option_context('mode.use_inf_as_na', True):\n",
      "/opt/conda/lib/python3.10/site-packages/seaborn/_oldcore.py:1119: FutureWarning: use_inf_as_na option is deprecated and will be removed in a future version. Convert inf values to NaN before operating instead.\n",
      "  with pd.option_context('mode.use_inf_as_na', True):\n",
      "/opt/conda/lib/python3.10/site-packages/seaborn/_oldcore.py:1075: FutureWarning: When grouping with a length-1 list-like, you will need to pass a length-1 tuple to get_group in a future version of pandas. Pass `(name,)` instead of `name` to silence this warning.\n",
      "  data_subset = grouped_data.get_group(pd_key)\n"
     ]
    },
    {
     "data": {
      "text/plain": [
       "<Axes: xlabel='TotalExpenditure', ylabel='Age'>"
      ]
     },
     "execution_count": 69,
     "metadata": {},
     "output_type": "execute_result"
    },
    {
     "data": {
      "image/png": "[encoded data removed]",
      "text/plain": [
       "<Figure size 640x480 with 1 Axes>"
      ]
     },
     "metadata": {},
     "output_type": "display_data"
    }
   ],
   "source": [
    "sns.stripplot(x='TotalExpenditure',y='Age',data=train_data,hue='Transported')"
   ]
  },
  {
   "cell_type": "code",
   "execution_count": 70,
   "id": "15cd65fa",
   "metadata": {
    "execution": {
     "iopub.execute_input": "2024-11-19T17:56:14.248190Z",
     "iopub.status.busy": "2024-11-19T17:56:14.247769Z",
     "iopub.status.idle": "2024-11-19T17:56:14.491034Z",
     "shell.execute_reply": "2024-11-19T17:56:14.489856Z"
    },
    "papermill": {
     "duration": 0.273279,
     "end_time": "2024-11-19T17:56:14.493180",
     "exception": false,
     "start_time": "2024-11-19T17:56:14.219901",
     "status": "completed"
    },
    "tags": []
   },
   "outputs": [
    {
     "data": {
      "text/plain": [
       "<Axes: xlabel='VIP', ylabel='count'>"
      ]
     },
     "execution_count": 70,
     "metadata": {},
     "output_type": "execute_result"
    },
    {
     "data": {
      "image/png": "[encoded data removed]",
      "text/plain": [
       "<Figure size 640x480 with 1 Axes>"
      ]
     },
     "metadata": {},
     "output_type": "display_data"
    }
   ],
   "source": [
    "sns.countplot(x='VIP',data=train_data,hue='Transported')"
   ]
  },
  {
   "cell_type": "markdown",
   "id": "97a760cf",
   "metadata": {
    "papermill": {
     "duration": 0.026764,
     "end_time": "2024-11-19T17:56:14.546961",
     "exception": false,
     "start_time": "2024-11-19T17:56:14.520197",
     "status": "completed"
    },
    "tags": []
   },
   "source": [
    "Observation: Most of the Voyegers were not VIP\n",
    "    \n",
    "feature to consider: Voyegers"
   ]
  },
  {
   "cell_type": "markdown",
   "id": "72076739",
   "metadata": {
    "papermill": {
     "duration": 0.026266,
     "end_time": "2024-11-19T17:56:14.600010",
     "exception": false,
     "start_time": "2024-11-19T17:56:14.573744",
     "status": "completed"
    },
    "tags": []
   },
   "source": [
    "**Model Training**"
   ]
  },
  {
   "cell_type": "code",
   "execution_count": 71,
   "id": "16eae461",
   "metadata": {
    "execution": {
     "iopub.execute_input": "2024-11-19T17:56:14.655496Z",
     "iopub.status.busy": "2024-11-19T17:56:14.654554Z",
     "iopub.status.idle": "2024-11-19T17:56:14.661459Z",
     "shell.execute_reply": "2024-11-19T17:56:14.660462Z"
    },
    "papermill": {
     "duration": 0.036982,
     "end_time": "2024-11-19T17:56:14.663656",
     "exception": false,
     "start_time": "2024-11-19T17:56:14.626674",
     "status": "completed"
    },
    "tags": []
   },
   "outputs": [],
   "source": [
    "X = train_data[['Age','HomePlanet','Destination','TotalExpenditure','CryoSleep','VIP']]\n",
    "y = train_data['Transported']"
   ]
  },
  {
   "cell_type": "code",
   "execution_count": 72,
   "id": "45f39064",
   "metadata": {
    "execution": {
     "iopub.execute_input": "2024-11-19T17:56:14.720003Z",
     "iopub.status.busy": "2024-11-19T17:56:14.719342Z",
     "iopub.status.idle": "2024-11-19T17:56:14.734831Z",
     "shell.execute_reply": "2024-11-19T17:56:14.733618Z"
    },
    "papermill": {
     "duration": 0.045411,
     "end_time": "2024-11-19T17:56:14.736771",
     "exception": false,
     "start_time": "2024-11-19T17:56:14.691360",
     "status": "completed"
    },
    "tags": []
   },
   "outputs": [
    {
     "data": {
      "text/html": [
       "<div>\n",
       "<style scoped>\n",
       "    .dataframe tbody tr th:only-of-type {\n",
       "        vertical-align: middle;\n",
       "    }\n",
       "\n",
       "    .dataframe tbody tr th {\n",
       "        vertical-align: top;\n",
       "    }\n",
       "\n",
       "    .dataframe thead th {\n",
       "        text-align: right;\n",
       "    }\n",
       "</style>\n",
       "<table border=\"1\" class=\"dataframe\">\n",
       "  <thead>\n",
       "    <tr style=\"text-align: right;\">\n",
       "      <th></th>\n",
       "      <th>Age</th>\n",
       "      <th>HomePlanet</th>\n",
       "      <th>Destination</th>\n",
       "      <th>TotalExpenditure</th>\n",
       "      <th>CryoSleep</th>\n",
       "      <th>VIP</th>\n",
       "    </tr>\n",
       "  </thead>\n",
       "  <tbody>\n",
       "    <tr>\n",
       "      <th>0</th>\n",
       "      <td>39.0</td>\n",
       "      <td>Europa</td>\n",
       "      <td>TRAPPIST-1e</td>\n",
       "      <td>0.0</td>\n",
       "      <td>False</td>\n",
       "      <td>False</td>\n",
       "    </tr>\n",
       "    <tr>\n",
       "      <th>1</th>\n",
       "      <td>24.0</td>\n",
       "      <td>Earth</td>\n",
       "      <td>TRAPPIST-1e</td>\n",
       "      <td>736.0</td>\n",
       "      <td>False</td>\n",
       "      <td>False</td>\n",
       "    </tr>\n",
       "    <tr>\n",
       "      <th>3</th>\n",
       "      <td>33.0</td>\n",
       "      <td>Europa</td>\n",
       "      <td>TRAPPIST-1e</td>\n",
       "      <td>5176.0</td>\n",
       "      <td>False</td>\n",
       "      <td>False</td>\n",
       "    </tr>\n",
       "    <tr>\n",
       "      <th>4</th>\n",
       "      <td>16.0</td>\n",
       "      <td>Earth</td>\n",
       "      <td>TRAPPIST-1e</td>\n",
       "      <td>1091.0</td>\n",
       "      <td>False</td>\n",
       "      <td>False</td>\n",
       "    </tr>\n",
       "    <tr>\n",
       "      <th>5</th>\n",
       "      <td>44.0</td>\n",
       "      <td>Earth</td>\n",
       "      <td>PSO J318.5-22</td>\n",
       "      <td>774.0</td>\n",
       "      <td>False</td>\n",
       "      <td>False</td>\n",
       "    </tr>\n",
       "    <tr>\n",
       "      <th>...</th>\n",
       "      <td>...</td>\n",
       "      <td>...</td>\n",
       "      <td>...</td>\n",
       "      <td>...</td>\n",
       "      <td>...</td>\n",
       "      <td>...</td>\n",
       "    </tr>\n",
       "    <tr>\n",
       "      <th>8688</th>\n",
       "      <td>41.0</td>\n",
       "      <td>Europa</td>\n",
       "      <td>55 Cancri e</td>\n",
       "      <td>8536.0</td>\n",
       "      <td>False</td>\n",
       "      <td>True</td>\n",
       "    </tr>\n",
       "    <tr>\n",
       "      <th>8689</th>\n",
       "      <td>18.0</td>\n",
       "      <td>Earth</td>\n",
       "      <td>PSO J318.5-22</td>\n",
       "      <td>0.0</td>\n",
       "      <td>True</td>\n",
       "      <td>False</td>\n",
       "    </tr>\n",
       "    <tr>\n",
       "      <th>8690</th>\n",
       "      <td>26.0</td>\n",
       "      <td>Earth</td>\n",
       "      <td>TRAPPIST-1e</td>\n",
       "      <td>1873.0</td>\n",
       "      <td>False</td>\n",
       "      <td>False</td>\n",
       "    </tr>\n",
       "    <tr>\n",
       "      <th>8691</th>\n",
       "      <td>32.0</td>\n",
       "      <td>Europa</td>\n",
       "      <td>55 Cancri e</td>\n",
       "      <td>4637.0</td>\n",
       "      <td>False</td>\n",
       "      <td>False</td>\n",
       "    </tr>\n",
       "    <tr>\n",
       "      <th>8692</th>\n",
       "      <td>44.0</td>\n",
       "      <td>Europa</td>\n",
       "      <td>TRAPPIST-1e</td>\n",
       "      <td>4826.0</td>\n",
       "      <td>False</td>\n",
       "      <td>False</td>\n",
       "    </tr>\n",
       "  </tbody>\n",
       "</table>\n",
       "<p>7953 rows × 6 columns</p>\n",
       "</div>"
      ],
      "text/plain": [
       "       Age HomePlanet    Destination  TotalExpenditure CryoSleep    VIP\n",
       "0     39.0     Europa    TRAPPIST-1e               0.0     False  False\n",
       "1     24.0      Earth    TRAPPIST-1e             736.0     False  False\n",
       "3     33.0     Europa    TRAPPIST-1e            5176.0     False  False\n",
       "4     16.0      Earth    TRAPPIST-1e            1091.0     False  False\n",
       "5     44.0      Earth  PSO J318.5-22             774.0     False  False\n",
       "...    ...        ...            ...               ...       ...    ...\n",
       "8688  41.0     Europa    55 Cancri e            8536.0     False   True\n",
       "8689  18.0      Earth  PSO J318.5-22               0.0      True  False\n",
       "8690  26.0      Earth    TRAPPIST-1e            1873.0     False  False\n",
       "8691  32.0     Europa    55 Cancri e            4637.0     False  False\n",
       "8692  44.0     Europa    TRAPPIST-1e            4826.0     False  False\n",
       "\n",
       "[7953 rows x 6 columns]"
      ]
     },
     "execution_count": 72,
     "metadata": {},
     "output_type": "execute_result"
    }
   ],
   "source": [
    "X"
   ]
  },
  {
   "cell_type": "code",
   "execution_count": 73,
   "id": "1bc8ad83",
   "metadata": {
    "execution": {
     "iopub.execute_input": "2024-11-19T17:56:14.793529Z",
     "iopub.status.busy": "2024-11-19T17:56:14.793139Z",
     "iopub.status.idle": "2024-11-19T17:56:14.801463Z",
     "shell.execute_reply": "2024-11-19T17:56:14.800150Z"
    },
    "papermill": {
     "duration": 0.039244,
     "end_time": "2024-11-19T17:56:14.803530",
     "exception": false,
     "start_time": "2024-11-19T17:56:14.764286",
     "status": "completed"
    },
    "tags": []
   },
   "outputs": [
    {
     "data": {
      "text/plain": [
       "Age                 float64\n",
       "HomePlanet           object\n",
       "Destination          object\n",
       "TotalExpenditure    float64\n",
       "CryoSleep            object\n",
       "VIP                    bool\n",
       "dtype: object"
      ]
     },
     "execution_count": 73,
     "metadata": {},
     "output_type": "execute_result"
    }
   ],
   "source": [
    "X.dtypes"
   ]
  },
  {
   "cell_type": "code",
   "execution_count": 74,
   "id": "43df4f9a",
   "metadata": {
    "execution": {
     "iopub.execute_input": "2024-11-19T17:56:14.859542Z",
     "iopub.status.busy": "2024-11-19T17:56:14.859154Z",
     "iopub.status.idle": "2024-11-19T17:56:14.872139Z",
     "shell.execute_reply": "2024-11-19T17:56:14.871139Z"
    },
    "papermill": {
     "duration": 0.043775,
     "end_time": "2024-11-19T17:56:14.874523",
     "exception": false,
     "start_time": "2024-11-19T17:56:14.830748",
     "status": "completed"
    },
    "tags": []
   },
   "outputs": [
    {
     "name": "stderr",
     "output_type": "stream",
     "text": [
      "/tmp/ipykernel_17/3638390401.py:1: SettingWithCopyWarning: \n",
      "A value is trying to be set on a copy of a slice from a DataFrame.\n",
      "Try using .loc[row_indexer,col_indexer] = value instead\n",
      "\n",
      "See the caveats in the documentation: https://pandas.pydata.org/pandas-docs/stable/user_guide/indexing.html#returning-a-view-versus-a-copy\n",
      "  X['HomePlanet'] = X['HomePlanet'].astype(str)  # Ensure column is string type\n",
      "/tmp/ipykernel_17/3638390401.py:2: SettingWithCopyWarning: \n",
      "A value is trying to be set on a copy of a slice from a DataFrame.\n",
      "Try using .loc[row_indexer,col_indexer] = value instead\n",
      "\n",
      "See the caveats in the documentation: https://pandas.pydata.org/pandas-docs/stable/user_guide/indexing.html#returning-a-view-versus-a-copy\n",
      "  X['Destination'] = X['Destination'].astype(str)  # Ensure column is string type\n",
      "/tmp/ipykernel_17/3638390401.py:3: SettingWithCopyWarning: \n",
      "A value is trying to be set on a copy of a slice from a DataFrame.\n",
      "Try using .loc[row_indexer,col_indexer] = value instead\n",
      "\n",
      "See the caveats in the documentation: https://pandas.pydata.org/pandas-docs/stable/user_guide/indexing.html#returning-a-view-versus-a-copy\n",
      "  X['CryoSleep'] = X['CryoSleep'].astype(str)  # Ensure column is string type\n",
      "/tmp/ipykernel_17/3638390401.py:4: SettingWithCopyWarning: \n",
      "A value is trying to be set on a copy of a slice from a DataFrame.\n",
      "Try using .loc[row_indexer,col_indexer] = value instead\n",
      "\n",
      "See the caveats in the documentation: https://pandas.pydata.org/pandas-docs/stable/user_guide/indexing.html#returning-a-view-versus-a-copy\n",
      "  X['VIP'] = X['VIP'].astype(str)  # Ensure column is string type\n"
     ]
    }
   ],
   "source": [
    "X['HomePlanet'] = X['HomePlanet'].astype(str)  # Ensure column is string type\n",
    "X['Destination'] = X['Destination'].astype(str)  # Ensure column is string type\n",
    "X['CryoSleep'] = X['CryoSleep'].astype(str)  # Ensure column is string type\n",
    "X['VIP'] = X['VIP'].astype(str)  # Ensure column is string type\n"
   ]
  },
  {
   "cell_type": "code",
   "execution_count": 75,
   "id": "b722eef8",
   "metadata": {
    "execution": {
     "iopub.execute_input": "2024-11-19T17:56:14.930653Z",
     "iopub.status.busy": "2024-11-19T17:56:14.930249Z",
     "iopub.status.idle": "2024-11-19T17:56:14.938034Z",
     "shell.execute_reply": "2024-11-19T17:56:14.936931Z"
    },
    "papermill": {
     "duration": 0.038202,
     "end_time": "2024-11-19T17:56:14.940078",
     "exception": false,
     "start_time": "2024-11-19T17:56:14.901876",
     "status": "completed"
    },
    "tags": []
   },
   "outputs": [
    {
     "data": {
      "text/plain": [
       "Age                 float64\n",
       "HomePlanet           object\n",
       "Destination          object\n",
       "TotalExpenditure    float64\n",
       "CryoSleep            object\n",
       "VIP                  object\n",
       "dtype: object"
      ]
     },
     "execution_count": 75,
     "metadata": {},
     "output_type": "execute_result"
    }
   ],
   "source": [
    "X.dtypes"
   ]
  },
  {
   "cell_type": "code",
   "execution_count": 76,
   "id": "75a1b31c",
   "metadata": {
    "execution": {
     "iopub.execute_input": "2024-11-19T17:56:14.997154Z",
     "iopub.status.busy": "2024-11-19T17:56:14.996354Z",
     "iopub.status.idle": "2024-11-19T17:56:15.009401Z",
     "shell.execute_reply": "2024-11-19T17:56:15.008405Z"
    },
    "papermill": {
     "duration": 0.044962,
     "end_time": "2024-11-19T17:56:15.012251",
     "exception": false,
     "start_time": "2024-11-19T17:56:14.967289",
     "status": "completed"
    },
    "tags": []
   },
   "outputs": [
    {
     "name": "stderr",
     "output_type": "stream",
     "text": [
      "/tmp/ipykernel_17/361920014.py:6: SettingWithCopyWarning: \n",
      "A value is trying to be set on a copy of a slice from a DataFrame.\n",
      "Try using .loc[row_indexer,col_indexer] = value instead\n",
      "\n",
      "See the caveats in the documentation: https://pandas.pydata.org/pandas-docs/stable/user_guide/indexing.html#returning-a-view-versus-a-copy\n",
      "  X[f] = encoding.fit_transform(X[f])\n",
      "/tmp/ipykernel_17/361920014.py:6: SettingWithCopyWarning: \n",
      "A value is trying to be set on a copy of a slice from a DataFrame.\n",
      "Try using .loc[row_indexer,col_indexer] = value instead\n",
      "\n",
      "See the caveats in the documentation: https://pandas.pydata.org/pandas-docs/stable/user_guide/indexing.html#returning-a-view-versus-a-copy\n",
      "  X[f] = encoding.fit_transform(X[f])\n",
      "/tmp/ipykernel_17/361920014.py:6: SettingWithCopyWarning: \n",
      "A value is trying to be set on a copy of a slice from a DataFrame.\n",
      "Try using .loc[row_indexer,col_indexer] = value instead\n",
      "\n",
      "See the caveats in the documentation: https://pandas.pydata.org/pandas-docs/stable/user_guide/indexing.html#returning-a-view-versus-a-copy\n",
      "  X[f] = encoding.fit_transform(X[f])\n",
      "/tmp/ipykernel_17/361920014.py:6: SettingWithCopyWarning: \n",
      "A value is trying to be set on a copy of a slice from a DataFrame.\n",
      "Try using .loc[row_indexer,col_indexer] = value instead\n",
      "\n",
      "See the caveats in the documentation: https://pandas.pydata.org/pandas-docs/stable/user_guide/indexing.html#returning-a-view-versus-a-copy\n",
      "  X[f] = encoding.fit_transform(X[f])\n"
     ]
    }
   ],
   "source": [
    "encoding = LabelEncoder()\n",
    "\n",
    "cat_features = ['HomePlanet','Destination','CryoSleep','VIP']\n",
    "\n",
    "for f in cat_features:\n",
    "    X[f] = encoding.fit_transform(X[f])"
   ]
  },
  {
   "cell_type": "code",
   "execution_count": 77,
   "id": "1baf299c",
   "metadata": {
    "execution": {
     "iopub.execute_input": "2024-11-19T17:56:15.071536Z",
     "iopub.status.busy": "2024-11-19T17:56:15.070759Z",
     "iopub.status.idle": "2024-11-19T17:56:15.085286Z",
     "shell.execute_reply": "2024-11-19T17:56:15.084112Z"
    },
    "papermill": {
     "duration": 0.047024,
     "end_time": "2024-11-19T17:56:15.087633",
     "exception": false,
     "start_time": "2024-11-19T17:56:15.040609",
     "status": "completed"
    },
    "tags": []
   },
   "outputs": [
    {
     "data": {
      "text/html": [
       "<div>\n",
       "<style scoped>\n",
       "    .dataframe tbody tr th:only-of-type {\n",
       "        vertical-align: middle;\n",
       "    }\n",
       "\n",
       "    .dataframe tbody tr th {\n",
       "        vertical-align: top;\n",
       "    }\n",
       "\n",
       "    .dataframe thead th {\n",
       "        text-align: right;\n",
       "    }\n",
       "</style>\n",
       "<table border=\"1\" class=\"dataframe\">\n",
       "  <thead>\n",
       "    <tr style=\"text-align: right;\">\n",
       "      <th></th>\n",
       "      <th>Age</th>\n",
       "      <th>HomePlanet</th>\n",
       "      <th>Destination</th>\n",
       "      <th>TotalExpenditure</th>\n",
       "      <th>CryoSleep</th>\n",
       "      <th>VIP</th>\n",
       "    </tr>\n",
       "  </thead>\n",
       "  <tbody>\n",
       "    <tr>\n",
       "      <th>0</th>\n",
       "      <td>39.0</td>\n",
       "      <td>1</td>\n",
       "      <td>2</td>\n",
       "      <td>0.0</td>\n",
       "      <td>0</td>\n",
       "      <td>0</td>\n",
       "    </tr>\n",
       "    <tr>\n",
       "      <th>1</th>\n",
       "      <td>24.0</td>\n",
       "      <td>0</td>\n",
       "      <td>2</td>\n",
       "      <td>736.0</td>\n",
       "      <td>0</td>\n",
       "      <td>0</td>\n",
       "    </tr>\n",
       "    <tr>\n",
       "      <th>3</th>\n",
       "      <td>33.0</td>\n",
       "      <td>1</td>\n",
       "      <td>2</td>\n",
       "      <td>5176.0</td>\n",
       "      <td>0</td>\n",
       "      <td>0</td>\n",
       "    </tr>\n",
       "    <tr>\n",
       "      <th>4</th>\n",
       "      <td>16.0</td>\n",
       "      <td>0</td>\n",
       "      <td>2</td>\n",
       "      <td>1091.0</td>\n",
       "      <td>0</td>\n",
       "      <td>0</td>\n",
       "    </tr>\n",
       "    <tr>\n",
       "      <th>5</th>\n",
       "      <td>44.0</td>\n",
       "      <td>0</td>\n",
       "      <td>1</td>\n",
       "      <td>774.0</td>\n",
       "      <td>0</td>\n",
       "      <td>0</td>\n",
       "    </tr>\n",
       "    <tr>\n",
       "      <th>...</th>\n",
       "      <td>...</td>\n",
       "      <td>...</td>\n",
       "      <td>...</td>\n",
       "      <td>...</td>\n",
       "      <td>...</td>\n",
       "      <td>...</td>\n",
       "    </tr>\n",
       "    <tr>\n",
       "      <th>8688</th>\n",
       "      <td>41.0</td>\n",
       "      <td>1</td>\n",
       "      <td>0</td>\n",
       "      <td>8536.0</td>\n",
       "      <td>0</td>\n",
       "      <td>1</td>\n",
       "    </tr>\n",
       "    <tr>\n",
       "      <th>8689</th>\n",
       "      <td>18.0</td>\n",
       "      <td>0</td>\n",
       "      <td>1</td>\n",
       "      <td>0.0</td>\n",
       "      <td>1</td>\n",
       "      <td>0</td>\n",
       "    </tr>\n",
       "    <tr>\n",
       "      <th>8690</th>\n",
       "      <td>26.0</td>\n",
       "      <td>0</td>\n",
       "      <td>2</td>\n",
       "      <td>1873.0</td>\n",
       "      <td>0</td>\n",
       "      <td>0</td>\n",
       "    </tr>\n",
       "    <tr>\n",
       "      <th>8691</th>\n",
       "      <td>32.0</td>\n",
       "      <td>1</td>\n",
       "      <td>0</td>\n",
       "      <td>4637.0</td>\n",
       "      <td>0</td>\n",
       "      <td>0</td>\n",
       "    </tr>\n",
       "    <tr>\n",
       "      <th>8692</th>\n",
       "      <td>44.0</td>\n",
       "      <td>1</td>\n",
       "      <td>2</td>\n",
       "      <td>4826.0</td>\n",
       "      <td>0</td>\n",
       "      <td>0</td>\n",
       "    </tr>\n",
       "  </tbody>\n",
       "</table>\n",
       "<p>7953 rows × 6 columns</p>\n",
       "</div>"
      ],
      "text/plain": [
       "       Age  HomePlanet  Destination  TotalExpenditure  CryoSleep  VIP\n",
       "0     39.0           1            2               0.0          0    0\n",
       "1     24.0           0            2             736.0          0    0\n",
       "3     33.0           1            2            5176.0          0    0\n",
       "4     16.0           0            2            1091.0          0    0\n",
       "5     44.0           0            1             774.0          0    0\n",
       "...    ...         ...          ...               ...        ...  ...\n",
       "8688  41.0           1            0            8536.0          0    1\n",
       "8689  18.0           0            1               0.0          1    0\n",
       "8690  26.0           0            2            1873.0          0    0\n",
       "8691  32.0           1            0            4637.0          0    0\n",
       "8692  44.0           1            2            4826.0          0    0\n",
       "\n",
       "[7953 rows x 6 columns]"
      ]
     },
     "execution_count": 77,
     "metadata": {},
     "output_type": "execute_result"
    }
   ],
   "source": [
    "X"
   ]
  },
  {
   "cell_type": "code",
   "execution_count": 78,
   "id": "d6d4c433",
   "metadata": {
    "execution": {
     "iopub.execute_input": "2024-11-19T17:56:15.146485Z",
     "iopub.status.busy": "2024-11-19T17:56:15.145787Z",
     "iopub.status.idle": "2024-11-19T17:56:15.152893Z",
     "shell.execute_reply": "2024-11-19T17:56:15.151877Z"
    },
    "papermill": {
     "duration": 0.039298,
     "end_time": "2024-11-19T17:56:15.154935",
     "exception": false,
     "start_time": "2024-11-19T17:56:15.115637",
     "status": "completed"
    },
    "tags": []
   },
   "outputs": [
    {
     "name": "stdout",
     "output_type": "stream",
     "text": [
      "[1 0 2]\n",
      "[2 1 0]\n",
      "[0 1]\n",
      "[0 1]\n"
     ]
    }
   ],
   "source": [
    "for f in cat_features:\n",
    "    print(X[f].unique())"
   ]
  },
  {
   "cell_type": "code",
   "execution_count": 79,
   "id": "f0f8576f",
   "metadata": {
    "execution": {
     "iopub.execute_input": "2024-11-19T17:56:15.214480Z",
     "iopub.status.busy": "2024-11-19T17:56:15.214095Z",
     "iopub.status.idle": "2024-11-19T17:56:15.221752Z",
     "shell.execute_reply": "2024-11-19T17:56:15.220566Z"
    },
    "papermill": {
     "duration": 0.04072,
     "end_time": "2024-11-19T17:56:15.223981",
     "exception": false,
     "start_time": "2024-11-19T17:56:15.183261",
     "status": "completed"
    },
    "tags": []
   },
   "outputs": [
    {
     "name": "stdout",
     "output_type": "stream",
     "text": [
      "[1 0 2]\n",
      "[2 1 0]\n",
      "[0 1]\n",
      "[0 1]\n"
     ]
    }
   ],
   "source": [
    "for f in cat_features:\n",
    "    print(X[f].unique())"
   ]
  },
  {
   "cell_type": "code",
   "execution_count": 80,
   "id": "3153fb6c",
   "metadata": {
    "execution": {
     "iopub.execute_input": "2024-11-19T17:56:15.282437Z",
     "iopub.status.busy": "2024-11-19T17:56:15.282025Z",
     "iopub.status.idle": "2024-11-19T17:56:15.290565Z",
     "shell.execute_reply": "2024-11-19T17:56:15.289622Z"
    },
    "papermill": {
     "duration": 0.040304,
     "end_time": "2024-11-19T17:56:15.293086",
     "exception": false,
     "start_time": "2024-11-19T17:56:15.252782",
     "status": "completed"
    },
    "tags": []
   },
   "outputs": [],
   "source": [
    "X_train,X_test,y_train,y_test = train_test_split(X,y,random_state=10,test_size=0.25)"
   ]
  },
  {
   "cell_type": "code",
   "execution_count": 81,
   "id": "735f8d28",
   "metadata": {
    "execution": {
     "iopub.execute_input": "2024-11-19T17:56:15.352950Z",
     "iopub.status.busy": "2024-11-19T17:56:15.352528Z",
     "iopub.status.idle": "2024-11-19T17:56:15.357367Z",
     "shell.execute_reply": "2024-11-19T17:56:15.356335Z"
    },
    "papermill": {
     "duration": 0.036535,
     "end_time": "2024-11-19T17:56:15.359543",
     "exception": false,
     "start_time": "2024-11-19T17:56:15.323008",
     "status": "completed"
    },
    "tags": []
   },
   "outputs": [],
   "source": [
    "model = DecisionTreeClassifier(criterion='entropy')"
   ]
  },
  {
   "cell_type": "code",
   "execution_count": 82,
   "id": "553d8523",
   "metadata": {
    "execution": {
     "iopub.execute_input": "2024-11-19T17:56:15.416743Z",
     "iopub.status.busy": "2024-11-19T17:56:15.416035Z",
     "iopub.status.idle": "2024-11-19T17:56:15.445964Z",
     "shell.execute_reply": "2024-11-19T17:56:15.444913Z"
    },
    "papermill": {
     "duration": 0.060779,
     "end_time": "2024-11-19T17:56:15.448097",
     "exception": false,
     "start_time": "2024-11-19T17:56:15.387318",
     "status": "completed"
    },
    "tags": []
   },
   "outputs": [
    {
     "data": {
      "text/plain": [
       "0.6641528406234288"
      ]
     },
     "execution_count": 82,
     "metadata": {},
     "output_type": "execute_result"
    }
   ],
   "source": [
    "model.fit(X_train,y_train)\n",
    "model.score(X_test,y_test)"
   ]
  },
  {
   "cell_type": "code",
   "execution_count": 83,
   "id": "d08572e5",
   "metadata": {
    "execution": {
     "iopub.execute_input": "2024-11-19T17:56:15.507459Z",
     "iopub.status.busy": "2024-11-19T17:56:15.506644Z",
     "iopub.status.idle": "2024-11-19T17:56:15.781002Z",
     "shell.execute_reply": "2024-11-19T17:56:15.779875Z"
    },
    "papermill": {
     "duration": 0.306541,
     "end_time": "2024-11-19T17:56:15.783174",
     "exception": false,
     "start_time": "2024-11-19T17:56:15.476633",
     "status": "completed"
    },
    "tags": []
   },
   "outputs": [
    {
     "data": {
      "text/plain": [
       "<sklearn.metrics._plot.confusion_matrix.ConfusionMatrixDisplay at 0x7a0b3d503790>"
      ]
     },
     "execution_count": 83,
     "metadata": {},
     "output_type": "execute_result"
    },
    {
     "data": {
      "image/png": "[encoded data removed]",
      "text/plain": [
       "<Figure size 640x480 with 2 Axes>"
      ]
     },
     "metadata": {},
     "output_type": "display_data"
    }
   ],
   "source": [
    "ConfusionMatrixDisplay.from_estimator(model,X_test,y_test)"
   ]
  },
  {
   "cell_type": "markdown",
   "id": "cbce2d46",
   "metadata": {
    "papermill": {
     "duration": 0.028527,
     "end_time": "2024-11-19T17:56:15.840667",
     "exception": false,
     "start_time": "2024-11-19T17:56:15.812140",
     "status": "completed"
    },
    "tags": []
   },
   "source": [
    "356 people are not transported but model says they are transported. Which is fatal because no measure will be taken to identify the people who are not transported.\n",
    "315 people are transported but model says they are not transported which is fine anyhow they are transported no harm.\n",
    "Our main is to reduce this reduce 356."
   ]
  },
  {
   "cell_type": "code",
   "execution_count": 84,
   "id": "075bed1b",
   "metadata": {
    "execution": {
     "iopub.execute_input": "2024-11-19T17:56:15.900109Z",
     "iopub.status.busy": "2024-11-19T17:56:15.899118Z",
     "iopub.status.idle": "2024-11-19T17:56:15.973365Z",
     "shell.execute_reply": "2024-11-19T17:56:15.972340Z"
    },
    "papermill": {
     "duration": 0.106818,
     "end_time": "2024-11-19T17:56:15.975913",
     "exception": false,
     "start_time": "2024-11-19T17:56:15.869095",
     "status": "completed"
    },
    "tags": []
   },
   "outputs": [],
   "source": [
    "accuracy1 = []\n",
    "for k in range(2,15,2):\n",
    "    model = DecisionTreeClassifier(criterion='entropy',max_depth=k,max_leaf_nodes=30)\n",
    "    model.fit(X_train,y_train)\n",
    "    accuracy1.append(model.score(X_test,y_test))"
   ]
  },
  {
   "cell_type": "code",
   "execution_count": 85,
   "id": "92414173",
   "metadata": {
    "execution": {
     "iopub.execute_input": "2024-11-19T17:56:16.037424Z",
     "iopub.status.busy": "2024-11-19T17:56:16.037017Z",
     "iopub.status.idle": "2024-11-19T17:56:16.225726Z",
     "shell.execute_reply": "2024-11-19T17:56:16.224539Z"
    },
    "papermill": {
     "duration": 0.222218,
     "end_time": "2024-11-19T17:56:16.228132",
     "exception": false,
     "start_time": "2024-11-19T17:56:16.005914",
     "status": "completed"
    },
    "tags": []
   },
   "outputs": [
    {
     "data": {
      "text/plain": [
       "[<matplotlib.lines.Line2D at 0x7a0b3d46e9e0>]"
      ]
     },
     "execution_count": 85,
     "metadata": {},
     "output_type": "execute_result"
    },
    {
     "data": {
      "image/png": "[encoded data removed]",
      "text/plain": [
       "<Figure size 640x480 with 1 Axes>"
      ]
     },
     "metadata": {},
     "output_type": "display_data"
    }
   ],
   "source": [
    "plt.plot(range(2,15,2), accuracy1, label = 'Test Accuracy')"
   ]
  },
  {
   "cell_type": "markdown",
   "id": "4fef94af",
   "metadata": {
    "papermill": {
     "duration": 0.029055,
     "end_time": "2024-11-19T17:56:16.287077",
     "exception": false,
     "start_time": "2024-11-19T17:56:16.258022",
     "status": "completed"
    },
    "tags": []
   },
   "source": [
    "best accuracy is at max_depth 4"
   ]
  },
  {
   "cell_type": "code",
   "execution_count": 86,
   "id": "01d3aeed",
   "metadata": {
    "execution": {
     "iopub.execute_input": "2024-11-19T17:56:16.348999Z",
     "iopub.status.busy": "2024-11-19T17:56:16.348576Z",
     "iopub.status.idle": "2024-11-19T17:56:16.353774Z",
     "shell.execute_reply": "2024-11-19T17:56:16.352730Z"
    },
    "papermill": {
     "duration": 0.038142,
     "end_time": "2024-11-19T17:56:16.355975",
     "exception": false,
     "start_time": "2024-11-19T17:56:16.317833",
     "status": "completed"
    },
    "tags": []
   },
   "outputs": [],
   "source": [
    "model = DecisionTreeClassifier(criterion='entropy',max_depth=4,max_leaf_nodes=30)"
   ]
  },
  {
   "cell_type": "code",
   "execution_count": 87,
   "id": "158ddd6f",
   "metadata": {
    "execution": {
     "iopub.execute_input": "2024-11-19T17:56:16.416810Z",
     "iopub.status.busy": "2024-11-19T17:56:16.415756Z",
     "iopub.status.idle": "2024-11-19T17:56:16.434298Z",
     "shell.execute_reply": "2024-11-19T17:56:16.433203Z"
    },
    "papermill": {
     "duration": 0.051121,
     "end_time": "2024-11-19T17:56:16.436523",
     "exception": false,
     "start_time": "2024-11-19T17:56:16.385402",
     "status": "completed"
    },
    "tags": []
   },
   "outputs": [
    {
     "data": {
      "text/plain": [
       "0.7275012569130216"
      ]
     },
     "execution_count": 87,
     "metadata": {},
     "output_type": "execute_result"
    }
   ],
   "source": [
    "model.fit(X_train,y_train)\n",
    "model.score(X_test,y_test)"
   ]
  },
  {
   "cell_type": "code",
   "execution_count": 88,
   "id": "2bddbd49",
   "metadata": {
    "execution": {
     "iopub.execute_input": "2024-11-19T17:56:16.554655Z",
     "iopub.status.busy": "2024-11-19T17:56:16.553713Z",
     "iopub.status.idle": "2024-11-19T17:56:16.829418Z",
     "shell.execute_reply": "2024-11-19T17:56:16.828043Z"
    },
    "papermill": {
     "duration": 0.309638,
     "end_time": "2024-11-19T17:56:16.831841",
     "exception": false,
     "start_time": "2024-11-19T17:56:16.522203",
     "status": "completed"
    },
    "tags": []
   },
   "outputs": [
    {
     "data": {
      "text/plain": [
       "<sklearn.metrics._plot.confusion_matrix.ConfusionMatrixDisplay at 0x7a0b438ca8c0>"
      ]
     },
     "execution_count": 88,
     "metadata": {},
     "output_type": "execute_result"
    },
    {
     "data": {
      "image/png": "[encoded data removed]",
      "text/plain": [
       "<Figure size 640x480 with 2 Axes>"
      ]
     },
     "metadata": {},
     "output_type": "display_data"
    }
   ],
   "source": [
    "ConfusionMatrixDisplay.from_estimator(model,X_test,y_test)"
   ]
  },
  {
   "cell_type": "markdown",
   "id": "7fb774e7",
   "metadata": {
    "papermill": {
     "duration": 0.028919,
     "end_time": "2024-11-19T17:56:16.890424",
     "exception": false,
     "start_time": "2024-11-19T17:56:16.861505",
     "status": "completed"
    },
    "tags": []
   },
   "source": [
    "356 came down to 143 after pruning"
   ]
  },
  {
   "cell_type": "markdown",
   "id": "6428ffe3",
   "metadata": {
    "papermill": {
     "duration": 0.028939,
     "end_time": "2024-11-19T17:56:16.948912",
     "exception": false,
     "start_time": "2024-11-19T17:56:16.919973",
     "status": "completed"
    },
    "tags": []
   },
   "source": [
    "**Checking Feature importances**"
   ]
  },
  {
   "cell_type": "code",
   "execution_count": 89,
   "id": "169c960e",
   "metadata": {
    "execution": {
     "iopub.execute_input": "2024-11-19T17:56:17.010490Z",
     "iopub.status.busy": "2024-11-19T17:56:17.010113Z",
     "iopub.status.idle": "2024-11-19T17:56:17.016976Z",
     "shell.execute_reply": "2024-11-19T17:56:17.015778Z"
    },
    "papermill": {
     "duration": 0.040765,
     "end_time": "2024-11-19T17:56:17.019207",
     "exception": false,
     "start_time": "2024-11-19T17:56:16.978442",
     "status": "completed"
    },
    "tags": []
   },
   "outputs": [
    {
     "data": {
      "text/plain": [
       "array([0.05213369, 0.19496083, 0.0085877 , 0.70472847, 0.03958932,\n",
       "       0.        ])"
      ]
     },
     "execution_count": 89,
     "metadata": {},
     "output_type": "execute_result"
    }
   ],
   "source": [
    "model.feature_importances_"
   ]
  },
  {
   "cell_type": "markdown",
   "id": "f7f876c1",
   "metadata": {
    "papermill": {
     "duration": 0.031207,
     "end_time": "2024-11-19T17:56:17.081549",
     "exception": false,
     "start_time": "2024-11-19T17:56:17.050342",
     "status": "completed"
    },
    "tags": []
   },
   "source": [
    "removing VIP and Destination as they have less contribution"
   ]
  },
  {
   "cell_type": "code",
   "execution_count": 90,
   "id": "050fe14c",
   "metadata": {
    "execution": {
     "iopub.execute_input": "2024-11-19T17:56:17.143940Z",
     "iopub.status.busy": "2024-11-19T17:56:17.143537Z",
     "iopub.status.idle": "2024-11-19T17:56:17.150021Z",
     "shell.execute_reply": "2024-11-19T17:56:17.149108Z"
    },
    "papermill": {
     "duration": 0.040078,
     "end_time": "2024-11-19T17:56:17.152046",
     "exception": false,
     "start_time": "2024-11-19T17:56:17.111968",
     "status": "completed"
    },
    "tags": []
   },
   "outputs": [],
   "source": [
    "X = X[['Age','HomePlanet','TotalExpenditure','CryoSleep']]"
   ]
  },
  {
   "cell_type": "code",
   "execution_count": 91,
   "id": "8a139def",
   "metadata": {
    "execution": {
     "iopub.execute_input": "2024-11-19T17:56:17.214342Z",
     "iopub.status.busy": "2024-11-19T17:56:17.213960Z",
     "iopub.status.idle": "2024-11-19T17:56:17.223131Z",
     "shell.execute_reply": "2024-11-19T17:56:17.221967Z"
    },
    "papermill": {
     "duration": 0.043254,
     "end_time": "2024-11-19T17:56:17.225407",
     "exception": false,
     "start_time": "2024-11-19T17:56:17.182153",
     "status": "completed"
    },
    "tags": []
   },
   "outputs": [],
   "source": [
    "X_train,X_test,y_train,y_test = train_test_split(X,y,random_state=10,test_size=0.25)"
   ]
  },
  {
   "cell_type": "code",
   "execution_count": 92,
   "id": "1bf34fda",
   "metadata": {
    "execution": {
     "iopub.execute_input": "2024-11-19T17:56:17.288251Z",
     "iopub.status.busy": "2024-11-19T17:56:17.287208Z",
     "iopub.status.idle": "2024-11-19T17:56:17.292455Z",
     "shell.execute_reply": "2024-11-19T17:56:17.291425Z"
    },
    "papermill": {
     "duration": 0.038731,
     "end_time": "2024-11-19T17:56:17.294569",
     "exception": false,
     "start_time": "2024-11-19T17:56:17.255838",
     "status": "completed"
    },
    "tags": []
   },
   "outputs": [],
   "source": [
    "model = DecisionTreeClassifier(criterion='entropy',max_depth=4,max_leaf_nodes=30)"
   ]
  },
  {
   "cell_type": "code",
   "execution_count": 93,
   "id": "00da520e",
   "metadata": {
    "execution": {
     "iopub.execute_input": "2024-11-19T17:56:17.358275Z",
     "iopub.status.busy": "2024-11-19T17:56:17.357827Z",
     "iopub.status.idle": "2024-11-19T17:56:17.374573Z",
     "shell.execute_reply": "2024-11-19T17:56:17.373548Z"
    },
    "papermill": {
     "duration": 0.050657,
     "end_time": "2024-11-19T17:56:17.376940",
     "exception": false,
     "start_time": "2024-11-19T17:56:17.326283",
     "status": "completed"
    },
    "tags": []
   },
   "outputs": [
    {
     "data": {
      "text/plain": [
       "0.7280040221216691"
      ]
     },
     "execution_count": 93,
     "metadata": {},
     "output_type": "execute_result"
    }
   ],
   "source": [
    "model.fit(X_train,y_train)\n",
    "model.score(X_test,y_test)"
   ]
  },
  {
   "cell_type": "markdown",
   "id": "520baf12",
   "metadata": {
    "papermill": {
     "duration": 0.030471,
     "end_time": "2024-11-19T17:56:17.439109",
     "exception": false,
     "start_time": "2024-11-19T17:56:17.408638",
     "status": "completed"
    },
    "tags": []
   },
   "source": [
    "**72.8 is the higest accuracy till not, therefore my best features are ['Age','HomePlanet','TotalExpenditure','CryoSleep']**"
   ]
  },
  {
   "cell_type": "markdown",
   "id": "9a81e0db",
   "metadata": {
    "papermill": {
     "duration": 0.031887,
     "end_time": "2024-11-19T17:56:17.501628",
     "exception": false,
     "start_time": "2024-11-19T17:56:17.469741",
     "status": "completed"
    },
    "tags": []
   },
   "source": [
    "**Testing Data**"
   ]
  },
  {
   "cell_type": "code",
   "execution_count": 94,
   "id": "74255870",
   "metadata": {
    "execution": {
     "iopub.execute_input": "2024-11-19T17:56:17.565941Z",
     "iopub.status.busy": "2024-11-19T17:56:17.565134Z",
     "iopub.status.idle": "2024-11-19T17:56:17.571369Z",
     "shell.execute_reply": "2024-11-19T17:56:17.570343Z"
    },
    "papermill": {
     "duration": 0.040188,
     "end_time": "2024-11-19T17:56:17.573532",
     "exception": false,
     "start_time": "2024-11-19T17:56:17.533344",
     "status": "completed"
    },
    "tags": []
   },
   "outputs": [],
   "source": [
    "input_test_data = test[['Age','HomePlanet','TotalExpenditure','CryoSleep']]"
   ]
  },
  {
   "cell_type": "code",
   "execution_count": 95,
   "id": "2482fb19",
   "metadata": {
    "execution": {
     "iopub.execute_input": "2024-11-19T17:56:17.637615Z",
     "iopub.status.busy": "2024-11-19T17:56:17.637208Z",
     "iopub.status.idle": "2024-11-19T17:56:17.644257Z",
     "shell.execute_reply": "2024-11-19T17:56:17.643123Z"
    },
    "papermill": {
     "duration": 0.042646,
     "end_time": "2024-11-19T17:56:17.646394",
     "exception": false,
     "start_time": "2024-11-19T17:56:17.603748",
     "status": "completed"
    },
    "tags": []
   },
   "outputs": [
    {
     "name": "stdout",
     "output_type": "stream",
     "text": [
      "['Earth' 'Europa' 'Mars']\n",
      "[True False]\n"
     ]
    }
   ],
   "source": [
    "cat_features = ['HomePlanet','CryoSleep']\n",
    "for f in cat_features:\n",
    "    print(input_test_data[f].unique())"
   ]
  },
  {
   "cell_type": "code",
   "execution_count": 96,
   "id": "2a03053e",
   "metadata": {
    "execution": {
     "iopub.execute_input": "2024-11-19T17:56:17.709251Z",
     "iopub.status.busy": "2024-11-19T17:56:17.708846Z",
     "iopub.status.idle": "2024-11-19T17:56:17.719111Z",
     "shell.execute_reply": "2024-11-19T17:56:17.717821Z"
    },
    "papermill": {
     "duration": 0.045273,
     "end_time": "2024-11-19T17:56:17.721793",
     "exception": false,
     "start_time": "2024-11-19T17:56:17.676520",
     "status": "completed"
    },
    "tags": []
   },
   "outputs": [
    {
     "name": "stderr",
     "output_type": "stream",
     "text": [
      "/tmp/ipykernel_17/1276233702.py:6: SettingWithCopyWarning: \n",
      "A value is trying to be set on a copy of a slice from a DataFrame.\n",
      "Try using .loc[row_indexer,col_indexer] = value instead\n",
      "\n",
      "See the caveats in the documentation: https://pandas.pydata.org/pandas-docs/stable/user_guide/indexing.html#returning-a-view-versus-a-copy\n",
      "  input_test_data[f] = encoding.fit_transform(input_test_data[f])\n",
      "/tmp/ipykernel_17/1276233702.py:6: SettingWithCopyWarning: \n",
      "A value is trying to be set on a copy of a slice from a DataFrame.\n",
      "Try using .loc[row_indexer,col_indexer] = value instead\n",
      "\n",
      "See the caveats in the documentation: https://pandas.pydata.org/pandas-docs/stable/user_guide/indexing.html#returning-a-view-versus-a-copy\n",
      "  input_test_data[f] = encoding.fit_transform(input_test_data[f])\n"
     ]
    }
   ],
   "source": [
    "encoding = LabelEncoder()\n",
    "\n",
    "cat_features = ['HomePlanet','CryoSleep']\n",
    "\n",
    "for f in cat_features:\n",
    "    input_test_data[f] = encoding.fit_transform(input_test_data[f])"
   ]
  },
  {
   "cell_type": "code",
   "execution_count": 97,
   "id": "baa4c655",
   "metadata": {
    "execution": {
     "iopub.execute_input": "2024-11-19T17:56:17.785405Z",
     "iopub.status.busy": "2024-11-19T17:56:17.784954Z",
     "iopub.status.idle": "2024-11-19T17:56:17.799346Z",
     "shell.execute_reply": "2024-11-19T17:56:17.798124Z"
    },
    "papermill": {
     "duration": 0.048157,
     "end_time": "2024-11-19T17:56:17.801339",
     "exception": false,
     "start_time": "2024-11-19T17:56:17.753182",
     "status": "completed"
    },
    "tags": []
   },
   "outputs": [
    {
     "data": {
      "text/html": [
       "<div>\n",
       "<style scoped>\n",
       "    .dataframe tbody tr th:only-of-type {\n",
       "        vertical-align: middle;\n",
       "    }\n",
       "\n",
       "    .dataframe tbody tr th {\n",
       "        vertical-align: top;\n",
       "    }\n",
       "\n",
       "    .dataframe thead th {\n",
       "        text-align: right;\n",
       "    }\n",
       "</style>\n",
       "<table border=\"1\" class=\"dataframe\">\n",
       "  <thead>\n",
       "    <tr style=\"text-align: right;\">\n",
       "      <th></th>\n",
       "      <th>Age</th>\n",
       "      <th>HomePlanet</th>\n",
       "      <th>TotalExpenditure</th>\n",
       "      <th>CryoSleep</th>\n",
       "    </tr>\n",
       "  </thead>\n",
       "  <tbody>\n",
       "    <tr>\n",
       "      <th>0</th>\n",
       "      <td>27.000000</td>\n",
       "      <td>0</td>\n",
       "      <td>0.0</td>\n",
       "      <td>1</td>\n",
       "    </tr>\n",
       "    <tr>\n",
       "      <th>1</th>\n",
       "      <td>19.000000</td>\n",
       "      <td>0</td>\n",
       "      <td>2832.0</td>\n",
       "      <td>0</td>\n",
       "    </tr>\n",
       "    <tr>\n",
       "      <th>2</th>\n",
       "      <td>31.000000</td>\n",
       "      <td>1</td>\n",
       "      <td>0.0</td>\n",
       "      <td>1</td>\n",
       "    </tr>\n",
       "    <tr>\n",
       "      <th>3</th>\n",
       "      <td>38.000000</td>\n",
       "      <td>1</td>\n",
       "      <td>7418.0</td>\n",
       "      <td>0</td>\n",
       "    </tr>\n",
       "    <tr>\n",
       "      <th>4</th>\n",
       "      <td>20.000000</td>\n",
       "      <td>0</td>\n",
       "      <td>645.0</td>\n",
       "      <td>0</td>\n",
       "    </tr>\n",
       "    <tr>\n",
       "      <th>...</th>\n",
       "      <td>...</td>\n",
       "      <td>...</td>\n",
       "      <td>...</td>\n",
       "      <td>...</td>\n",
       "    </tr>\n",
       "    <tr>\n",
       "      <th>4272</th>\n",
       "      <td>34.000000</td>\n",
       "      <td>0</td>\n",
       "      <td>0.0</td>\n",
       "      <td>1</td>\n",
       "    </tr>\n",
       "    <tr>\n",
       "      <th>4273</th>\n",
       "      <td>42.000000</td>\n",
       "      <td>0</td>\n",
       "      <td>1018.0</td>\n",
       "      <td>0</td>\n",
       "    </tr>\n",
       "    <tr>\n",
       "      <th>4274</th>\n",
       "      <td>28.621496</td>\n",
       "      <td>2</td>\n",
       "      <td>0.0</td>\n",
       "      <td>1</td>\n",
       "    </tr>\n",
       "    <tr>\n",
       "      <th>4275</th>\n",
       "      <td>28.621496</td>\n",
       "      <td>1</td>\n",
       "      <td>3203.0</td>\n",
       "      <td>0</td>\n",
       "    </tr>\n",
       "    <tr>\n",
       "      <th>4276</th>\n",
       "      <td>43.000000</td>\n",
       "      <td>0</td>\n",
       "      <td>0.0</td>\n",
       "      <td>1</td>\n",
       "    </tr>\n",
       "  </tbody>\n",
       "</table>\n",
       "<p>4277 rows × 4 columns</p>\n",
       "</div>"
      ],
      "text/plain": [
       "            Age  HomePlanet  TotalExpenditure  CryoSleep\n",
       "0     27.000000           0               0.0          1\n",
       "1     19.000000           0            2832.0          0\n",
       "2     31.000000           1               0.0          1\n",
       "3     38.000000           1            7418.0          0\n",
       "4     20.000000           0             645.0          0\n",
       "...         ...         ...               ...        ...\n",
       "4272  34.000000           0               0.0          1\n",
       "4273  42.000000           0            1018.0          0\n",
       "4274  28.621496           2               0.0          1\n",
       "4275  28.621496           1            3203.0          0\n",
       "4276  43.000000           0               0.0          1\n",
       "\n",
       "[4277 rows x 4 columns]"
      ]
     },
     "execution_count": 97,
     "metadata": {},
     "output_type": "execute_result"
    }
   ],
   "source": [
    "input_test_data"
   ]
  },
  {
   "cell_type": "code",
   "execution_count": 98,
   "id": "9f6ff08b",
   "metadata": {
    "execution": {
     "iopub.execute_input": "2024-11-19T17:56:17.865511Z",
     "iopub.status.busy": "2024-11-19T17:56:17.865120Z",
     "iopub.status.idle": "2024-11-19T17:56:17.872747Z",
     "shell.execute_reply": "2024-11-19T17:56:17.871494Z"
    },
    "papermill": {
     "duration": 0.043114,
     "end_time": "2024-11-19T17:56:17.874994",
     "exception": false,
     "start_time": "2024-11-19T17:56:17.831880",
     "status": "completed"
    },
    "tags": []
   },
   "outputs": [],
   "source": [
    "test_data_predictions = model.predict(input_test_data)"
   ]
  },
  {
   "cell_type": "code",
   "execution_count": 99,
   "id": "0dd80801",
   "metadata": {
    "execution": {
     "iopub.execute_input": "2024-11-19T17:56:17.938988Z",
     "iopub.status.busy": "2024-11-19T17:56:17.938390Z",
     "iopub.status.idle": "2024-11-19T17:56:17.953040Z",
     "shell.execute_reply": "2024-11-19T17:56:17.951535Z"
    },
    "papermill": {
     "duration": 0.049885,
     "end_time": "2024-11-19T17:56:17.955790",
     "exception": false,
     "start_time": "2024-11-19T17:56:17.905905",
     "status": "completed"
    },
    "tags": []
   },
   "outputs": [],
   "source": [
    "result_df = pd.DataFrame({\n",
    "    'PassengerId': test['PassengerId'],  # Extract IDs from the original DataFrame\n",
    "    'Transported': test_data_predictions\n",
    "})\n",
    "\n",
    "# Save to Excel\n",
    "result_df.to_csv('/kaggle/working/submission.csv', index=False)"
   ]
  },
  {
   "cell_type": "code",
   "execution_count": 100,
   "id": "6a538667",
   "metadata": {
    "execution": {
     "iopub.execute_input": "2024-11-19T17:56:18.021291Z",
     "iopub.status.busy": "2024-11-19T17:56:18.020855Z",
     "iopub.status.idle": "2024-11-19T17:56:18.030413Z",
     "shell.execute_reply": "2024-11-19T17:56:18.029431Z"
    },
    "papermill": {
     "duration": 0.045333,
     "end_time": "2024-11-19T17:56:18.032739",
     "exception": false,
     "start_time": "2024-11-19T17:56:17.987406",
     "status": "completed"
    },
    "tags": []
   },
   "outputs": [],
   "source": [
    "sub = pd.read_csv(\"/kaggle/working/submission.csv\")\n"
   ]
  },
  {
   "cell_type": "code",
   "execution_count": 101,
   "id": "28f8bbac",
   "metadata": {
    "execution": {
     "iopub.execute_input": "2024-11-19T17:56:18.096172Z",
     "iopub.status.busy": "2024-11-19T17:56:18.095652Z",
     "iopub.status.idle": "2024-11-19T17:56:18.105742Z",
     "shell.execute_reply": "2024-11-19T17:56:18.104618Z"
    },
    "papermill": {
     "duration": 0.04474,
     "end_time": "2024-11-19T17:56:18.107905",
     "exception": false,
     "start_time": "2024-11-19T17:56:18.063165",
     "status": "completed"
    },
    "tags": []
   },
   "outputs": [
    {
     "data": {
      "text/html": [
       "<div>\n",
       "<style scoped>\n",
       "    .dataframe tbody tr th:only-of-type {\n",
       "        vertical-align: middle;\n",
       "    }\n",
       "\n",
       "    .dataframe tbody tr th {\n",
       "        vertical-align: top;\n",
       "    }\n",
       "\n",
       "    .dataframe thead th {\n",
       "        text-align: right;\n",
       "    }\n",
       "</style>\n",
       "<table border=\"1\" class=\"dataframe\">\n",
       "  <thead>\n",
       "    <tr style=\"text-align: right;\">\n",
       "      <th></th>\n",
       "      <th>PassengerId</th>\n",
       "      <th>Transported</th>\n",
       "    </tr>\n",
       "  </thead>\n",
       "  <tbody>\n",
       "    <tr>\n",
       "      <th>0</th>\n",
       "      <td>0013_01</td>\n",
       "      <td>True</td>\n",
       "    </tr>\n",
       "    <tr>\n",
       "      <th>1</th>\n",
       "      <td>0018_01</td>\n",
       "      <td>False</td>\n",
       "    </tr>\n",
       "    <tr>\n",
       "      <th>2</th>\n",
       "      <td>0019_01</td>\n",
       "      <td>True</td>\n",
       "    </tr>\n",
       "    <tr>\n",
       "      <th>3</th>\n",
       "      <td>0021_01</td>\n",
       "      <td>False</td>\n",
       "    </tr>\n",
       "    <tr>\n",
       "      <th>4</th>\n",
       "      <td>0023_01</td>\n",
       "      <td>False</td>\n",
       "    </tr>\n",
       "  </tbody>\n",
       "</table>\n",
       "</div>"
      ],
      "text/plain": [
       "  PassengerId  Transported\n",
       "0     0013_01         True\n",
       "1     0018_01        False\n",
       "2     0019_01         True\n",
       "3     0021_01        False\n",
       "4     0023_01        False"
      ]
     },
     "execution_count": 101,
     "metadata": {},
     "output_type": "execute_result"
    }
   ],
   "source": [
    "sub.head()"
   ]
  },
  {
   "cell_type": "code",
   "execution_count": null,
   "id": "bf3075ef",
   "metadata": {
    "papermill": {
     "duration": 0.030496,
     "end_time": "2024-11-19T17:56:18.169332",
     "exception": false,
     "start_time": "2024-11-19T17:56:18.138836",
     "status": "completed"
    },
    "tags": []
   },
   "outputs": [],
   "source": []
  }
 ],
 "metadata": {
  "kaggle": {
   "accelerator": "none",
   "dataSources": [
    {
     "databundleVersionId": 3220602,
     "sourceId": 34377,
     "sourceType": "competition"
    }
   ],
   "dockerImageVersionId": 30786,
   "isGpuEnabled": false,
   "isInternetEnabled": true,
   "language": "python",
   "sourceType": "notebook"
  },
  "kernelspec": {
   "display_name": "Python 3",
   "language": "python",
   "name": "python3"
  },
  "language_info": {
   "codemirror_mode": {
    "name": "ipython",
    "version": 3
   },
   "file_extension": ".py",
   "mimetype": "text/x-python",
   "name": "python",
   "nbconvert_exporter": "python",
   "pygments_lexer": "ipython3",
   "version": "3.10.14"
  },
  "papermill": {
   "default_parameters": {},
   "duration": 256.98374,
   "end_time": "2024-11-19T17:56:19.324488",
   "environment_variables": {},
   "exception": null,
   "input_path": "__notebook__.ipynb",
   "output_path": "__notebook__.ipynb",
   "parameters": {},
   "start_time": "2024-11-19T17:52:02.340748",
   "version": "2.6.0"
  }
 },
 "nbformat": 4,
 "nbformat_minor": 5
}
