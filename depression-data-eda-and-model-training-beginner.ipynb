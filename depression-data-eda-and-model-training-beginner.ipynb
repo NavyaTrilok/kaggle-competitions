{
 "cells": [
  {
   "cell_type": "code",
   "execution_count": 1,
   "id": "2e51a141",
   "metadata": {
    "_cell_guid": "b1076dfc-b9ad-4769-8c92-a6c4dae69d19",
    "_uuid": "8f2839f25d086af736a60e9eeb907d3b93b6e0e5",
    "execution": {
     "iopub.execute_input": "2024-11-16T23:42:09.043570Z",
     "iopub.status.busy": "2024-11-16T23:42:09.043013Z",
     "iopub.status.idle": "2024-11-16T23:42:10.064471Z",
     "shell.execute_reply": "2024-11-16T23:42:10.063024Z"
    },
    "papermill": {
     "duration": 1.051407,
     "end_time": "2024-11-16T23:42:10.067579",
     "exception": false,
     "start_time": "2024-11-16T23:42:09.016172",
     "status": "completed"
    },
    "tags": []
   },
   "outputs": [
    {
     "name": "stdout",
     "output_type": "stream",
     "text": [
      "/kaggle/input/playground-series-s4e11/sample_submission.csv\n",
      "/kaggle/input/playground-series-s4e11/train.csv\n",
      "/kaggle/input/playground-series-s4e11/test.csv\n"
     ]
    }
   ],
   "source": [
    "# This Python 3 environment comes with many helpful analytics libraries installed\n",
    "# It is defined by the kaggle/python Docker image: https://github.com/kaggle/docker-python\n",
    "# For example, here's several helpful packages to load\n",
    "\n",
    "import numpy as np # linear algebra\n",
    "import pandas as pd # data processing, CSV file I/O (e.g. pd.read_csv)\n",
    "\n",
    "# Input data files are available in the read-only \"../input/\" directory\n",
    "# For example, running this (by clicking run or pressing Shift+Enter) will list all files under the input directory\n",
    "\n",
    "import os\n",
    "for dirname, _, filenames in os.walk('/kaggle/input'):\n",
    "    for filename in filenames:\n",
    "        print(os.path.join(dirname, filename))\n",
    "\n",
    "# You can write up to 20GB to the current directory (/kaggle/working/) that gets preserved as output when you create a version using \"Save & Run All\" \n",
    "# You can also write temporary files to /kaggle/temp/, but they won't be saved outside of the current session"
   ]
  },
  {
   "cell_type": "code",
   "execution_count": 2,
   "id": "7d7bce62",
   "metadata": {
    "execution": {
     "iopub.execute_input": "2024-11-16T23:42:10.112414Z",
     "iopub.status.busy": "2024-11-16T23:42:10.111786Z",
     "iopub.status.idle": "2024-11-16T23:42:10.875745Z",
     "shell.execute_reply": "2024-11-16T23:42:10.874571Z"
    },
    "papermill": {
     "duration": 0.788455,
     "end_time": "2024-11-16T23:42:10.878464",
     "exception": false,
     "start_time": "2024-11-16T23:42:10.090009",
     "status": "completed"
    },
    "tags": []
   },
   "outputs": [
    {
     "data": {
      "text/html": [
       "<div>\n",
       "<style scoped>\n",
       "    .dataframe tbody tr th:only-of-type {\n",
       "        vertical-align: middle;\n",
       "    }\n",
       "\n",
       "    .dataframe tbody tr th {\n",
       "        vertical-align: top;\n",
       "    }\n",
       "\n",
       "    .dataframe thead th {\n",
       "        text-align: right;\n",
       "    }\n",
       "</style>\n",
       "<table border=\"1\" class=\"dataframe\">\n",
       "  <thead>\n",
       "    <tr style=\"text-align: right;\">\n",
       "      <th></th>\n",
       "      <th>id</th>\n",
       "      <th>Name</th>\n",
       "      <th>Gender</th>\n",
       "      <th>Age</th>\n",
       "      <th>City</th>\n",
       "      <th>Working Professional or Student</th>\n",
       "      <th>Profession</th>\n",
       "      <th>Academic Pressure</th>\n",
       "      <th>Work Pressure</th>\n",
       "      <th>CGPA</th>\n",
       "      <th>Study Satisfaction</th>\n",
       "      <th>Job Satisfaction</th>\n",
       "      <th>Sleep Duration</th>\n",
       "      <th>Dietary Habits</th>\n",
       "      <th>Degree</th>\n",
       "      <th>Have you ever had suicidal thoughts ?</th>\n",
       "      <th>Work/Study Hours</th>\n",
       "      <th>Financial Stress</th>\n",
       "      <th>Family History of Mental Illness</th>\n",
       "      <th>Depression</th>\n",
       "    </tr>\n",
       "  </thead>\n",
       "  <tbody>\n",
       "    <tr>\n",
       "      <th>0</th>\n",
       "      <td>0</td>\n",
       "      <td>Aaradhya</td>\n",
       "      <td>Female</td>\n",
       "      <td>49.0</td>\n",
       "      <td>Ludhiana</td>\n",
       "      <td>Working Professional</td>\n",
       "      <td>Chef</td>\n",
       "      <td>NaN</td>\n",
       "      <td>5.0</td>\n",
       "      <td>NaN</td>\n",
       "      <td>NaN</td>\n",
       "      <td>2.0</td>\n",
       "      <td>More than 8 hours</td>\n",
       "      <td>Healthy</td>\n",
       "      <td>BHM</td>\n",
       "      <td>No</td>\n",
       "      <td>1.0</td>\n",
       "      <td>2.0</td>\n",
       "      <td>No</td>\n",
       "      <td>0</td>\n",
       "    </tr>\n",
       "    <tr>\n",
       "      <th>1</th>\n",
       "      <td>1</td>\n",
       "      <td>Vivan</td>\n",
       "      <td>Male</td>\n",
       "      <td>26.0</td>\n",
       "      <td>Varanasi</td>\n",
       "      <td>Working Professional</td>\n",
       "      <td>Teacher</td>\n",
       "      <td>NaN</td>\n",
       "      <td>4.0</td>\n",
       "      <td>NaN</td>\n",
       "      <td>NaN</td>\n",
       "      <td>3.0</td>\n",
       "      <td>Less than 5 hours</td>\n",
       "      <td>Unhealthy</td>\n",
       "      <td>LLB</td>\n",
       "      <td>Yes</td>\n",
       "      <td>7.0</td>\n",
       "      <td>3.0</td>\n",
       "      <td>No</td>\n",
       "      <td>1</td>\n",
       "    </tr>\n",
       "    <tr>\n",
       "      <th>2</th>\n",
       "      <td>2</td>\n",
       "      <td>Yuvraj</td>\n",
       "      <td>Male</td>\n",
       "      <td>33.0</td>\n",
       "      <td>Visakhapatnam</td>\n",
       "      <td>Student</td>\n",
       "      <td>NaN</td>\n",
       "      <td>5.0</td>\n",
       "      <td>NaN</td>\n",
       "      <td>8.97</td>\n",
       "      <td>2.0</td>\n",
       "      <td>NaN</td>\n",
       "      <td>5-6 hours</td>\n",
       "      <td>Healthy</td>\n",
       "      <td>B.Pharm</td>\n",
       "      <td>Yes</td>\n",
       "      <td>3.0</td>\n",
       "      <td>1.0</td>\n",
       "      <td>No</td>\n",
       "      <td>1</td>\n",
       "    </tr>\n",
       "    <tr>\n",
       "      <th>3</th>\n",
       "      <td>3</td>\n",
       "      <td>Yuvraj</td>\n",
       "      <td>Male</td>\n",
       "      <td>22.0</td>\n",
       "      <td>Mumbai</td>\n",
       "      <td>Working Professional</td>\n",
       "      <td>Teacher</td>\n",
       "      <td>NaN</td>\n",
       "      <td>5.0</td>\n",
       "      <td>NaN</td>\n",
       "      <td>NaN</td>\n",
       "      <td>1.0</td>\n",
       "      <td>Less than 5 hours</td>\n",
       "      <td>Moderate</td>\n",
       "      <td>BBA</td>\n",
       "      <td>Yes</td>\n",
       "      <td>10.0</td>\n",
       "      <td>1.0</td>\n",
       "      <td>Yes</td>\n",
       "      <td>1</td>\n",
       "    </tr>\n",
       "    <tr>\n",
       "      <th>4</th>\n",
       "      <td>4</td>\n",
       "      <td>Rhea</td>\n",
       "      <td>Female</td>\n",
       "      <td>30.0</td>\n",
       "      <td>Kanpur</td>\n",
       "      <td>Working Professional</td>\n",
       "      <td>Business Analyst</td>\n",
       "      <td>NaN</td>\n",
       "      <td>1.0</td>\n",
       "      <td>NaN</td>\n",
       "      <td>NaN</td>\n",
       "      <td>1.0</td>\n",
       "      <td>5-6 hours</td>\n",
       "      <td>Unhealthy</td>\n",
       "      <td>BBA</td>\n",
       "      <td>Yes</td>\n",
       "      <td>9.0</td>\n",
       "      <td>4.0</td>\n",
       "      <td>Yes</td>\n",
       "      <td>0</td>\n",
       "    </tr>\n",
       "    <tr>\n",
       "      <th>...</th>\n",
       "      <td>...</td>\n",
       "      <td>...</td>\n",
       "      <td>...</td>\n",
       "      <td>...</td>\n",
       "      <td>...</td>\n",
       "      <td>...</td>\n",
       "      <td>...</td>\n",
       "      <td>...</td>\n",
       "      <td>...</td>\n",
       "      <td>...</td>\n",
       "      <td>...</td>\n",
       "      <td>...</td>\n",
       "      <td>...</td>\n",
       "      <td>...</td>\n",
       "      <td>...</td>\n",
       "      <td>...</td>\n",
       "      <td>...</td>\n",
       "      <td>...</td>\n",
       "      <td>...</td>\n",
       "      <td>...</td>\n",
       "    </tr>\n",
       "    <tr>\n",
       "      <th>140695</th>\n",
       "      <td>140695</td>\n",
       "      <td>Vidya</td>\n",
       "      <td>Female</td>\n",
       "      <td>18.0</td>\n",
       "      <td>Ahmedabad</td>\n",
       "      <td>Working Professional</td>\n",
       "      <td>NaN</td>\n",
       "      <td>NaN</td>\n",
       "      <td>5.0</td>\n",
       "      <td>NaN</td>\n",
       "      <td>NaN</td>\n",
       "      <td>4.0</td>\n",
       "      <td>5-6 hours</td>\n",
       "      <td>Unhealthy</td>\n",
       "      <td>Class 12</td>\n",
       "      <td>No</td>\n",
       "      <td>2.0</td>\n",
       "      <td>4.0</td>\n",
       "      <td>Yes</td>\n",
       "      <td>1</td>\n",
       "    </tr>\n",
       "    <tr>\n",
       "      <th>140696</th>\n",
       "      <td>140696</td>\n",
       "      <td>Lata</td>\n",
       "      <td>Female</td>\n",
       "      <td>41.0</td>\n",
       "      <td>Hyderabad</td>\n",
       "      <td>Working Professional</td>\n",
       "      <td>Content Writer</td>\n",
       "      <td>NaN</td>\n",
       "      <td>5.0</td>\n",
       "      <td>NaN</td>\n",
       "      <td>NaN</td>\n",
       "      <td>4.0</td>\n",
       "      <td>7-8 hours</td>\n",
       "      <td>Moderate</td>\n",
       "      <td>B.Tech</td>\n",
       "      <td>Yes</td>\n",
       "      <td>6.0</td>\n",
       "      <td>5.0</td>\n",
       "      <td>Yes</td>\n",
       "      <td>0</td>\n",
       "    </tr>\n",
       "    <tr>\n",
       "      <th>140697</th>\n",
       "      <td>140697</td>\n",
       "      <td>Aanchal</td>\n",
       "      <td>Female</td>\n",
       "      <td>24.0</td>\n",
       "      <td>Kolkata</td>\n",
       "      <td>Working Professional</td>\n",
       "      <td>Marketing Manager</td>\n",
       "      <td>NaN</td>\n",
       "      <td>3.0</td>\n",
       "      <td>NaN</td>\n",
       "      <td>NaN</td>\n",
       "      <td>1.0</td>\n",
       "      <td>More than 8 hours</td>\n",
       "      <td>Moderate</td>\n",
       "      <td>B.Com</td>\n",
       "      <td>No</td>\n",
       "      <td>4.0</td>\n",
       "      <td>4.0</td>\n",
       "      <td>No</td>\n",
       "      <td>0</td>\n",
       "    </tr>\n",
       "    <tr>\n",
       "      <th>140698</th>\n",
       "      <td>140698</td>\n",
       "      <td>Prachi</td>\n",
       "      <td>Female</td>\n",
       "      <td>49.0</td>\n",
       "      <td>Srinagar</td>\n",
       "      <td>Working Professional</td>\n",
       "      <td>Plumber</td>\n",
       "      <td>NaN</td>\n",
       "      <td>5.0</td>\n",
       "      <td>NaN</td>\n",
       "      <td>NaN</td>\n",
       "      <td>2.0</td>\n",
       "      <td>5-6 hours</td>\n",
       "      <td>Moderate</td>\n",
       "      <td>ME</td>\n",
       "      <td>Yes</td>\n",
       "      <td>10.0</td>\n",
       "      <td>1.0</td>\n",
       "      <td>No</td>\n",
       "      <td>0</td>\n",
       "    </tr>\n",
       "    <tr>\n",
       "      <th>140699</th>\n",
       "      <td>140699</td>\n",
       "      <td>Sai</td>\n",
       "      <td>Male</td>\n",
       "      <td>27.0</td>\n",
       "      <td>Patna</td>\n",
       "      <td>Student</td>\n",
       "      <td>NaN</td>\n",
       "      <td>4.0</td>\n",
       "      <td>NaN</td>\n",
       "      <td>9.24</td>\n",
       "      <td>1.0</td>\n",
       "      <td>NaN</td>\n",
       "      <td>Less than 5 hours</td>\n",
       "      <td>Healthy</td>\n",
       "      <td>BCA</td>\n",
       "      <td>Yes</td>\n",
       "      <td>2.0</td>\n",
       "      <td>3.0</td>\n",
       "      <td>Yes</td>\n",
       "      <td>1</td>\n",
       "    </tr>\n",
       "  </tbody>\n",
       "</table>\n",
       "<p>140700 rows × 20 columns</p>\n",
       "</div>"
      ],
      "text/plain": [
       "            id      Name  Gender   Age           City  \\\n",
       "0            0  Aaradhya  Female  49.0       Ludhiana   \n",
       "1            1     Vivan    Male  26.0       Varanasi   \n",
       "2            2    Yuvraj    Male  33.0  Visakhapatnam   \n",
       "3            3    Yuvraj    Male  22.0         Mumbai   \n",
       "4            4      Rhea  Female  30.0         Kanpur   \n",
       "...        ...       ...     ...   ...            ...   \n",
       "140695  140695     Vidya  Female  18.0      Ahmedabad   \n",
       "140696  140696      Lata  Female  41.0      Hyderabad   \n",
       "140697  140697   Aanchal  Female  24.0        Kolkata   \n",
       "140698  140698    Prachi  Female  49.0       Srinagar   \n",
       "140699  140699       Sai    Male  27.0          Patna   \n",
       "\n",
       "       Working Professional or Student         Profession  Academic Pressure  \\\n",
       "0                 Working Professional               Chef                NaN   \n",
       "1                 Working Professional            Teacher                NaN   \n",
       "2                              Student                NaN                5.0   \n",
       "3                 Working Professional            Teacher                NaN   \n",
       "4                 Working Professional   Business Analyst                NaN   \n",
       "...                                ...                ...                ...   \n",
       "140695            Working Professional                NaN                NaN   \n",
       "140696            Working Professional     Content Writer                NaN   \n",
       "140697            Working Professional  Marketing Manager                NaN   \n",
       "140698            Working Professional            Plumber                NaN   \n",
       "140699                         Student                NaN                4.0   \n",
       "\n",
       "        Work Pressure  CGPA  Study Satisfaction  Job Satisfaction  \\\n",
       "0                 5.0   NaN                 NaN               2.0   \n",
       "1                 4.0   NaN                 NaN               3.0   \n",
       "2                 NaN  8.97                 2.0               NaN   \n",
       "3                 5.0   NaN                 NaN               1.0   \n",
       "4                 1.0   NaN                 NaN               1.0   \n",
       "...               ...   ...                 ...               ...   \n",
       "140695            5.0   NaN                 NaN               4.0   \n",
       "140696            5.0   NaN                 NaN               4.0   \n",
       "140697            3.0   NaN                 NaN               1.0   \n",
       "140698            5.0   NaN                 NaN               2.0   \n",
       "140699            NaN  9.24                 1.0               NaN   \n",
       "\n",
       "           Sleep Duration Dietary Habits    Degree  \\\n",
       "0       More than 8 hours        Healthy       BHM   \n",
       "1       Less than 5 hours      Unhealthy       LLB   \n",
       "2               5-6 hours        Healthy   B.Pharm   \n",
       "3       Less than 5 hours       Moderate       BBA   \n",
       "4               5-6 hours      Unhealthy       BBA   \n",
       "...                   ...            ...       ...   \n",
       "140695          5-6 hours      Unhealthy  Class 12   \n",
       "140696          7-8 hours       Moderate    B.Tech   \n",
       "140697  More than 8 hours       Moderate     B.Com   \n",
       "140698          5-6 hours       Moderate        ME   \n",
       "140699  Less than 5 hours        Healthy       BCA   \n",
       "\n",
       "       Have you ever had suicidal thoughts ?  Work/Study Hours  \\\n",
       "0                                         No               1.0   \n",
       "1                                        Yes               7.0   \n",
       "2                                        Yes               3.0   \n",
       "3                                        Yes              10.0   \n",
       "4                                        Yes               9.0   \n",
       "...                                      ...               ...   \n",
       "140695                                    No               2.0   \n",
       "140696                                   Yes               6.0   \n",
       "140697                                    No               4.0   \n",
       "140698                                   Yes              10.0   \n",
       "140699                                   Yes               2.0   \n",
       "\n",
       "        Financial Stress Family History of Mental Illness  Depression  \n",
       "0                    2.0                               No           0  \n",
       "1                    3.0                               No           1  \n",
       "2                    1.0                               No           1  \n",
       "3                    1.0                              Yes           1  \n",
       "4                    4.0                              Yes           0  \n",
       "...                  ...                              ...         ...  \n",
       "140695               4.0                              Yes           1  \n",
       "140696               5.0                              Yes           0  \n",
       "140697               4.0                               No           0  \n",
       "140698               1.0                               No           0  \n",
       "140699               3.0                              Yes           1  \n",
       "\n",
       "[140700 rows x 20 columns]"
      ]
     },
     "execution_count": 2,
     "metadata": {},
     "output_type": "execute_result"
    }
   ],
   "source": [
    "train_data = pd.read_csv('/kaggle/input/playground-series-s4e11/train.csv')\n",
    "train_data"
   ]
  },
  {
   "cell_type": "code",
   "execution_count": 3,
   "id": "adf5e273",
   "metadata": {
    "execution": {
     "iopub.execute_input": "2024-11-16T23:42:10.923670Z",
     "iopub.status.busy": "2024-11-16T23:42:10.923247Z",
     "iopub.status.idle": "2024-11-16T23:42:10.932433Z",
     "shell.execute_reply": "2024-11-16T23:42:10.931236Z"
    },
    "papermill": {
     "duration": 0.034912,
     "end_time": "2024-11-16T23:42:10.934903",
     "exception": false,
     "start_time": "2024-11-16T23:42:10.899991",
     "status": "completed"
    },
    "tags": []
   },
   "outputs": [
    {
     "data": {
      "text/plain": [
       "id                                         int64\n",
       "Name                                      object\n",
       "Gender                                    object\n",
       "Age                                      float64\n",
       "City                                      object\n",
       "Working Professional or Student           object\n",
       "Profession                                object\n",
       "Academic Pressure                        float64\n",
       "Work Pressure                            float64\n",
       "CGPA                                     float64\n",
       "Study Satisfaction                       float64\n",
       "Job Satisfaction                         float64\n",
       "Sleep Duration                            object\n",
       "Dietary Habits                            object\n",
       "Degree                                    object\n",
       "Have you ever had suicidal thoughts ?     object\n",
       "Work/Study Hours                         float64\n",
       "Financial Stress                         float64\n",
       "Family History of Mental Illness          object\n",
       "Depression                                 int64\n",
       "dtype: object"
      ]
     },
     "execution_count": 3,
     "metadata": {},
     "output_type": "execute_result"
    }
   ],
   "source": [
    "train_data.dtypes"
   ]
  },
  {
   "cell_type": "code",
   "execution_count": 4,
   "id": "d5a891ae",
   "metadata": {
    "execution": {
     "iopub.execute_input": "2024-11-16T23:42:10.979459Z",
     "iopub.status.busy": "2024-11-16T23:42:10.979057Z",
     "iopub.status.idle": "2024-11-16T23:42:11.139562Z",
     "shell.execute_reply": "2024-11-16T23:42:11.138458Z"
    },
    "papermill": {
     "duration": 0.185673,
     "end_time": "2024-11-16T23:42:11.142077",
     "exception": false,
     "start_time": "2024-11-16T23:42:10.956404",
     "status": "completed"
    },
    "tags": []
   },
   "outputs": [
    {
     "data": {
      "text/plain": [
       "id                                            0\n",
       "Name                                          0\n",
       "Gender                                        0\n",
       "Age                                           0\n",
       "City                                          0\n",
       "Working Professional or Student               0\n",
       "Profession                                36630\n",
       "Academic Pressure                        112803\n",
       "Work Pressure                             27918\n",
       "CGPA                                     112802\n",
       "Study Satisfaction                       112803\n",
       "Job Satisfaction                          27910\n",
       "Sleep Duration                                0\n",
       "Dietary Habits                                4\n",
       "Degree                                        2\n",
       "Have you ever had suicidal thoughts ?         0\n",
       "Work/Study Hours                              0\n",
       "Financial Stress                              4\n",
       "Family History of Mental Illness              0\n",
       "Depression                                    0\n",
       "dtype: int64"
      ]
     },
     "execution_count": 4,
     "metadata": {},
     "output_type": "execute_result"
    }
   ],
   "source": [
    "train_data.isna().sum()"
   ]
  },
  {
   "cell_type": "code",
   "execution_count": 5,
   "id": "26b7558f",
   "metadata": {
    "execution": {
     "iopub.execute_input": "2024-11-16T23:42:11.187189Z",
     "iopub.status.busy": "2024-11-16T23:42:11.186754Z",
     "iopub.status.idle": "2024-11-16T23:42:11.207820Z",
     "shell.execute_reply": "2024-11-16T23:42:11.206322Z"
    },
    "papermill": {
     "duration": 0.047267,
     "end_time": "2024-11-16T23:42:11.210806",
     "exception": false,
     "start_time": "2024-11-16T23:42:11.163539",
     "status": "completed"
    },
    "tags": []
   },
   "outputs": [],
   "source": [
    "train_data = train_data.drop(columns=(['Academic Pressure','CGPA','Study Satisfaction']))\n"
   ]
  },
  {
   "cell_type": "code",
   "execution_count": 6,
   "id": "4f819092",
   "metadata": {
    "execution": {
     "iopub.execute_input": "2024-11-16T23:42:11.256414Z",
     "iopub.status.busy": "2024-11-16T23:42:11.255983Z",
     "iopub.status.idle": "2024-11-16T23:42:11.305002Z",
     "shell.execute_reply": "2024-11-16T23:42:11.304058Z"
    },
    "papermill": {
     "duration": 0.074573,
     "end_time": "2024-11-16T23:42:11.307579",
     "exception": false,
     "start_time": "2024-11-16T23:42:11.233006",
     "status": "completed"
    },
    "tags": []
   },
   "outputs": [],
   "source": [
    "train_data['Profession'] = train_data['Profession'].fillna(train_data['Profession'].mode()[0])"
   ]
  },
  {
   "cell_type": "code",
   "execution_count": 7,
   "id": "38457414",
   "metadata": {
    "execution": {
     "iopub.execute_input": "2024-11-16T23:42:11.354744Z",
     "iopub.status.busy": "2024-11-16T23:42:11.353859Z",
     "iopub.status.idle": "2024-11-16T23:42:11.366850Z",
     "shell.execute_reply": "2024-11-16T23:42:11.365756Z"
    },
    "papermill": {
     "duration": 0.038745,
     "end_time": "2024-11-16T23:42:11.369547",
     "exception": false,
     "start_time": "2024-11-16T23:42:11.330802",
     "status": "completed"
    },
    "tags": []
   },
   "outputs": [],
   "source": [
    "train_data['Work Pressure'] = train_data['Work Pressure'].fillna(train_data['Work Pressure'].median())"
   ]
  },
  {
   "cell_type": "code",
   "execution_count": 8,
   "id": "c548149f",
   "metadata": {
    "execution": {
     "iopub.execute_input": "2024-11-16T23:42:11.414342Z",
     "iopub.status.busy": "2024-11-16T23:42:11.413913Z",
     "iopub.status.idle": "2024-11-16T23:42:11.429614Z",
     "shell.execute_reply": "2024-11-16T23:42:11.428469Z"
    },
    "papermill": {
     "duration": 0.040819,
     "end_time": "2024-11-16T23:42:11.431877",
     "exception": false,
     "start_time": "2024-11-16T23:42:11.391058",
     "status": "completed"
    },
    "tags": []
   },
   "outputs": [
    {
     "data": {
      "text/plain": [
       "Work Pressure\n",
       "3.0    49817\n",
       "2.0    24373\n",
       "4.0    22512\n",
       "5.0    22436\n",
       "1.0    21562\n",
       "Name: count, dtype: int64"
      ]
     },
     "execution_count": 8,
     "metadata": {},
     "output_type": "execute_result"
    }
   ],
   "source": [
    "train_data['Work Pressure'].value_counts()"
   ]
  },
  {
   "cell_type": "code",
   "execution_count": 9,
   "id": "6fe2e9f3",
   "metadata": {
    "execution": {
     "iopub.execute_input": "2024-11-16T23:42:11.487236Z",
     "iopub.status.busy": "2024-11-16T23:42:11.486437Z",
     "iopub.status.idle": "2024-11-16T23:42:11.499453Z",
     "shell.execute_reply": "2024-11-16T23:42:11.498271Z"
    },
    "papermill": {
     "duration": 0.046226,
     "end_time": "2024-11-16T23:42:11.502141",
     "exception": false,
     "start_time": "2024-11-16T23:42:11.455915",
     "status": "completed"
    },
    "tags": []
   },
   "outputs": [],
   "source": [
    "train_data['Job Satisfaction'] = train_data['Job Satisfaction'].fillna(train_data['Job Satisfaction'].median())"
   ]
  },
  {
   "cell_type": "code",
   "execution_count": 10,
   "id": "30a5cf9e",
   "metadata": {
    "execution": {
     "iopub.execute_input": "2024-11-16T23:42:11.549227Z",
     "iopub.status.busy": "2024-11-16T23:42:11.548672Z",
     "iopub.status.idle": "2024-11-16T23:42:11.731435Z",
     "shell.execute_reply": "2024-11-16T23:42:11.730176Z"
    },
    "papermill": {
     "duration": 0.209369,
     "end_time": "2024-11-16T23:42:11.733993",
     "exception": false,
     "start_time": "2024-11-16T23:42:11.524624",
     "status": "completed"
    },
    "tags": []
   },
   "outputs": [
    {
     "data": {
      "text/plain": [
       "id                                       0\n",
       "Name                                     0\n",
       "Gender                                   0\n",
       "Age                                      0\n",
       "City                                     0\n",
       "Working Professional or Student          0\n",
       "Profession                               0\n",
       "Work Pressure                            0\n",
       "Job Satisfaction                         0\n",
       "Sleep Duration                           0\n",
       "Dietary Habits                           4\n",
       "Degree                                   2\n",
       "Have you ever had suicidal thoughts ?    0\n",
       "Work/Study Hours                         0\n",
       "Financial Stress                         4\n",
       "Family History of Mental Illness         0\n",
       "Depression                               0\n",
       "dtype: int64"
      ]
     },
     "execution_count": 10,
     "metadata": {},
     "output_type": "execute_result"
    }
   ],
   "source": [
    "train_data.isna().sum()"
   ]
  },
  {
   "cell_type": "code",
   "execution_count": 11,
   "id": "6935a0df",
   "metadata": {
    "execution": {
     "iopub.execute_input": "2024-11-16T23:42:11.784719Z",
     "iopub.status.busy": "2024-11-16T23:42:11.784289Z",
     "iopub.status.idle": "2024-11-16T23:42:11.982505Z",
     "shell.execute_reply": "2024-11-16T23:42:11.981302Z"
    },
    "papermill": {
     "duration": 0.226838,
     "end_time": "2024-11-16T23:42:11.985987",
     "exception": false,
     "start_time": "2024-11-16T23:42:11.759149",
     "status": "completed"
    },
    "tags": []
   },
   "outputs": [],
   "source": [
    "train_data = train_data.dropna()"
   ]
  },
  {
   "cell_type": "code",
   "execution_count": 12,
   "id": "486670b1",
   "metadata": {
    "execution": {
     "iopub.execute_input": "2024-11-16T23:42:12.033566Z",
     "iopub.status.busy": "2024-11-16T23:42:12.032323Z",
     "iopub.status.idle": "2024-11-16T23:42:12.065808Z",
     "shell.execute_reply": "2024-11-16T23:42:12.064536Z"
    },
    "papermill": {
     "duration": 0.059598,
     "end_time": "2024-11-16T23:42:12.068430",
     "exception": false,
     "start_time": "2024-11-16T23:42:12.008832",
     "status": "completed"
    },
    "tags": []
   },
   "outputs": [
    {
     "data": {
      "text/html": [
       "<div>\n",
       "<style scoped>\n",
       "    .dataframe tbody tr th:only-of-type {\n",
       "        vertical-align: middle;\n",
       "    }\n",
       "\n",
       "    .dataframe tbody tr th {\n",
       "        vertical-align: top;\n",
       "    }\n",
       "\n",
       "    .dataframe thead th {\n",
       "        text-align: right;\n",
       "    }\n",
       "</style>\n",
       "<table border=\"1\" class=\"dataframe\">\n",
       "  <thead>\n",
       "    <tr style=\"text-align: right;\">\n",
       "      <th></th>\n",
       "      <th>id</th>\n",
       "      <th>Name</th>\n",
       "      <th>Gender</th>\n",
       "      <th>Age</th>\n",
       "      <th>City</th>\n",
       "      <th>Working Professional or Student</th>\n",
       "      <th>Profession</th>\n",
       "      <th>Work Pressure</th>\n",
       "      <th>Job Satisfaction</th>\n",
       "      <th>Sleep Duration</th>\n",
       "      <th>Dietary Habits</th>\n",
       "      <th>Degree</th>\n",
       "      <th>Have you ever had suicidal thoughts ?</th>\n",
       "      <th>Work/Study Hours</th>\n",
       "      <th>Financial Stress</th>\n",
       "      <th>Family History of Mental Illness</th>\n",
       "      <th>Depression</th>\n",
       "    </tr>\n",
       "  </thead>\n",
       "  <tbody>\n",
       "    <tr>\n",
       "      <th>0</th>\n",
       "      <td>0</td>\n",
       "      <td>Aaradhya</td>\n",
       "      <td>Female</td>\n",
       "      <td>49.0</td>\n",
       "      <td>Ludhiana</td>\n",
       "      <td>Working Professional</td>\n",
       "      <td>Chef</td>\n",
       "      <td>5.0</td>\n",
       "      <td>2.0</td>\n",
       "      <td>More than 8 hours</td>\n",
       "      <td>Healthy</td>\n",
       "      <td>BHM</td>\n",
       "      <td>No</td>\n",
       "      <td>1.0</td>\n",
       "      <td>2.0</td>\n",
       "      <td>No</td>\n",
       "      <td>0</td>\n",
       "    </tr>\n",
       "    <tr>\n",
       "      <th>1</th>\n",
       "      <td>1</td>\n",
       "      <td>Vivan</td>\n",
       "      <td>Male</td>\n",
       "      <td>26.0</td>\n",
       "      <td>Varanasi</td>\n",
       "      <td>Working Professional</td>\n",
       "      <td>Teacher</td>\n",
       "      <td>4.0</td>\n",
       "      <td>3.0</td>\n",
       "      <td>Less than 5 hours</td>\n",
       "      <td>Unhealthy</td>\n",
       "      <td>LLB</td>\n",
       "      <td>Yes</td>\n",
       "      <td>7.0</td>\n",
       "      <td>3.0</td>\n",
       "      <td>No</td>\n",
       "      <td>1</td>\n",
       "    </tr>\n",
       "    <tr>\n",
       "      <th>2</th>\n",
       "      <td>2</td>\n",
       "      <td>Yuvraj</td>\n",
       "      <td>Male</td>\n",
       "      <td>33.0</td>\n",
       "      <td>Visakhapatnam</td>\n",
       "      <td>Student</td>\n",
       "      <td>Teacher</td>\n",
       "      <td>3.0</td>\n",
       "      <td>3.0</td>\n",
       "      <td>5-6 hours</td>\n",
       "      <td>Healthy</td>\n",
       "      <td>B.Pharm</td>\n",
       "      <td>Yes</td>\n",
       "      <td>3.0</td>\n",
       "      <td>1.0</td>\n",
       "      <td>No</td>\n",
       "      <td>1</td>\n",
       "    </tr>\n",
       "    <tr>\n",
       "      <th>3</th>\n",
       "      <td>3</td>\n",
       "      <td>Yuvraj</td>\n",
       "      <td>Male</td>\n",
       "      <td>22.0</td>\n",
       "      <td>Mumbai</td>\n",
       "      <td>Working Professional</td>\n",
       "      <td>Teacher</td>\n",
       "      <td>5.0</td>\n",
       "      <td>1.0</td>\n",
       "      <td>Less than 5 hours</td>\n",
       "      <td>Moderate</td>\n",
       "      <td>BBA</td>\n",
       "      <td>Yes</td>\n",
       "      <td>10.0</td>\n",
       "      <td>1.0</td>\n",
       "      <td>Yes</td>\n",
       "      <td>1</td>\n",
       "    </tr>\n",
       "    <tr>\n",
       "      <th>4</th>\n",
       "      <td>4</td>\n",
       "      <td>Rhea</td>\n",
       "      <td>Female</td>\n",
       "      <td>30.0</td>\n",
       "      <td>Kanpur</td>\n",
       "      <td>Working Professional</td>\n",
       "      <td>Business Analyst</td>\n",
       "      <td>1.0</td>\n",
       "      <td>1.0</td>\n",
       "      <td>5-6 hours</td>\n",
       "      <td>Unhealthy</td>\n",
       "      <td>BBA</td>\n",
       "      <td>Yes</td>\n",
       "      <td>9.0</td>\n",
       "      <td>4.0</td>\n",
       "      <td>Yes</td>\n",
       "      <td>0</td>\n",
       "    </tr>\n",
       "    <tr>\n",
       "      <th>...</th>\n",
       "      <td>...</td>\n",
       "      <td>...</td>\n",
       "      <td>...</td>\n",
       "      <td>...</td>\n",
       "      <td>...</td>\n",
       "      <td>...</td>\n",
       "      <td>...</td>\n",
       "      <td>...</td>\n",
       "      <td>...</td>\n",
       "      <td>...</td>\n",
       "      <td>...</td>\n",
       "      <td>...</td>\n",
       "      <td>...</td>\n",
       "      <td>...</td>\n",
       "      <td>...</td>\n",
       "      <td>...</td>\n",
       "      <td>...</td>\n",
       "    </tr>\n",
       "    <tr>\n",
       "      <th>140695</th>\n",
       "      <td>140695</td>\n",
       "      <td>Vidya</td>\n",
       "      <td>Female</td>\n",
       "      <td>18.0</td>\n",
       "      <td>Ahmedabad</td>\n",
       "      <td>Working Professional</td>\n",
       "      <td>Teacher</td>\n",
       "      <td>5.0</td>\n",
       "      <td>4.0</td>\n",
       "      <td>5-6 hours</td>\n",
       "      <td>Unhealthy</td>\n",
       "      <td>Class 12</td>\n",
       "      <td>No</td>\n",
       "      <td>2.0</td>\n",
       "      <td>4.0</td>\n",
       "      <td>Yes</td>\n",
       "      <td>1</td>\n",
       "    </tr>\n",
       "    <tr>\n",
       "      <th>140696</th>\n",
       "      <td>140696</td>\n",
       "      <td>Lata</td>\n",
       "      <td>Female</td>\n",
       "      <td>41.0</td>\n",
       "      <td>Hyderabad</td>\n",
       "      <td>Working Professional</td>\n",
       "      <td>Content Writer</td>\n",
       "      <td>5.0</td>\n",
       "      <td>4.0</td>\n",
       "      <td>7-8 hours</td>\n",
       "      <td>Moderate</td>\n",
       "      <td>B.Tech</td>\n",
       "      <td>Yes</td>\n",
       "      <td>6.0</td>\n",
       "      <td>5.0</td>\n",
       "      <td>Yes</td>\n",
       "      <td>0</td>\n",
       "    </tr>\n",
       "    <tr>\n",
       "      <th>140697</th>\n",
       "      <td>140697</td>\n",
       "      <td>Aanchal</td>\n",
       "      <td>Female</td>\n",
       "      <td>24.0</td>\n",
       "      <td>Kolkata</td>\n",
       "      <td>Working Professional</td>\n",
       "      <td>Marketing Manager</td>\n",
       "      <td>3.0</td>\n",
       "      <td>1.0</td>\n",
       "      <td>More than 8 hours</td>\n",
       "      <td>Moderate</td>\n",
       "      <td>B.Com</td>\n",
       "      <td>No</td>\n",
       "      <td>4.0</td>\n",
       "      <td>4.0</td>\n",
       "      <td>No</td>\n",
       "      <td>0</td>\n",
       "    </tr>\n",
       "    <tr>\n",
       "      <th>140698</th>\n",
       "      <td>140698</td>\n",
       "      <td>Prachi</td>\n",
       "      <td>Female</td>\n",
       "      <td>49.0</td>\n",
       "      <td>Srinagar</td>\n",
       "      <td>Working Professional</td>\n",
       "      <td>Plumber</td>\n",
       "      <td>5.0</td>\n",
       "      <td>2.0</td>\n",
       "      <td>5-6 hours</td>\n",
       "      <td>Moderate</td>\n",
       "      <td>ME</td>\n",
       "      <td>Yes</td>\n",
       "      <td>10.0</td>\n",
       "      <td>1.0</td>\n",
       "      <td>No</td>\n",
       "      <td>0</td>\n",
       "    </tr>\n",
       "    <tr>\n",
       "      <th>140699</th>\n",
       "      <td>140699</td>\n",
       "      <td>Sai</td>\n",
       "      <td>Male</td>\n",
       "      <td>27.0</td>\n",
       "      <td>Patna</td>\n",
       "      <td>Student</td>\n",
       "      <td>Teacher</td>\n",
       "      <td>3.0</td>\n",
       "      <td>3.0</td>\n",
       "      <td>Less than 5 hours</td>\n",
       "      <td>Healthy</td>\n",
       "      <td>BCA</td>\n",
       "      <td>Yes</td>\n",
       "      <td>2.0</td>\n",
       "      <td>3.0</td>\n",
       "      <td>Yes</td>\n",
       "      <td>1</td>\n",
       "    </tr>\n",
       "  </tbody>\n",
       "</table>\n",
       "<p>140690 rows × 17 columns</p>\n",
       "</div>"
      ],
      "text/plain": [
       "            id      Name  Gender   Age           City  \\\n",
       "0            0  Aaradhya  Female  49.0       Ludhiana   \n",
       "1            1     Vivan    Male  26.0       Varanasi   \n",
       "2            2    Yuvraj    Male  33.0  Visakhapatnam   \n",
       "3            3    Yuvraj    Male  22.0         Mumbai   \n",
       "4            4      Rhea  Female  30.0         Kanpur   \n",
       "...        ...       ...     ...   ...            ...   \n",
       "140695  140695     Vidya  Female  18.0      Ahmedabad   \n",
       "140696  140696      Lata  Female  41.0      Hyderabad   \n",
       "140697  140697   Aanchal  Female  24.0        Kolkata   \n",
       "140698  140698    Prachi  Female  49.0       Srinagar   \n",
       "140699  140699       Sai    Male  27.0          Patna   \n",
       "\n",
       "       Working Professional or Student         Profession  Work Pressure  \\\n",
       "0                 Working Professional               Chef            5.0   \n",
       "1                 Working Professional            Teacher            4.0   \n",
       "2                              Student            Teacher            3.0   \n",
       "3                 Working Professional            Teacher            5.0   \n",
       "4                 Working Professional   Business Analyst            1.0   \n",
       "...                                ...                ...            ...   \n",
       "140695            Working Professional            Teacher            5.0   \n",
       "140696            Working Professional     Content Writer            5.0   \n",
       "140697            Working Professional  Marketing Manager            3.0   \n",
       "140698            Working Professional            Plumber            5.0   \n",
       "140699                         Student            Teacher            3.0   \n",
       "\n",
       "        Job Satisfaction     Sleep Duration Dietary Habits    Degree  \\\n",
       "0                    2.0  More than 8 hours        Healthy       BHM   \n",
       "1                    3.0  Less than 5 hours      Unhealthy       LLB   \n",
       "2                    3.0          5-6 hours        Healthy   B.Pharm   \n",
       "3                    1.0  Less than 5 hours       Moderate       BBA   \n",
       "4                    1.0          5-6 hours      Unhealthy       BBA   \n",
       "...                  ...                ...            ...       ...   \n",
       "140695               4.0          5-6 hours      Unhealthy  Class 12   \n",
       "140696               4.0          7-8 hours       Moderate    B.Tech   \n",
       "140697               1.0  More than 8 hours       Moderate     B.Com   \n",
       "140698               2.0          5-6 hours       Moderate        ME   \n",
       "140699               3.0  Less than 5 hours        Healthy       BCA   \n",
       "\n",
       "       Have you ever had suicidal thoughts ?  Work/Study Hours  \\\n",
       "0                                         No               1.0   \n",
       "1                                        Yes               7.0   \n",
       "2                                        Yes               3.0   \n",
       "3                                        Yes              10.0   \n",
       "4                                        Yes               9.0   \n",
       "...                                      ...               ...   \n",
       "140695                                    No               2.0   \n",
       "140696                                   Yes               6.0   \n",
       "140697                                    No               4.0   \n",
       "140698                                   Yes              10.0   \n",
       "140699                                   Yes               2.0   \n",
       "\n",
       "        Financial Stress Family History of Mental Illness  Depression  \n",
       "0                    2.0                               No           0  \n",
       "1                    3.0                               No           1  \n",
       "2                    1.0                               No           1  \n",
       "3                    1.0                              Yes           1  \n",
       "4                    4.0                              Yes           0  \n",
       "...                  ...                              ...         ...  \n",
       "140695               4.0                              Yes           1  \n",
       "140696               5.0                              Yes           0  \n",
       "140697               4.0                               No           0  \n",
       "140698               1.0                               No           0  \n",
       "140699               3.0                              Yes           1  \n",
       "\n",
       "[140690 rows x 17 columns]"
      ]
     },
     "execution_count": 12,
     "metadata": {},
     "output_type": "execute_result"
    }
   ],
   "source": [
    "train_data"
   ]
  },
  {
   "cell_type": "code",
   "execution_count": 13,
   "id": "22bc416a",
   "metadata": {
    "execution": {
     "iopub.execute_input": "2024-11-16T23:42:12.116528Z",
     "iopub.status.busy": "2024-11-16T23:42:12.115505Z",
     "iopub.status.idle": "2024-11-16T23:42:12.281495Z",
     "shell.execute_reply": "2024-11-16T23:42:12.280291Z"
    },
    "papermill": {
     "duration": 0.193017,
     "end_time": "2024-11-16T23:42:12.284201",
     "exception": false,
     "start_time": "2024-11-16T23:42:12.091184",
     "status": "completed"
    },
    "tags": []
   },
   "outputs": [
    {
     "data": {
      "text/plain": [
       "id                                       0\n",
       "Name                                     0\n",
       "Gender                                   0\n",
       "Age                                      0\n",
       "City                                     0\n",
       "Working Professional or Student          0\n",
       "Profession                               0\n",
       "Work Pressure                            0\n",
       "Job Satisfaction                         0\n",
       "Sleep Duration                           0\n",
       "Dietary Habits                           0\n",
       "Degree                                   0\n",
       "Have you ever had suicidal thoughts ?    0\n",
       "Work/Study Hours                         0\n",
       "Financial Stress                         0\n",
       "Family History of Mental Illness         0\n",
       "Depression                               0\n",
       "dtype: int64"
      ]
     },
     "execution_count": 13,
     "metadata": {},
     "output_type": "execute_result"
    }
   ],
   "source": [
    "train_data.isna().sum()"
   ]
  },
  {
   "cell_type": "markdown",
   "id": "d60bba79",
   "metadata": {
    "papermill": {
     "duration": 0.0225,
     "end_time": "2024-11-16T23:42:12.329531",
     "exception": false,
     "start_time": "2024-11-16T23:42:12.307031",
     "status": "completed"
    },
    "tags": []
   },
   "source": [
    "**EDA**"
   ]
  },
  {
   "cell_type": "code",
   "execution_count": 14,
   "id": "bb96551e",
   "metadata": {
    "execution": {
     "iopub.execute_input": "2024-11-16T23:42:12.378631Z",
     "iopub.status.busy": "2024-11-16T23:42:12.377648Z",
     "iopub.status.idle": "2024-11-16T23:42:14.135304Z",
     "shell.execute_reply": "2024-11-16T23:42:14.134192Z"
    },
    "papermill": {
     "duration": 1.785025,
     "end_time": "2024-11-16T23:42:14.138114",
     "exception": false,
     "start_time": "2024-11-16T23:42:12.353089",
     "status": "completed"
    },
    "tags": []
   },
   "outputs": [],
   "source": [
    "import seaborn as sns\n",
    "import matplotlib.pyplot as plt"
   ]
  },
  {
   "cell_type": "code",
   "execution_count": 15,
   "id": "144976b8",
   "metadata": {
    "execution": {
     "iopub.execute_input": "2024-11-16T23:42:14.186002Z",
     "iopub.status.busy": "2024-11-16T23:42:14.185364Z",
     "iopub.status.idle": "2024-11-16T23:42:14.555466Z",
     "shell.execute_reply": "2024-11-16T23:42:14.554228Z"
    },
    "papermill": {
     "duration": 0.397436,
     "end_time": "2024-11-16T23:42:14.558788",
     "exception": false,
     "start_time": "2024-11-16T23:42:14.161352",
     "status": "completed"
    },
    "tags": []
   },
   "outputs": [
    {
     "data": {
      "text/plain": [
       "<Axes: xlabel='Depression', ylabel='count'>"
      ]
     },
     "execution_count": 15,
     "metadata": {},
     "output_type": "execute_result"
    },
    {
     "data": {
      "image/png": "[encoded data removed]",
      "text/plain": [
       "<Figure size 640x480 with 1 Axes>"
      ]
     },
     "metadata": {},
     "output_type": "display_data"
    }
   ],
   "source": [
    "sns.countplot(x='Depression',data=train_data, hue = 'Depression')"
   ]
  },
  {
   "cell_type": "code",
   "execution_count": 16,
   "id": "f4792624",
   "metadata": {
    "execution": {
     "iopub.execute_input": "2024-11-16T23:42:14.619157Z",
     "iopub.status.busy": "2024-11-16T23:42:14.618184Z",
     "iopub.status.idle": "2024-11-16T23:42:15.096198Z",
     "shell.execute_reply": "2024-11-16T23:42:15.095028Z"
    },
    "papermill": {
     "duration": 0.508605,
     "end_time": "2024-11-16T23:42:15.098739",
     "exception": false,
     "start_time": "2024-11-16T23:42:14.590134",
     "status": "completed"
    },
    "tags": []
   },
   "outputs": [
    {
     "data": {
      "text/plain": [
       "<Axes: xlabel='Gender', ylabel='count'>"
      ]
     },
     "execution_count": 16,
     "metadata": {},
     "output_type": "execute_result"
    },
    {
     "data": {
      "image/png": "[encoded data removed]",
      "text/plain": [
       "<Figure size 640x480 with 1 Axes>"
      ]
     },
     "metadata": {},
     "output_type": "display_data"
    }
   ],
   "source": [
    "sns.countplot(x='Gender', data=train_data, hue = 'Depression')"
   ]
  },
  {
   "cell_type": "code",
   "execution_count": 17,
   "id": "29c4b427",
   "metadata": {
    "execution": {
     "iopub.execute_input": "2024-11-16T23:42:15.148014Z",
     "iopub.status.busy": "2024-11-16T23:42:15.147555Z",
     "iopub.status.idle": "2024-11-16T23:42:16.660116Z",
     "shell.execute_reply": "2024-11-16T23:42:16.658974Z"
    },
    "papermill": {
     "duration": 1.540204,
     "end_time": "2024-11-16T23:42:16.662800",
     "exception": false,
     "start_time": "2024-11-16T23:42:15.122596",
     "status": "completed"
    },
    "tags": []
   },
   "outputs": [
    {
     "data": {
      "text/plain": [
       "<Axes: xlabel='Work Pressure', ylabel='Age'>"
      ]
     },
     "execution_count": 17,
     "metadata": {},
     "output_type": "execute_result"
    },
    {
     "data": {
      "image/png": "[encoded data removed]",
      "text/plain": [
       "<Figure size 640x480 with 1 Axes>"
      ]
     },
     "metadata": {},
     "output_type": "display_data"
    }
   ],
   "source": [
    "sns.barplot(x='Work Pressure',y='Age',data=train_data, hue='Depression')"
   ]
  },
  {
   "cell_type": "markdown",
   "id": "4e9c9a9e",
   "metadata": {
    "papermill": {
     "duration": 0.023685,
     "end_time": "2024-11-16T23:42:16.710700",
     "exception": false,
     "start_time": "2024-11-16T23:42:16.687015",
     "status": "completed"
    },
    "tags": []
   },
   "source": [
    "Observation: For all levels of work pressure, people who are in depression are from age 25-30\n",
    "\n",
    "Feature to consider: Age, Work Pressure"
   ]
  },
  {
   "cell_type": "code",
   "execution_count": 18,
   "id": "7b45940b",
   "metadata": {
    "execution": {
     "iopub.execute_input": "2024-11-16T23:42:16.760837Z",
     "iopub.status.busy": "2024-11-16T23:42:16.760411Z",
     "iopub.status.idle": "2024-11-16T23:42:18.275858Z",
     "shell.execute_reply": "2024-11-16T23:42:18.274634Z"
    },
    "papermill": {
     "duration": 1.543722,
     "end_time": "2024-11-16T23:42:18.278509",
     "exception": false,
     "start_time": "2024-11-16T23:42:16.734787",
     "status": "completed"
    },
    "tags": []
   },
   "outputs": [
    {
     "data": {
      "text/plain": [
       "<Axes: xlabel='Job Satisfaction', ylabel='Age'>"
      ]
     },
     "execution_count": 18,
     "metadata": {},
     "output_type": "execute_result"
    },
    {
     "data": {
      "image/png": "[encoded data removed]",
      "text/plain": [
       "<Figure size 640x480 with 1 Axes>"
      ]
     },
     "metadata": {},
     "output_type": "display_data"
    }
   ],
   "source": [
    "sns.barplot(x='Job Satisfaction', y='Age', data = train_data, hue = 'Depression')"
   ]
  },
  {
   "cell_type": "markdown",
   "id": "0a510df9",
   "metadata": {
    "papermill": {
     "duration": 0.024224,
     "end_time": "2024-11-16T23:42:18.327794",
     "exception": false,
     "start_time": "2024-11-16T23:42:18.303570",
     "status": "completed"
    },
    "tags": []
   },
   "source": [
    "Observation: For all levels of Job Satisfaction, people who are in depression are from age 25-30\n",
    "\n",
    "Feature to consider: Age, Work Pressure or Job Satisfaction(since Work Pressure and \n",
    "Job Satisfaction distributions are almost same by looking at above charts)"
   ]
  },
  {
   "cell_type": "markdown",
   "id": "5a912842",
   "metadata": {
    "papermill": {
     "duration": 0.025675,
     "end_time": "2024-11-16T23:42:18.377900",
     "exception": false,
     "start_time": "2024-11-16T23:42:18.352225",
     "status": "completed"
    },
    "tags": []
   },
   "source": []
  },
  {
   "cell_type": "code",
   "execution_count": 19,
   "id": "888a4623",
   "metadata": {
    "execution": {
     "iopub.execute_input": "2024-11-16T23:42:18.428930Z",
     "iopub.status.busy": "2024-11-16T23:42:18.428487Z",
     "iopub.status.idle": "2024-11-16T23:42:18.721966Z",
     "shell.execute_reply": "2024-11-16T23:42:18.720863Z"
    },
    "papermill": {
     "duration": 0.322009,
     "end_time": "2024-11-16T23:42:18.724547",
     "exception": false,
     "start_time": "2024-11-16T23:42:18.402538",
     "status": "completed"
    },
    "tags": []
   },
   "outputs": [
    {
     "data": {
      "image/png": "[encoded data removed]",
      "text/plain": [
       "<Figure size 640x480 with 1 Axes>"
      ]
     },
     "metadata": {},
     "output_type": "display_data"
    }
   ],
   "source": [
    "sns.countplot(x='Financial Stress',hue='Depression',data=train_data)\n",
    "plt.xticks(rotation=90)\n",
    "plt.show()"
   ]
  },
  {
   "cell_type": "code",
   "execution_count": 20,
   "id": "98b38c07",
   "metadata": {
    "execution": {
     "iopub.execute_input": "2024-11-16T23:42:18.776568Z",
     "iopub.status.busy": "2024-11-16T23:42:18.776130Z",
     "iopub.status.idle": "2024-11-16T23:42:19.241111Z",
     "shell.execute_reply": "2024-11-16T23:42:19.240015Z"
    },
    "papermill": {
     "duration": 0.494055,
     "end_time": "2024-11-16T23:42:19.243685",
     "exception": false,
     "start_time": "2024-11-16T23:42:18.749630",
     "status": "completed"
    },
    "tags": []
   },
   "outputs": [
    {
     "data": {
      "text/plain": [
       "<Axes: xlabel='Have you ever had suicidal thoughts ?', ylabel='count'>"
      ]
     },
     "execution_count": 20,
     "metadata": {},
     "output_type": "execute_result"
    },
    {
     "data": {
      "image/png": "[encoded data removed]",
      "text/plain": [
       "<Figure size 640x480 with 1 Axes>"
      ]
     },
     "metadata": {},
     "output_type": "display_data"
    }
   ],
   "source": [
    "sns.countplot(x='Have you ever had suicidal thoughts ?',data=train_data,hue='Depression')"
   ]
  },
  {
   "cell_type": "markdown",
   "id": "904c5e48",
   "metadata": {
    "papermill": {
     "duration": 0.026381,
     "end_time": "2024-11-16T23:42:19.296899",
     "exception": false,
     "start_time": "2024-11-16T23:42:19.270518",
     "status": "completed"
    },
    "tags": []
   },
   "source": [
    "Observation: People who are in depression had suicidal thoughts\n",
    "    \n",
    "Feature to consider: Have you ever had suicidal thoughts ?"
   ]
  },
  {
   "cell_type": "code",
   "execution_count": 21,
   "id": "1af3a799",
   "metadata": {
    "execution": {
     "iopub.execute_input": "2024-11-16T23:42:19.350651Z",
     "iopub.status.busy": "2024-11-16T23:42:19.350238Z",
     "iopub.status.idle": "2024-11-16T23:42:19.806541Z",
     "shell.execute_reply": "2024-11-16T23:42:19.805426Z"
    },
    "papermill": {
     "duration": 0.486315,
     "end_time": "2024-11-16T23:42:19.808981",
     "exception": false,
     "start_time": "2024-11-16T23:42:19.322666",
     "status": "completed"
    },
    "tags": []
   },
   "outputs": [
    {
     "data": {
      "text/plain": [
       "<Axes: xlabel='Work/Study Hours', ylabel='count'>"
      ]
     },
     "execution_count": 21,
     "metadata": {},
     "output_type": "execute_result"
    },
    {
     "data": {
      "image/png": "[encoded data removed]",
      "text/plain": [
       "<Figure size 640x480 with 1 Axes>"
      ]
     },
     "metadata": {},
     "output_type": "display_data"
    }
   ],
   "source": [
    "sns.countplot(x='Work/Study Hours',data=train_data,hue='Depression')"
   ]
  },
  {
   "cell_type": "markdown",
   "id": "1906e4ce",
   "metadata": {
    "papermill": {
     "duration": 0.02653,
     "end_time": "2024-11-16T23:42:19.861976",
     "exception": false,
     "start_time": "2024-11-16T23:42:19.835446",
     "status": "completed"
    },
    "tags": []
   },
   "source": [
    "Observation: More the work hours, more the depression people \n",
    "    \n",
    "Feature to consider:Work/Study Hours"
   ]
  },
  {
   "cell_type": "code",
   "execution_count": 22,
   "id": "c59060a3",
   "metadata": {
    "execution": {
     "iopub.execute_input": "2024-11-16T23:42:19.917915Z",
     "iopub.status.busy": "2024-11-16T23:42:19.917487Z",
     "iopub.status.idle": "2024-11-16T23:42:20.374788Z",
     "shell.execute_reply": "2024-11-16T23:42:20.373622Z"
    },
    "papermill": {
     "duration": 0.488688,
     "end_time": "2024-11-16T23:42:20.378048",
     "exception": false,
     "start_time": "2024-11-16T23:42:19.889360",
     "status": "completed"
    },
    "tags": []
   },
   "outputs": [
    {
     "data": {
      "text/plain": [
       "<Axes: xlabel='Working Professional or Student', ylabel='count'>"
      ]
     },
     "execution_count": 22,
     "metadata": {},
     "output_type": "execute_result"
    },
    {
     "data": {
      "image/png": "[encoded data removed]",
      "text/plain": [
       "<Figure size 640x480 with 1 Axes>"
      ]
     },
     "metadata": {},
     "output_type": "display_data"
    }
   ],
   "source": [
    "sns.countplot(x='Working Professional or Student',data=train_data,hue='Depression')"
   ]
  },
  {
   "cell_type": "markdown",
   "id": "2d8803ed",
   "metadata": {
    "papermill": {
     "duration": 0.026704,
     "end_time": "2024-11-16T23:42:20.431783",
     "exception": false,
     "start_time": "2024-11-16T23:42:20.405079",
     "status": "completed"
    },
    "tags": []
   },
   "source": [
    "Observation: Depression candidates are most students\n",
    "    \n",
    "feature to consider: Working Professional or Student"
   ]
  },
  {
   "cell_type": "code",
   "execution_count": 23,
   "id": "2059dcdb",
   "metadata": {
    "execution": {
     "iopub.execute_input": "2024-11-16T23:42:20.487647Z",
     "iopub.status.busy": "2024-11-16T23:42:20.487244Z",
     "iopub.status.idle": "2024-11-16T23:42:20.497921Z",
     "shell.execute_reply": "2024-11-16T23:42:20.496984Z"
    },
    "papermill": {
     "duration": 0.041607,
     "end_time": "2024-11-16T23:42:20.500405",
     "exception": false,
     "start_time": "2024-11-16T23:42:20.458798",
     "status": "completed"
    },
    "tags": []
   },
   "outputs": [],
   "source": [
    "X = train_data[['Work/Study Hours','Have you ever had suicidal thoughts ?','Financial Stress','Age','Work Pressure','Working Professional or Student']]\n",
    "y = train_data['Depression']"
   ]
  },
  {
   "cell_type": "code",
   "execution_count": 24,
   "id": "320ee076",
   "metadata": {
    "execution": {
     "iopub.execute_input": "2024-11-16T23:42:20.556127Z",
     "iopub.status.busy": "2024-11-16T23:42:20.555659Z",
     "iopub.status.idle": "2024-11-16T23:42:20.577472Z",
     "shell.execute_reply": "2024-11-16T23:42:20.576461Z"
    },
    "papermill": {
     "duration": 0.052314,
     "end_time": "2024-11-16T23:42:20.579809",
     "exception": false,
     "start_time": "2024-11-16T23:42:20.527495",
     "status": "completed"
    },
    "tags": []
   },
   "outputs": [
    {
     "data": {
      "text/html": [
       "<div>\n",
       "<style scoped>\n",
       "    .dataframe tbody tr th:only-of-type {\n",
       "        vertical-align: middle;\n",
       "    }\n",
       "\n",
       "    .dataframe tbody tr th {\n",
       "        vertical-align: top;\n",
       "    }\n",
       "\n",
       "    .dataframe thead th {\n",
       "        text-align: right;\n",
       "    }\n",
       "</style>\n",
       "<table border=\"1\" class=\"dataframe\">\n",
       "  <thead>\n",
       "    <tr style=\"text-align: right;\">\n",
       "      <th></th>\n",
       "      <th>Work/Study Hours</th>\n",
       "      <th>Have you ever had suicidal thoughts ?</th>\n",
       "      <th>Financial Stress</th>\n",
       "      <th>Age</th>\n",
       "      <th>Work Pressure</th>\n",
       "      <th>Working Professional or Student</th>\n",
       "    </tr>\n",
       "  </thead>\n",
       "  <tbody>\n",
       "    <tr>\n",
       "      <th>0</th>\n",
       "      <td>1.0</td>\n",
       "      <td>No</td>\n",
       "      <td>2.0</td>\n",
       "      <td>49.0</td>\n",
       "      <td>5.0</td>\n",
       "      <td>Working Professional</td>\n",
       "    </tr>\n",
       "    <tr>\n",
       "      <th>1</th>\n",
       "      <td>7.0</td>\n",
       "      <td>Yes</td>\n",
       "      <td>3.0</td>\n",
       "      <td>26.0</td>\n",
       "      <td>4.0</td>\n",
       "      <td>Working Professional</td>\n",
       "    </tr>\n",
       "    <tr>\n",
       "      <th>2</th>\n",
       "      <td>3.0</td>\n",
       "      <td>Yes</td>\n",
       "      <td>1.0</td>\n",
       "      <td>33.0</td>\n",
       "      <td>3.0</td>\n",
       "      <td>Student</td>\n",
       "    </tr>\n",
       "    <tr>\n",
       "      <th>3</th>\n",
       "      <td>10.0</td>\n",
       "      <td>Yes</td>\n",
       "      <td>1.0</td>\n",
       "      <td>22.0</td>\n",
       "      <td>5.0</td>\n",
       "      <td>Working Professional</td>\n",
       "    </tr>\n",
       "    <tr>\n",
       "      <th>4</th>\n",
       "      <td>9.0</td>\n",
       "      <td>Yes</td>\n",
       "      <td>4.0</td>\n",
       "      <td>30.0</td>\n",
       "      <td>1.0</td>\n",
       "      <td>Working Professional</td>\n",
       "    </tr>\n",
       "    <tr>\n",
       "      <th>...</th>\n",
       "      <td>...</td>\n",
       "      <td>...</td>\n",
       "      <td>...</td>\n",
       "      <td>...</td>\n",
       "      <td>...</td>\n",
       "      <td>...</td>\n",
       "    </tr>\n",
       "    <tr>\n",
       "      <th>140695</th>\n",
       "      <td>2.0</td>\n",
       "      <td>No</td>\n",
       "      <td>4.0</td>\n",
       "      <td>18.0</td>\n",
       "      <td>5.0</td>\n",
       "      <td>Working Professional</td>\n",
       "    </tr>\n",
       "    <tr>\n",
       "      <th>140696</th>\n",
       "      <td>6.0</td>\n",
       "      <td>Yes</td>\n",
       "      <td>5.0</td>\n",
       "      <td>41.0</td>\n",
       "      <td>5.0</td>\n",
       "      <td>Working Professional</td>\n",
       "    </tr>\n",
       "    <tr>\n",
       "      <th>140697</th>\n",
       "      <td>4.0</td>\n",
       "      <td>No</td>\n",
       "      <td>4.0</td>\n",
       "      <td>24.0</td>\n",
       "      <td>3.0</td>\n",
       "      <td>Working Professional</td>\n",
       "    </tr>\n",
       "    <tr>\n",
       "      <th>140698</th>\n",
       "      <td>10.0</td>\n",
       "      <td>Yes</td>\n",
       "      <td>1.0</td>\n",
       "      <td>49.0</td>\n",
       "      <td>5.0</td>\n",
       "      <td>Working Professional</td>\n",
       "    </tr>\n",
       "    <tr>\n",
       "      <th>140699</th>\n",
       "      <td>2.0</td>\n",
       "      <td>Yes</td>\n",
       "      <td>3.0</td>\n",
       "      <td>27.0</td>\n",
       "      <td>3.0</td>\n",
       "      <td>Student</td>\n",
       "    </tr>\n",
       "  </tbody>\n",
       "</table>\n",
       "<p>140690 rows × 6 columns</p>\n",
       "</div>"
      ],
      "text/plain": [
       "        Work/Study Hours Have you ever had suicidal thoughts ?  \\\n",
       "0                    1.0                                    No   \n",
       "1                    7.0                                   Yes   \n",
       "2                    3.0                                   Yes   \n",
       "3                   10.0                                   Yes   \n",
       "4                    9.0                                   Yes   \n",
       "...                  ...                                   ...   \n",
       "140695               2.0                                    No   \n",
       "140696               6.0                                   Yes   \n",
       "140697               4.0                                    No   \n",
       "140698              10.0                                   Yes   \n",
       "140699               2.0                                   Yes   \n",
       "\n",
       "        Financial Stress   Age  Work Pressure Working Professional or Student  \n",
       "0                    2.0  49.0            5.0            Working Professional  \n",
       "1                    3.0  26.0            4.0            Working Professional  \n",
       "2                    1.0  33.0            3.0                         Student  \n",
       "3                    1.0  22.0            5.0            Working Professional  \n",
       "4                    4.0  30.0            1.0            Working Professional  \n",
       "...                  ...   ...            ...                             ...  \n",
       "140695               4.0  18.0            5.0            Working Professional  \n",
       "140696               5.0  41.0            5.0            Working Professional  \n",
       "140697               4.0  24.0            3.0            Working Professional  \n",
       "140698               1.0  49.0            5.0            Working Professional  \n",
       "140699               3.0  27.0            3.0                         Student  \n",
       "\n",
       "[140690 rows x 6 columns]"
      ]
     },
     "execution_count": 24,
     "metadata": {},
     "output_type": "execute_result"
    }
   ],
   "source": [
    "X"
   ]
  },
  {
   "cell_type": "code",
   "execution_count": 25,
   "id": "b6353da9",
   "metadata": {
    "execution": {
     "iopub.execute_input": "2024-11-16T23:42:20.636948Z",
     "iopub.status.busy": "2024-11-16T23:42:20.636501Z",
     "iopub.status.idle": "2024-11-16T23:42:21.083113Z",
     "shell.execute_reply": "2024-11-16T23:42:21.082019Z"
    },
    "papermill": {
     "duration": 0.478252,
     "end_time": "2024-11-16T23:42:21.086021",
     "exception": false,
     "start_time": "2024-11-16T23:42:20.607769",
     "status": "completed"
    },
    "tags": []
   },
   "outputs": [],
   "source": [
    "from sklearn.tree import DecisionTreeClassifier\n",
    "from sklearn.model_selection import train_test_split\n",
    "from sklearn.metrics import ConfusionMatrixDisplay, accuracy_score\n",
    "from sklearn.preprocessing import LabelEncoder"
   ]
  },
  {
   "cell_type": "code",
   "execution_count": 26,
   "id": "8fdcc2c5",
   "metadata": {
    "execution": {
     "iopub.execute_input": "2024-11-16T23:42:21.143151Z",
     "iopub.status.busy": "2024-11-16T23:42:21.142672Z",
     "iopub.status.idle": "2024-11-16T23:42:21.233955Z",
     "shell.execute_reply": "2024-11-16T23:42:21.232836Z"
    },
    "papermill": {
     "duration": 0.122906,
     "end_time": "2024-11-16T23:42:21.236635",
     "exception": false,
     "start_time": "2024-11-16T23:42:21.113729",
     "status": "completed"
    },
    "tags": []
   },
   "outputs": [
    {
     "name": "stderr",
     "output_type": "stream",
     "text": [
      "/tmp/ipykernel_17/1930062870.py:4: SettingWithCopyWarning: \n",
      "A value is trying to be set on a copy of a slice from a DataFrame.\n",
      "Try using .loc[row_indexer,col_indexer] = value instead\n",
      "\n",
      "See the caveats in the documentation: https://pandas.pydata.org/pandas-docs/stable/user_guide/indexing.html#returning-a-view-versus-a-copy\n",
      "  X[f] = encoding.fit_transform(X[f])\n",
      "/tmp/ipykernel_17/1930062870.py:4: SettingWithCopyWarning: \n",
      "A value is trying to be set on a copy of a slice from a DataFrame.\n",
      "Try using .loc[row_indexer,col_indexer] = value instead\n",
      "\n",
      "See the caveats in the documentation: https://pandas.pydata.org/pandas-docs/stable/user_guide/indexing.html#returning-a-view-versus-a-copy\n",
      "  X[f] = encoding.fit_transform(X[f])\n"
     ]
    }
   ],
   "source": [
    "encoding = LabelEncoder()\n",
    "features = ['Have you ever had suicidal thoughts ?','Working Professional or Student']\n",
    "for f in features:\n",
    "    X[f] = encoding.fit_transform(X[f]) "
   ]
  },
  {
   "cell_type": "code",
   "execution_count": 27,
   "id": "de15d5ea",
   "metadata": {
    "execution": {
     "iopub.execute_input": "2024-11-16T23:42:21.293430Z",
     "iopub.status.busy": "2024-11-16T23:42:21.292995Z",
     "iopub.status.idle": "2024-11-16T23:42:21.312711Z",
     "shell.execute_reply": "2024-11-16T23:42:21.311676Z"
    },
    "papermill": {
     "duration": 0.051344,
     "end_time": "2024-11-16T23:42:21.315537",
     "exception": false,
     "start_time": "2024-11-16T23:42:21.264193",
     "status": "completed"
    },
    "tags": []
   },
   "outputs": [
    {
     "data": {
      "text/html": [
       "<div>\n",
       "<style scoped>\n",
       "    .dataframe tbody tr th:only-of-type {\n",
       "        vertical-align: middle;\n",
       "    }\n",
       "\n",
       "    .dataframe tbody tr th {\n",
       "        vertical-align: top;\n",
       "    }\n",
       "\n",
       "    .dataframe thead th {\n",
       "        text-align: right;\n",
       "    }\n",
       "</style>\n",
       "<table border=\"1\" class=\"dataframe\">\n",
       "  <thead>\n",
       "    <tr style=\"text-align: right;\">\n",
       "      <th></th>\n",
       "      <th>Work/Study Hours</th>\n",
       "      <th>Have you ever had suicidal thoughts ?</th>\n",
       "      <th>Financial Stress</th>\n",
       "      <th>Age</th>\n",
       "      <th>Work Pressure</th>\n",
       "      <th>Working Professional or Student</th>\n",
       "    </tr>\n",
       "  </thead>\n",
       "  <tbody>\n",
       "    <tr>\n",
       "      <th>0</th>\n",
       "      <td>1.0</td>\n",
       "      <td>0</td>\n",
       "      <td>2.0</td>\n",
       "      <td>49.0</td>\n",
       "      <td>5.0</td>\n",
       "      <td>1</td>\n",
       "    </tr>\n",
       "    <tr>\n",
       "      <th>1</th>\n",
       "      <td>7.0</td>\n",
       "      <td>1</td>\n",
       "      <td>3.0</td>\n",
       "      <td>26.0</td>\n",
       "      <td>4.0</td>\n",
       "      <td>1</td>\n",
       "    </tr>\n",
       "    <tr>\n",
       "      <th>2</th>\n",
       "      <td>3.0</td>\n",
       "      <td>1</td>\n",
       "      <td>1.0</td>\n",
       "      <td>33.0</td>\n",
       "      <td>3.0</td>\n",
       "      <td>0</td>\n",
       "    </tr>\n",
       "    <tr>\n",
       "      <th>3</th>\n",
       "      <td>10.0</td>\n",
       "      <td>1</td>\n",
       "      <td>1.0</td>\n",
       "      <td>22.0</td>\n",
       "      <td>5.0</td>\n",
       "      <td>1</td>\n",
       "    </tr>\n",
       "    <tr>\n",
       "      <th>4</th>\n",
       "      <td>9.0</td>\n",
       "      <td>1</td>\n",
       "      <td>4.0</td>\n",
       "      <td>30.0</td>\n",
       "      <td>1.0</td>\n",
       "      <td>1</td>\n",
       "    </tr>\n",
       "    <tr>\n",
       "      <th>...</th>\n",
       "      <td>...</td>\n",
       "      <td>...</td>\n",
       "      <td>...</td>\n",
       "      <td>...</td>\n",
       "      <td>...</td>\n",
       "      <td>...</td>\n",
       "    </tr>\n",
       "    <tr>\n",
       "      <th>140695</th>\n",
       "      <td>2.0</td>\n",
       "      <td>0</td>\n",
       "      <td>4.0</td>\n",
       "      <td>18.0</td>\n",
       "      <td>5.0</td>\n",
       "      <td>1</td>\n",
       "    </tr>\n",
       "    <tr>\n",
       "      <th>140696</th>\n",
       "      <td>6.0</td>\n",
       "      <td>1</td>\n",
       "      <td>5.0</td>\n",
       "      <td>41.0</td>\n",
       "      <td>5.0</td>\n",
       "      <td>1</td>\n",
       "    </tr>\n",
       "    <tr>\n",
       "      <th>140697</th>\n",
       "      <td>4.0</td>\n",
       "      <td>0</td>\n",
       "      <td>4.0</td>\n",
       "      <td>24.0</td>\n",
       "      <td>3.0</td>\n",
       "      <td>1</td>\n",
       "    </tr>\n",
       "    <tr>\n",
       "      <th>140698</th>\n",
       "      <td>10.0</td>\n",
       "      <td>1</td>\n",
       "      <td>1.0</td>\n",
       "      <td>49.0</td>\n",
       "      <td>5.0</td>\n",
       "      <td>1</td>\n",
       "    </tr>\n",
       "    <tr>\n",
       "      <th>140699</th>\n",
       "      <td>2.0</td>\n",
       "      <td>1</td>\n",
       "      <td>3.0</td>\n",
       "      <td>27.0</td>\n",
       "      <td>3.0</td>\n",
       "      <td>0</td>\n",
       "    </tr>\n",
       "  </tbody>\n",
       "</table>\n",
       "<p>140690 rows × 6 columns</p>\n",
       "</div>"
      ],
      "text/plain": [
       "        Work/Study Hours  Have you ever had suicidal thoughts ?  \\\n",
       "0                    1.0                                      0   \n",
       "1                    7.0                                      1   \n",
       "2                    3.0                                      1   \n",
       "3                   10.0                                      1   \n",
       "4                    9.0                                      1   \n",
       "...                  ...                                    ...   \n",
       "140695               2.0                                      0   \n",
       "140696               6.0                                      1   \n",
       "140697               4.0                                      0   \n",
       "140698              10.0                                      1   \n",
       "140699               2.0                                      1   \n",
       "\n",
       "        Financial Stress   Age  Work Pressure  Working Professional or Student  \n",
       "0                    2.0  49.0            5.0                                1  \n",
       "1                    3.0  26.0            4.0                                1  \n",
       "2                    1.0  33.0            3.0                                0  \n",
       "3                    1.0  22.0            5.0                                1  \n",
       "4                    4.0  30.0            1.0                                1  \n",
       "...                  ...   ...            ...                              ...  \n",
       "140695               4.0  18.0            5.0                                1  \n",
       "140696               5.0  41.0            5.0                                1  \n",
       "140697               4.0  24.0            3.0                                1  \n",
       "140698               1.0  49.0            5.0                                1  \n",
       "140699               3.0  27.0            3.0                                0  \n",
       "\n",
       "[140690 rows x 6 columns]"
      ]
     },
     "execution_count": 27,
     "metadata": {},
     "output_type": "execute_result"
    }
   ],
   "source": [
    "X"
   ]
  },
  {
   "cell_type": "code",
   "execution_count": 28,
   "id": "6e2dd280",
   "metadata": {
    "execution": {
     "iopub.execute_input": "2024-11-16T23:42:21.375150Z",
     "iopub.status.busy": "2024-11-16T23:42:21.374285Z",
     "iopub.status.idle": "2024-11-16T23:42:21.407182Z",
     "shell.execute_reply": "2024-11-16T23:42:21.405927Z"
    },
    "papermill": {
     "duration": 0.066235,
     "end_time": "2024-11-16T23:42:21.409684",
     "exception": false,
     "start_time": "2024-11-16T23:42:21.343449",
     "status": "completed"
    },
    "tags": []
   },
   "outputs": [
    {
     "data": {
      "text/plain": [
       "((139690, 6), (139690,), (1000, 6), (1000,))"
      ]
     },
     "execution_count": 28,
     "metadata": {},
     "output_type": "execute_result"
    }
   ],
   "source": [
    "X_train,X_test,y_train,y_test = train_test_split(X,y,test_size=1000,random_state=10)\n",
    "X_train.shape,y_train.shape,X_test.shape,y_test.shape"
   ]
  },
  {
   "cell_type": "code",
   "execution_count": 29,
   "id": "0db6394f",
   "metadata": {
    "execution": {
     "iopub.execute_input": "2024-11-16T23:42:21.467569Z",
     "iopub.status.busy": "2024-11-16T23:42:21.467147Z",
     "iopub.status.idle": "2024-11-16T23:42:21.472745Z",
     "shell.execute_reply": "2024-11-16T23:42:21.471529Z"
    },
    "papermill": {
     "duration": 0.037614,
     "end_time": "2024-11-16T23:42:21.475378",
     "exception": false,
     "start_time": "2024-11-16T23:42:21.437764",
     "status": "completed"
    },
    "tags": []
   },
   "outputs": [],
   "source": [
    "model = DecisionTreeClassifier(criterion='entropy',max_depth=7,max_leaf_nodes=30)"
   ]
  },
  {
   "cell_type": "code",
   "execution_count": 30,
   "id": "770ab65a",
   "metadata": {
    "execution": {
     "iopub.execute_input": "2024-11-16T23:42:21.534170Z",
     "iopub.status.busy": "2024-11-16T23:42:21.533688Z",
     "iopub.status.idle": "2024-11-16T23:42:21.741031Z",
     "shell.execute_reply": "2024-11-16T23:42:21.739792Z"
    },
    "papermill": {
     "duration": 0.239885,
     "end_time": "2024-11-16T23:42:21.743606",
     "exception": false,
     "start_time": "2024-11-16T23:42:21.503721",
     "status": "completed"
    },
    "tags": []
   },
   "outputs": [
    {
     "data": {
      "text/html": [
       "<style>#sk-container-id-1 {color: black;background-color: white;}#sk-container-id-1 pre{padding: 0;}#sk-container-id-1 div.sk-toggleable {background-color: white;}#sk-container-id-1 label.sk-toggleable__label {cursor: pointer;display: block;width: 100%;margin-bottom: 0;padding: 0.3em;box-sizing: border-box;text-align: center;}#sk-container-id-1 label.sk-toggleable__label-arrow:before {content: \"▸\";float: left;margin-right: 0.25em;color: #696969;}#sk-container-id-1 label.sk-toggleable__label-arrow:hover:before {color: black;}#sk-container-id-1 div.sk-estimator:hover label.sk-toggleable__label-arrow:before {color: black;}#sk-container-id-1 div.sk-toggleable__content {max-height: 0;max-width: 0;overflow: hidden;text-align: left;background-color: #f0f8ff;}#sk-container-id-1 div.sk-toggleable__content pre {margin: 0.2em;color: black;border-radius: 0.25em;background-color: #f0f8ff;}#sk-container-id-1 input.sk-toggleable__control:checked~div.sk-toggleable__content {max-height: 200px;max-width: 100%;overflow: auto;}#sk-container-id-1 input.sk-toggleable__control:checked~label.sk-toggleable__label-arrow:before {content: \"▾\";}#sk-container-id-1 div.sk-estimator input.sk-toggleable__control:checked~label.sk-toggleable__label {background-color: #d4ebff;}#sk-container-id-1 div.sk-label input.sk-toggleable__control:checked~label.sk-toggleable__label {background-color: #d4ebff;}#sk-container-id-1 input.sk-hidden--visually {border: 0;clip: rect(1px 1px 1px 1px);clip: rect(1px, 1px, 1px, 1px);height: 1px;margin: -1px;overflow: hidden;padding: 0;position: absolute;width: 1px;}#sk-container-id-1 div.sk-estimator {font-family: monospace;background-color: #f0f8ff;border: 1px dotted black;border-radius: 0.25em;box-sizing: border-box;margin-bottom: 0.5em;}#sk-container-id-1 div.sk-estimator:hover {background-color: #d4ebff;}#sk-container-id-1 div.sk-parallel-item::after {content: \"\";width: 100%;border-bottom: 1px solid gray;flex-grow: 1;}#sk-container-id-1 div.sk-label:hover label.sk-toggleable__label {background-color: #d4ebff;}#sk-container-id-1 div.sk-serial::before {content: \"\";position: absolute;border-left: 1px solid gray;box-sizing: border-box;top: 0;bottom: 0;left: 50%;z-index: 0;}#sk-container-id-1 div.sk-serial {display: flex;flex-direction: column;align-items: center;background-color: white;padding-right: 0.2em;padding-left: 0.2em;position: relative;}#sk-container-id-1 div.sk-item {position: relative;z-index: 1;}#sk-container-id-1 div.sk-parallel {display: flex;align-items: stretch;justify-content: center;background-color: white;position: relative;}#sk-container-id-1 div.sk-item::before, #sk-container-id-1 div.sk-parallel-item::before {content: \"\";position: absolute;border-left: 1px solid gray;box-sizing: border-box;top: 0;bottom: 0;left: 50%;z-index: -1;}#sk-container-id-1 div.sk-parallel-item {display: flex;flex-direction: column;z-index: 1;position: relative;background-color: white;}#sk-container-id-1 div.sk-parallel-item:first-child::after {align-self: flex-end;width: 50%;}#sk-container-id-1 div.sk-parallel-item:last-child::after {align-self: flex-start;width: 50%;}#sk-container-id-1 div.sk-parallel-item:only-child::after {width: 0;}#sk-container-id-1 div.sk-dashed-wrapped {border: 1px dashed gray;margin: 0 0.4em 0.5em 0.4em;box-sizing: border-box;padding-bottom: 0.4em;background-color: white;}#sk-container-id-1 div.sk-label label {font-family: monospace;font-weight: bold;display: inline-block;line-height: 1.2em;}#sk-container-id-1 div.sk-label-container {text-align: center;}#sk-container-id-1 div.sk-container {/* jupyter's `normalize.less` sets `[hidden] { display: none; }` but bootstrap.min.css set `[hidden] { display: none !important; }` so we also need the `!important` here to be able to override the default hidden behavior on the sphinx rendered scikit-learn.org. See: https://github.com/scikit-learn/scikit-learn/issues/21755 */display: inline-block !important;position: relative;}#sk-container-id-1 div.sk-text-repr-fallback {display: none;}</style><div id=\"sk-container-id-1\" class=\"sk-top-container\"><div class=\"sk-text-repr-fallback\"><pre>DecisionTreeClassifier(criterion=&#x27;entropy&#x27;, max_depth=7, max_leaf_nodes=30)</pre><b>In a Jupyter environment, please rerun this cell to show the HTML representation or trust the notebook. <br />On GitHub, the HTML representation is unable to render, please try loading this page with nbviewer.org.</b></div><div class=\"sk-container\" hidden><div class=\"sk-item\"><div class=\"sk-estimator sk-toggleable\"><input class=\"sk-toggleable__control sk-hidden--visually\" id=\"sk-estimator-id-1\" type=\"checkbox\" checked><label for=\"sk-estimator-id-1\" class=\"sk-toggleable__label sk-toggleable__label-arrow\">DecisionTreeClassifier</label><div class=\"sk-toggleable__content\"><pre>DecisionTreeClassifier(criterion=&#x27;entropy&#x27;, max_depth=7, max_leaf_nodes=30)</pre></div></div></div></div></div>"
      ],
      "text/plain": [
       "DecisionTreeClassifier(criterion='entropy', max_depth=7, max_leaf_nodes=30)"
      ]
     },
     "execution_count": 30,
     "metadata": {},
     "output_type": "execute_result"
    }
   ],
   "source": [
    "model.fit(X_train,y_train)\n"
   ]
  },
  {
   "cell_type": "code",
   "execution_count": 31,
   "id": "a1e18425",
   "metadata": {
    "execution": {
     "iopub.execute_input": "2024-11-16T23:42:21.802401Z",
     "iopub.status.busy": "2024-11-16T23:42:21.801984Z",
     "iopub.status.idle": "2024-11-16T23:42:21.813351Z",
     "shell.execute_reply": "2024-11-16T23:42:21.812223Z"
    },
    "papermill": {
     "duration": 0.043258,
     "end_time": "2024-11-16T23:42:21.815680",
     "exception": false,
     "start_time": "2024-11-16T23:42:21.772422",
     "status": "completed"
    },
    "tags": []
   },
   "outputs": [
    {
     "data": {
      "text/plain": [
       "0.899"
      ]
     },
     "execution_count": 31,
     "metadata": {},
     "output_type": "execute_result"
    }
   ],
   "source": [
    "model.score(X_test,y_test)"
   ]
  },
  {
   "cell_type": "code",
   "execution_count": 32,
   "id": "d73d0b59",
   "metadata": {
    "execution": {
     "iopub.execute_input": "2024-11-16T23:42:21.875319Z",
     "iopub.status.busy": "2024-11-16T23:42:21.874856Z",
     "iopub.status.idle": "2024-11-16T23:42:21.882991Z",
     "shell.execute_reply": "2024-11-16T23:42:21.881801Z"
    },
    "papermill": {
     "duration": 0.041306,
     "end_time": "2024-11-16T23:42:21.885228",
     "exception": false,
     "start_time": "2024-11-16T23:42:21.843922",
     "status": "completed"
    },
    "tags": []
   },
   "outputs": [
    {
     "data": {
      "text/plain": [
       "(7, 30)"
      ]
     },
     "execution_count": 32,
     "metadata": {},
     "output_type": "execute_result"
    }
   ],
   "source": [
    "model.get_depth(),model.get_n_leaves()"
   ]
  },
  {
   "cell_type": "code",
   "execution_count": 33,
   "id": "a67bf124",
   "metadata": {
    "execution": {
     "iopub.execute_input": "2024-11-16T23:42:21.946000Z",
     "iopub.status.busy": "2024-11-16T23:42:21.945536Z",
     "iopub.status.idle": "2024-11-16T23:42:22.263307Z",
     "shell.execute_reply": "2024-11-16T23:42:22.262127Z"
    },
    "papermill": {
     "duration": 0.351441,
     "end_time": "2024-11-16T23:42:22.265975",
     "exception": false,
     "start_time": "2024-11-16T23:42:21.914534",
     "status": "completed"
    },
    "tags": []
   },
   "outputs": [
    {
     "data": {
      "text/plain": [
       "<sklearn.metrics._plot.confusion_matrix.ConfusionMatrixDisplay at 0x79cf3b4bb760>"
      ]
     },
     "execution_count": 33,
     "metadata": {},
     "output_type": "execute_result"
    },
    {
     "data": {
      "image/png": "[encoded data removed]",
      "text/plain": [
       "<Figure size 640x480 with 2 Axes>"
      ]
     },
     "metadata": {},
     "output_type": "display_data"
    }
   ],
   "source": [
    "ConfusionMatrixDisplay.from_estimator(model,X_test,y_test)"
   ]
  },
  {
   "cell_type": "code",
   "execution_count": 34,
   "id": "f344363f",
   "metadata": {
    "execution": {
     "iopub.execute_input": "2024-11-16T23:42:22.327007Z",
     "iopub.status.busy": "2024-11-16T23:42:22.326528Z",
     "iopub.status.idle": "2024-11-16T23:42:22.332180Z",
     "shell.execute_reply": "2024-11-16T23:42:22.330965Z"
    },
    "papermill": {
     "duration": 0.038979,
     "end_time": "2024-11-16T23:42:22.334508",
     "exception": false,
     "start_time": "2024-11-16T23:42:22.295529",
     "status": "completed"
    },
    "tags": []
   },
   "outputs": [],
   "source": [
    "from sklearn.neighbors import KNeighborsClassifier"
   ]
  },
  {
   "cell_type": "code",
   "execution_count": 35,
   "id": "3bce232d",
   "metadata": {
    "execution": {
     "iopub.execute_input": "2024-11-16T23:42:22.396498Z",
     "iopub.status.busy": "2024-11-16T23:42:22.396053Z",
     "iopub.status.idle": "2024-11-16T23:42:22.401222Z",
     "shell.execute_reply": "2024-11-16T23:42:22.400129Z"
    },
    "papermill": {
     "duration": 0.039724,
     "end_time": "2024-11-16T23:42:22.403551",
     "exception": false,
     "start_time": "2024-11-16T23:42:22.363827",
     "status": "completed"
    },
    "tags": []
   },
   "outputs": [],
   "source": [
    "model = KNeighborsClassifier(n_neighbors = 3,weights='distance')"
   ]
  },
  {
   "cell_type": "code",
   "execution_count": 36,
   "id": "4f5f693d",
   "metadata": {
    "execution": {
     "iopub.execute_input": "2024-11-16T23:42:22.464769Z",
     "iopub.status.busy": "2024-11-16T23:42:22.464319Z",
     "iopub.status.idle": "2024-11-16T23:42:22.701124Z",
     "shell.execute_reply": "2024-11-16T23:42:22.700070Z"
    },
    "papermill": {
     "duration": 0.271106,
     "end_time": "2024-11-16T23:42:22.703797",
     "exception": false,
     "start_time": "2024-11-16T23:42:22.432691",
     "status": "completed"
    },
    "tags": []
   },
   "outputs": [
    {
     "data": {
      "text/plain": [
       "0.909"
      ]
     },
     "execution_count": 36,
     "metadata": {},
     "output_type": "execute_result"
    }
   ],
   "source": [
    "model.fit(X_train,y_train)\n",
    "model.score(X_test,y_test)"
   ]
  },
  {
   "cell_type": "code",
   "execution_count": 37,
   "id": "cef45e52",
   "metadata": {
    "execution": {
     "iopub.execute_input": "2024-11-16T23:42:22.765325Z",
     "iopub.status.busy": "2024-11-16T23:42:22.764870Z",
     "iopub.status.idle": "2024-11-16T23:42:23.211910Z",
     "shell.execute_reply": "2024-11-16T23:42:23.210796Z"
    },
    "papermill": {
     "duration": 0.481052,
     "end_time": "2024-11-16T23:42:23.214382",
     "exception": false,
     "start_time": "2024-11-16T23:42:22.733330",
     "status": "completed"
    },
    "tags": []
   },
   "outputs": [
    {
     "data": {
      "text/plain": [
       "<sklearn.metrics._plot.confusion_matrix.ConfusionMatrixDisplay at 0x79cf3b502d10>"
      ]
     },
     "execution_count": 37,
     "metadata": {},
     "output_type": "execute_result"
    },
    {
     "data": {
      "image/png": "[encoded data removed]",
      "text/plain": [
       "<Figure size 640x480 with 2 Axes>"
      ]
     },
     "metadata": {},
     "output_type": "display_data"
    }
   ],
   "source": [
    "ConfusionMatrixDisplay.from_estimator(model,X_test,y_test)"
   ]
  },
  {
   "cell_type": "code",
   "execution_count": 38,
   "id": "bdc82511",
   "metadata": {
    "execution": {
     "iopub.execute_input": "2024-11-16T23:42:23.276087Z",
     "iopub.status.busy": "2024-11-16T23:42:23.275619Z",
     "iopub.status.idle": "2024-11-16T23:42:23.281250Z",
     "shell.execute_reply": "2024-11-16T23:42:23.279905Z"
    },
    "papermill": {
     "duration": 0.039272,
     "end_time": "2024-11-16T23:42:23.283597",
     "exception": false,
     "start_time": "2024-11-16T23:42:23.244325",
     "status": "completed"
    },
    "tags": []
   },
   "outputs": [],
   "source": [
    "from sklearn.preprocessing import minmax_scale"
   ]
  },
  {
   "cell_type": "code",
   "execution_count": 39,
   "id": "3aec9519",
   "metadata": {
    "execution": {
     "iopub.execute_input": "2024-11-16T23:42:23.345865Z",
     "iopub.status.busy": "2024-11-16T23:42:23.345399Z",
     "iopub.status.idle": "2024-11-16T23:42:23.363279Z",
     "shell.execute_reply": "2024-11-16T23:42:23.362159Z"
    },
    "papermill": {
     "duration": 0.052238,
     "end_time": "2024-11-16T23:42:23.366155",
     "exception": false,
     "start_time": "2024-11-16T23:42:23.313917",
     "status": "completed"
    },
    "tags": []
   },
   "outputs": [],
   "source": [
    "X = minmax_scale(X)"
   ]
  },
  {
   "cell_type": "code",
   "execution_count": 40,
   "id": "183d63e3",
   "metadata": {
    "execution": {
     "iopub.execute_input": "2024-11-16T23:42:23.429464Z",
     "iopub.status.busy": "2024-11-16T23:42:23.429019Z",
     "iopub.status.idle": "2024-11-16T23:42:23.454339Z",
     "shell.execute_reply": "2024-11-16T23:42:23.453025Z"
    },
    "papermill": {
     "duration": 0.059298,
     "end_time": "2024-11-16T23:42:23.456995",
     "exception": false,
     "start_time": "2024-11-16T23:42:23.397697",
     "status": "completed"
    },
    "tags": []
   },
   "outputs": [
    {
     "data": {
      "text/plain": [
       "((139690, 6), (1000, 6), (139690,), (1000,))"
      ]
     },
     "execution_count": 40,
     "metadata": {},
     "output_type": "execute_result"
    }
   ],
   "source": [
    "X_train,X_test,y_train,y_test = train_test_split(X,y,random_state=10,test_size=1000)\n",
    "X_train.shape,X_test.shape,y_train.shape,y_test.shape"
   ]
  },
  {
   "cell_type": "code",
   "execution_count": 41,
   "id": "ec0ec67a",
   "metadata": {
    "execution": {
     "iopub.execute_input": "2024-11-16T23:42:23.521281Z",
     "iopub.status.busy": "2024-11-16T23:42:23.520271Z",
     "iopub.status.idle": "2024-11-16T23:42:23.766907Z",
     "shell.execute_reply": "2024-11-16T23:42:23.765825Z"
    },
    "papermill": {
     "duration": 0.282002,
     "end_time": "2024-11-16T23:42:23.769521",
     "exception": false,
     "start_time": "2024-11-16T23:42:23.487519",
     "status": "completed"
    },
    "tags": []
   },
   "outputs": [
    {
     "data": {
      "text/plain": [
       "0.908"
      ]
     },
     "execution_count": 41,
     "metadata": {},
     "output_type": "execute_result"
    }
   ],
   "source": [
    "model = KNeighborsClassifier(n_neighbors=3,weights='distance',p=2)\n",
    "model.fit(X_train,y_train)\n",
    "model.score(X_test,y_test)"
   ]
  },
  {
   "cell_type": "code",
   "execution_count": 42,
   "id": "79cb87e3",
   "metadata": {
    "execution": {
     "iopub.execute_input": "2024-11-16T23:42:23.834359Z",
     "iopub.status.busy": "2024-11-16T23:42:23.833311Z",
     "iopub.status.idle": "2024-11-16T23:42:24.249311Z",
     "shell.execute_reply": "2024-11-16T23:42:24.248277Z"
    },
    "papermill": {
     "duration": 0.451309,
     "end_time": "2024-11-16T23:42:24.252079",
     "exception": false,
     "start_time": "2024-11-16T23:42:23.800770",
     "status": "completed"
    },
    "tags": []
   },
   "outputs": [],
   "source": [
    "test_data = pd.read_csv('/kaggle/input/playground-series-s4e11/test.csv')"
   ]
  },
  {
   "cell_type": "code",
   "execution_count": 43,
   "id": "581c643a",
   "metadata": {
    "execution": {
     "iopub.execute_input": "2024-11-16T23:42:24.322568Z",
     "iopub.status.busy": "2024-11-16T23:42:24.321546Z",
     "iopub.status.idle": "2024-11-16T23:42:24.329999Z",
     "shell.execute_reply": "2024-11-16T23:42:24.328895Z"
    },
    "papermill": {
     "duration": 0.047881,
     "end_time": "2024-11-16T23:42:24.332417",
     "exception": false,
     "start_time": "2024-11-16T23:42:24.284536",
     "status": "completed"
    },
    "tags": []
   },
   "outputs": [],
   "source": [
    "test_data_input = test_data[['Work/Study Hours','Have you ever had suicidal thoughts ?','Financial Stress','Age','Work Pressure','Working Professional or Student']]"
   ]
  },
  {
   "cell_type": "code",
   "execution_count": 44,
   "id": "45b91112",
   "metadata": {
    "execution": {
     "iopub.execute_input": "2024-11-16T23:42:24.396381Z",
     "iopub.status.busy": "2024-11-16T23:42:24.395910Z",
     "iopub.status.idle": "2024-11-16T23:42:24.416743Z",
     "shell.execute_reply": "2024-11-16T23:42:24.415621Z"
    },
    "papermill": {
     "duration": 0.056349,
     "end_time": "2024-11-16T23:42:24.419020",
     "exception": false,
     "start_time": "2024-11-16T23:42:24.362671",
     "status": "completed"
    },
    "tags": []
   },
   "outputs": [
    {
     "data": {
      "text/html": [
       "<div>\n",
       "<style scoped>\n",
       "    .dataframe tbody tr th:only-of-type {\n",
       "        vertical-align: middle;\n",
       "    }\n",
       "\n",
       "    .dataframe tbody tr th {\n",
       "        vertical-align: top;\n",
       "    }\n",
       "\n",
       "    .dataframe thead th {\n",
       "        text-align: right;\n",
       "    }\n",
       "</style>\n",
       "<table border=\"1\" class=\"dataframe\">\n",
       "  <thead>\n",
       "    <tr style=\"text-align: right;\">\n",
       "      <th></th>\n",
       "      <th>Work/Study Hours</th>\n",
       "      <th>Have you ever had suicidal thoughts ?</th>\n",
       "      <th>Financial Stress</th>\n",
       "      <th>Age</th>\n",
       "      <th>Work Pressure</th>\n",
       "      <th>Working Professional or Student</th>\n",
       "    </tr>\n",
       "  </thead>\n",
       "  <tbody>\n",
       "    <tr>\n",
       "      <th>0</th>\n",
       "      <td>9.0</td>\n",
       "      <td>No</td>\n",
       "      <td>3.0</td>\n",
       "      <td>53.0</td>\n",
       "      <td>2.0</td>\n",
       "      <td>Working Professional</td>\n",
       "    </tr>\n",
       "    <tr>\n",
       "      <th>1</th>\n",
       "      <td>6.0</td>\n",
       "      <td>No</td>\n",
       "      <td>4.0</td>\n",
       "      <td>58.0</td>\n",
       "      <td>2.0</td>\n",
       "      <td>Working Professional</td>\n",
       "    </tr>\n",
       "    <tr>\n",
       "      <th>2</th>\n",
       "      <td>12.0</td>\n",
       "      <td>Yes</td>\n",
       "      <td>4.0</td>\n",
       "      <td>53.0</td>\n",
       "      <td>4.0</td>\n",
       "      <td>Working Professional</td>\n",
       "    </tr>\n",
       "    <tr>\n",
       "      <th>3</th>\n",
       "      <td>10.0</td>\n",
       "      <td>Yes</td>\n",
       "      <td>4.0</td>\n",
       "      <td>23.0</td>\n",
       "      <td>NaN</td>\n",
       "      <td>Student</td>\n",
       "    </tr>\n",
       "    <tr>\n",
       "      <th>4</th>\n",
       "      <td>3.0</td>\n",
       "      <td>Yes</td>\n",
       "      <td>4.0</td>\n",
       "      <td>47.0</td>\n",
       "      <td>5.0</td>\n",
       "      <td>Working Professional</td>\n",
       "    </tr>\n",
       "    <tr>\n",
       "      <th>...</th>\n",
       "      <td>...</td>\n",
       "      <td>...</td>\n",
       "      <td>...</td>\n",
       "      <td>...</td>\n",
       "      <td>...</td>\n",
       "      <td>...</td>\n",
       "    </tr>\n",
       "    <tr>\n",
       "      <th>93795</th>\n",
       "      <td>2.0</td>\n",
       "      <td>Yes</td>\n",
       "      <td>2.0</td>\n",
       "      <td>49.0</td>\n",
       "      <td>3.0</td>\n",
       "      <td>Working Professional</td>\n",
       "    </tr>\n",
       "    <tr>\n",
       "      <th>93796</th>\n",
       "      <td>11.0</td>\n",
       "      <td>Yes</td>\n",
       "      <td>3.0</td>\n",
       "      <td>29.0</td>\n",
       "      <td>5.0</td>\n",
       "      <td>Working Professional</td>\n",
       "    </tr>\n",
       "    <tr>\n",
       "      <th>93797</th>\n",
       "      <td>7.0</td>\n",
       "      <td>No</td>\n",
       "      <td>1.0</td>\n",
       "      <td>24.0</td>\n",
       "      <td>NaN</td>\n",
       "      <td>Student</td>\n",
       "    </tr>\n",
       "    <tr>\n",
       "      <th>93798</th>\n",
       "      <td>7.0</td>\n",
       "      <td>Yes</td>\n",
       "      <td>5.0</td>\n",
       "      <td>23.0</td>\n",
       "      <td>4.0</td>\n",
       "      <td>Working Professional</td>\n",
       "    </tr>\n",
       "    <tr>\n",
       "      <th>93799</th>\n",
       "      <td>11.0</td>\n",
       "      <td>No</td>\n",
       "      <td>2.0</td>\n",
       "      <td>43.0</td>\n",
       "      <td>5.0</td>\n",
       "      <td>Working Professional</td>\n",
       "    </tr>\n",
       "  </tbody>\n",
       "</table>\n",
       "<p>93800 rows × 6 columns</p>\n",
       "</div>"
      ],
      "text/plain": [
       "       Work/Study Hours Have you ever had suicidal thoughts ?  \\\n",
       "0                   9.0                                    No   \n",
       "1                   6.0                                    No   \n",
       "2                  12.0                                   Yes   \n",
       "3                  10.0                                   Yes   \n",
       "4                   3.0                                   Yes   \n",
       "...                 ...                                   ...   \n",
       "93795               2.0                                   Yes   \n",
       "93796              11.0                                   Yes   \n",
       "93797               7.0                                    No   \n",
       "93798               7.0                                   Yes   \n",
       "93799              11.0                                    No   \n",
       "\n",
       "       Financial Stress   Age  Work Pressure Working Professional or Student  \n",
       "0                   3.0  53.0            2.0            Working Professional  \n",
       "1                   4.0  58.0            2.0            Working Professional  \n",
       "2                   4.0  53.0            4.0            Working Professional  \n",
       "3                   4.0  23.0            NaN                         Student  \n",
       "4                   4.0  47.0            5.0            Working Professional  \n",
       "...                 ...   ...            ...                             ...  \n",
       "93795               2.0  49.0            3.0            Working Professional  \n",
       "93796               3.0  29.0            5.0            Working Professional  \n",
       "93797               1.0  24.0            NaN                         Student  \n",
       "93798               5.0  23.0            4.0            Working Professional  \n",
       "93799               2.0  43.0            5.0            Working Professional  \n",
       "\n",
       "[93800 rows x 6 columns]"
      ]
     },
     "execution_count": 44,
     "metadata": {},
     "output_type": "execute_result"
    }
   ],
   "source": [
    "test_data_input"
   ]
  },
  {
   "cell_type": "code",
   "execution_count": 45,
   "id": "7fb4ad2b",
   "metadata": {
    "execution": {
     "iopub.execute_input": "2024-11-16T23:42:24.499842Z",
     "iopub.status.busy": "2024-11-16T23:42:24.499332Z",
     "iopub.status.idle": "2024-11-16T23:42:24.566110Z",
     "shell.execute_reply": "2024-11-16T23:42:24.565009Z"
    },
    "papermill": {
     "duration": 0.111824,
     "end_time": "2024-11-16T23:42:24.568753",
     "exception": false,
     "start_time": "2024-11-16T23:42:24.456929",
     "status": "completed"
    },
    "tags": []
   },
   "outputs": [
    {
     "name": "stderr",
     "output_type": "stream",
     "text": [
      "/tmp/ipykernel_17/3707324480.py:5: SettingWithCopyWarning: \n",
      "A value is trying to be set on a copy of a slice from a DataFrame.\n",
      "Try using .loc[row_indexer,col_indexer] = value instead\n",
      "\n",
      "See the caveats in the documentation: https://pandas.pydata.org/pandas-docs/stable/user_guide/indexing.html#returning-a-view-versus-a-copy\n",
      "  test_data_input[f] = encoding.fit_transform(test_data_input[f])\n",
      "/tmp/ipykernel_17/3707324480.py:5: SettingWithCopyWarning: \n",
      "A value is trying to be set on a copy of a slice from a DataFrame.\n",
      "Try using .loc[row_indexer,col_indexer] = value instead\n",
      "\n",
      "See the caveats in the documentation: https://pandas.pydata.org/pandas-docs/stable/user_guide/indexing.html#returning-a-view-versus-a-copy\n",
      "  test_data_input[f] = encoding.fit_transform(test_data_input[f])\n"
     ]
    }
   ],
   "source": [
    "cat_features = ['Have you ever had suicidal thoughts ?','Working Professional or Student']\n",
    "\n",
    "encoding = LabelEncoder()\n",
    "for f in cat_features:\n",
    "    test_data_input[f] = encoding.fit_transform(test_data_input[f])"
   ]
  },
  {
   "cell_type": "code",
   "execution_count": 46,
   "id": "48144607",
   "metadata": {
    "execution": {
     "iopub.execute_input": "2024-11-16T23:42:24.632315Z",
     "iopub.status.busy": "2024-11-16T23:42:24.631850Z",
     "iopub.status.idle": "2024-11-16T23:42:24.652975Z",
     "shell.execute_reply": "2024-11-16T23:42:24.651764Z"
    },
    "papermill": {
     "duration": 0.056213,
     "end_time": "2024-11-16T23:42:24.655489",
     "exception": false,
     "start_time": "2024-11-16T23:42:24.599276",
     "status": "completed"
    },
    "tags": []
   },
   "outputs": [
    {
     "data": {
      "text/html": [
       "<div>\n",
       "<style scoped>\n",
       "    .dataframe tbody tr th:only-of-type {\n",
       "        vertical-align: middle;\n",
       "    }\n",
       "\n",
       "    .dataframe tbody tr th {\n",
       "        vertical-align: top;\n",
       "    }\n",
       "\n",
       "    .dataframe thead th {\n",
       "        text-align: right;\n",
       "    }\n",
       "</style>\n",
       "<table border=\"1\" class=\"dataframe\">\n",
       "  <thead>\n",
       "    <tr style=\"text-align: right;\">\n",
       "      <th></th>\n",
       "      <th>Work/Study Hours</th>\n",
       "      <th>Have you ever had suicidal thoughts ?</th>\n",
       "      <th>Financial Stress</th>\n",
       "      <th>Age</th>\n",
       "      <th>Work Pressure</th>\n",
       "      <th>Working Professional or Student</th>\n",
       "    </tr>\n",
       "  </thead>\n",
       "  <tbody>\n",
       "    <tr>\n",
       "      <th>0</th>\n",
       "      <td>9.0</td>\n",
       "      <td>0</td>\n",
       "      <td>3.0</td>\n",
       "      <td>53.0</td>\n",
       "      <td>2.0</td>\n",
       "      <td>1</td>\n",
       "    </tr>\n",
       "    <tr>\n",
       "      <th>1</th>\n",
       "      <td>6.0</td>\n",
       "      <td>0</td>\n",
       "      <td>4.0</td>\n",
       "      <td>58.0</td>\n",
       "      <td>2.0</td>\n",
       "      <td>1</td>\n",
       "    </tr>\n",
       "    <tr>\n",
       "      <th>2</th>\n",
       "      <td>12.0</td>\n",
       "      <td>1</td>\n",
       "      <td>4.0</td>\n",
       "      <td>53.0</td>\n",
       "      <td>4.0</td>\n",
       "      <td>1</td>\n",
       "    </tr>\n",
       "    <tr>\n",
       "      <th>3</th>\n",
       "      <td>10.0</td>\n",
       "      <td>1</td>\n",
       "      <td>4.0</td>\n",
       "      <td>23.0</td>\n",
       "      <td>NaN</td>\n",
       "      <td>0</td>\n",
       "    </tr>\n",
       "    <tr>\n",
       "      <th>4</th>\n",
       "      <td>3.0</td>\n",
       "      <td>1</td>\n",
       "      <td>4.0</td>\n",
       "      <td>47.0</td>\n",
       "      <td>5.0</td>\n",
       "      <td>1</td>\n",
       "    </tr>\n",
       "    <tr>\n",
       "      <th>...</th>\n",
       "      <td>...</td>\n",
       "      <td>...</td>\n",
       "      <td>...</td>\n",
       "      <td>...</td>\n",
       "      <td>...</td>\n",
       "      <td>...</td>\n",
       "    </tr>\n",
       "    <tr>\n",
       "      <th>93795</th>\n",
       "      <td>2.0</td>\n",
       "      <td>1</td>\n",
       "      <td>2.0</td>\n",
       "      <td>49.0</td>\n",
       "      <td>3.0</td>\n",
       "      <td>1</td>\n",
       "    </tr>\n",
       "    <tr>\n",
       "      <th>93796</th>\n",
       "      <td>11.0</td>\n",
       "      <td>1</td>\n",
       "      <td>3.0</td>\n",
       "      <td>29.0</td>\n",
       "      <td>5.0</td>\n",
       "      <td>1</td>\n",
       "    </tr>\n",
       "    <tr>\n",
       "      <th>93797</th>\n",
       "      <td>7.0</td>\n",
       "      <td>0</td>\n",
       "      <td>1.0</td>\n",
       "      <td>24.0</td>\n",
       "      <td>NaN</td>\n",
       "      <td>0</td>\n",
       "    </tr>\n",
       "    <tr>\n",
       "      <th>93798</th>\n",
       "      <td>7.0</td>\n",
       "      <td>1</td>\n",
       "      <td>5.0</td>\n",
       "      <td>23.0</td>\n",
       "      <td>4.0</td>\n",
       "      <td>1</td>\n",
       "    </tr>\n",
       "    <tr>\n",
       "      <th>93799</th>\n",
       "      <td>11.0</td>\n",
       "      <td>0</td>\n",
       "      <td>2.0</td>\n",
       "      <td>43.0</td>\n",
       "      <td>5.0</td>\n",
       "      <td>1</td>\n",
       "    </tr>\n",
       "  </tbody>\n",
       "</table>\n",
       "<p>93800 rows × 6 columns</p>\n",
       "</div>"
      ],
      "text/plain": [
       "       Work/Study Hours  Have you ever had suicidal thoughts ?  \\\n",
       "0                   9.0                                      0   \n",
       "1                   6.0                                      0   \n",
       "2                  12.0                                      1   \n",
       "3                  10.0                                      1   \n",
       "4                   3.0                                      1   \n",
       "...                 ...                                    ...   \n",
       "93795               2.0                                      1   \n",
       "93796              11.0                                      1   \n",
       "93797               7.0                                      0   \n",
       "93798               7.0                                      1   \n",
       "93799              11.0                                      0   \n",
       "\n",
       "       Financial Stress   Age  Work Pressure  Working Professional or Student  \n",
       "0                   3.0  53.0            2.0                                1  \n",
       "1                   4.0  58.0            2.0                                1  \n",
       "2                   4.0  53.0            4.0                                1  \n",
       "3                   4.0  23.0            NaN                                0  \n",
       "4                   4.0  47.0            5.0                                1  \n",
       "...                 ...   ...            ...                              ...  \n",
       "93795               2.0  49.0            3.0                                1  \n",
       "93796               3.0  29.0            5.0                                1  \n",
       "93797               1.0  24.0            NaN                                0  \n",
       "93798               5.0  23.0            4.0                                1  \n",
       "93799               2.0  43.0            5.0                                1  \n",
       "\n",
       "[93800 rows x 6 columns]"
      ]
     },
     "execution_count": 46,
     "metadata": {},
     "output_type": "execute_result"
    }
   ],
   "source": [
    "test_data_input"
   ]
  },
  {
   "cell_type": "code",
   "execution_count": 47,
   "id": "b9eeb9e7",
   "metadata": {
    "execution": {
     "iopub.execute_input": "2024-11-16T23:42:24.719865Z",
     "iopub.status.busy": "2024-11-16T23:42:24.719400Z",
     "iopub.status.idle": "2024-11-16T23:42:24.729696Z",
     "shell.execute_reply": "2024-11-16T23:42:24.728664Z"
    },
    "papermill": {
     "duration": 0.04516,
     "end_time": "2024-11-16T23:42:24.732301",
     "exception": false,
     "start_time": "2024-11-16T23:42:24.687141",
     "status": "completed"
    },
    "tags": []
   },
   "outputs": [
    {
     "name": "stderr",
     "output_type": "stream",
     "text": [
      "/tmp/ipykernel_17/1893735758.py:1: SettingWithCopyWarning: \n",
      "A value is trying to be set on a copy of a slice from a DataFrame.\n",
      "Try using .loc[row_indexer,col_indexer] = value instead\n",
      "\n",
      "See the caveats in the documentation: https://pandas.pydata.org/pandas-docs/stable/user_guide/indexing.html#returning-a-view-versus-a-copy\n",
      "  test_data_input['Work Pressure'] = test_data_input['Work Pressure'].fillna(test_data_input['Work Pressure'].median())\n"
     ]
    }
   ],
   "source": [
    "test_data_input['Work Pressure'] = test_data_input['Work Pressure'].fillna(test_data_input['Work Pressure'].median())"
   ]
  },
  {
   "cell_type": "code",
   "execution_count": 48,
   "id": "18c60c70",
   "metadata": {
    "execution": {
     "iopub.execute_input": "2024-11-16T23:42:24.797900Z",
     "iopub.status.busy": "2024-11-16T23:42:24.796874Z",
     "iopub.status.idle": "2024-11-16T23:42:24.816551Z",
     "shell.execute_reply": "2024-11-16T23:42:24.815427Z"
    },
    "papermill": {
     "duration": 0.054643,
     "end_time": "2024-11-16T23:42:24.818846",
     "exception": false,
     "start_time": "2024-11-16T23:42:24.764203",
     "status": "completed"
    },
    "tags": []
   },
   "outputs": [
    {
     "data": {
      "text/html": [
       "<div>\n",
       "<style scoped>\n",
       "    .dataframe tbody tr th:only-of-type {\n",
       "        vertical-align: middle;\n",
       "    }\n",
       "\n",
       "    .dataframe tbody tr th {\n",
       "        vertical-align: top;\n",
       "    }\n",
       "\n",
       "    .dataframe thead th {\n",
       "        text-align: right;\n",
       "    }\n",
       "</style>\n",
       "<table border=\"1\" class=\"dataframe\">\n",
       "  <thead>\n",
       "    <tr style=\"text-align: right;\">\n",
       "      <th></th>\n",
       "      <th>Work/Study Hours</th>\n",
       "      <th>Have you ever had suicidal thoughts ?</th>\n",
       "      <th>Financial Stress</th>\n",
       "      <th>Age</th>\n",
       "      <th>Work Pressure</th>\n",
       "      <th>Working Professional or Student</th>\n",
       "    </tr>\n",
       "  </thead>\n",
       "  <tbody>\n",
       "    <tr>\n",
       "      <th>0</th>\n",
       "      <td>9.0</td>\n",
       "      <td>0</td>\n",
       "      <td>3.0</td>\n",
       "      <td>53.0</td>\n",
       "      <td>2.0</td>\n",
       "      <td>1</td>\n",
       "    </tr>\n",
       "    <tr>\n",
       "      <th>1</th>\n",
       "      <td>6.0</td>\n",
       "      <td>0</td>\n",
       "      <td>4.0</td>\n",
       "      <td>58.0</td>\n",
       "      <td>2.0</td>\n",
       "      <td>1</td>\n",
       "    </tr>\n",
       "    <tr>\n",
       "      <th>2</th>\n",
       "      <td>12.0</td>\n",
       "      <td>1</td>\n",
       "      <td>4.0</td>\n",
       "      <td>53.0</td>\n",
       "      <td>4.0</td>\n",
       "      <td>1</td>\n",
       "    </tr>\n",
       "    <tr>\n",
       "      <th>3</th>\n",
       "      <td>10.0</td>\n",
       "      <td>1</td>\n",
       "      <td>4.0</td>\n",
       "      <td>23.0</td>\n",
       "      <td>3.0</td>\n",
       "      <td>0</td>\n",
       "    </tr>\n",
       "    <tr>\n",
       "      <th>4</th>\n",
       "      <td>3.0</td>\n",
       "      <td>1</td>\n",
       "      <td>4.0</td>\n",
       "      <td>47.0</td>\n",
       "      <td>5.0</td>\n",
       "      <td>1</td>\n",
       "    </tr>\n",
       "    <tr>\n",
       "      <th>...</th>\n",
       "      <td>...</td>\n",
       "      <td>...</td>\n",
       "      <td>...</td>\n",
       "      <td>...</td>\n",
       "      <td>...</td>\n",
       "      <td>...</td>\n",
       "    </tr>\n",
       "    <tr>\n",
       "      <th>93795</th>\n",
       "      <td>2.0</td>\n",
       "      <td>1</td>\n",
       "      <td>2.0</td>\n",
       "      <td>49.0</td>\n",
       "      <td>3.0</td>\n",
       "      <td>1</td>\n",
       "    </tr>\n",
       "    <tr>\n",
       "      <th>93796</th>\n",
       "      <td>11.0</td>\n",
       "      <td>1</td>\n",
       "      <td>3.0</td>\n",
       "      <td>29.0</td>\n",
       "      <td>5.0</td>\n",
       "      <td>1</td>\n",
       "    </tr>\n",
       "    <tr>\n",
       "      <th>93797</th>\n",
       "      <td>7.0</td>\n",
       "      <td>0</td>\n",
       "      <td>1.0</td>\n",
       "      <td>24.0</td>\n",
       "      <td>3.0</td>\n",
       "      <td>0</td>\n",
       "    </tr>\n",
       "    <tr>\n",
       "      <th>93798</th>\n",
       "      <td>7.0</td>\n",
       "      <td>1</td>\n",
       "      <td>5.0</td>\n",
       "      <td>23.0</td>\n",
       "      <td>4.0</td>\n",
       "      <td>1</td>\n",
       "    </tr>\n",
       "    <tr>\n",
       "      <th>93799</th>\n",
       "      <td>11.0</td>\n",
       "      <td>0</td>\n",
       "      <td>2.0</td>\n",
       "      <td>43.0</td>\n",
       "      <td>5.0</td>\n",
       "      <td>1</td>\n",
       "    </tr>\n",
       "  </tbody>\n",
       "</table>\n",
       "<p>93800 rows × 6 columns</p>\n",
       "</div>"
      ],
      "text/plain": [
       "       Work/Study Hours  Have you ever had suicidal thoughts ?  \\\n",
       "0                   9.0                                      0   \n",
       "1                   6.0                                      0   \n",
       "2                  12.0                                      1   \n",
       "3                  10.0                                      1   \n",
       "4                   3.0                                      1   \n",
       "...                 ...                                    ...   \n",
       "93795               2.0                                      1   \n",
       "93796              11.0                                      1   \n",
       "93797               7.0                                      0   \n",
       "93798               7.0                                      1   \n",
       "93799              11.0                                      0   \n",
       "\n",
       "       Financial Stress   Age  Work Pressure  Working Professional or Student  \n",
       "0                   3.0  53.0            2.0                                1  \n",
       "1                   4.0  58.0            2.0                                1  \n",
       "2                   4.0  53.0            4.0                                1  \n",
       "3                   4.0  23.0            3.0                                0  \n",
       "4                   4.0  47.0            5.0                                1  \n",
       "...                 ...   ...            ...                              ...  \n",
       "93795               2.0  49.0            3.0                                1  \n",
       "93796               3.0  29.0            5.0                                1  \n",
       "93797               1.0  24.0            3.0                                0  \n",
       "93798               5.0  23.0            4.0                                1  \n",
       "93799               2.0  43.0            5.0                                1  \n",
       "\n",
       "[93800 rows x 6 columns]"
      ]
     },
     "execution_count": 48,
     "metadata": {},
     "output_type": "execute_result"
    }
   ],
   "source": [
    "test_data_input"
   ]
  },
  {
   "cell_type": "code",
   "execution_count": 49,
   "id": "111005f0",
   "metadata": {
    "execution": {
     "iopub.execute_input": "2024-11-16T23:42:24.938088Z",
     "iopub.status.busy": "2024-11-16T23:42:24.937597Z",
     "iopub.status.idle": "2024-11-16T23:42:24.949285Z",
     "shell.execute_reply": "2024-11-16T23:42:24.948303Z"
    },
    "papermill": {
     "duration": 0.047113,
     "end_time": "2024-11-16T23:42:24.951827",
     "exception": false,
     "start_time": "2024-11-16T23:42:24.904714",
     "status": "completed"
    },
    "tags": []
   },
   "outputs": [],
   "source": [
    "test_data_input = minmax_scale(test_data_input)"
   ]
  },
  {
   "cell_type": "code",
   "execution_count": 50,
   "id": "01225984",
   "metadata": {
    "execution": {
     "iopub.execute_input": "2024-11-16T23:42:25.017318Z",
     "iopub.status.busy": "2024-11-16T23:42:25.016852Z",
     "iopub.status.idle": "2024-11-16T23:42:25.024788Z",
     "shell.execute_reply": "2024-11-16T23:42:25.023802Z"
    },
    "papermill": {
     "duration": 0.043708,
     "end_time": "2024-11-16T23:42:25.027307",
     "exception": false,
     "start_time": "2024-11-16T23:42:24.983599",
     "status": "completed"
    },
    "tags": []
   },
   "outputs": [
    {
     "data": {
      "text/plain": [
       "array([[0.75      , 0.        , 0.5       , 0.83333333, 0.25      ,\n",
       "        1.        ],\n",
       "       [0.5       , 0.        , 0.75      , 0.95238095, 0.25      ,\n",
       "        1.        ],\n",
       "       [1.        , 1.        , 0.75      , 0.83333333, 0.75      ,\n",
       "        1.        ],\n",
       "       ...,\n",
       "       [0.58333333, 0.        , 0.        , 0.14285714, 0.5       ,\n",
       "        0.        ],\n",
       "       [0.58333333, 1.        , 1.        , 0.11904762, 0.75      ,\n",
       "        1.        ],\n",
       "       [0.91666667, 0.        , 0.25      , 0.5952381 , 1.        ,\n",
       "        1.        ]])"
      ]
     },
     "execution_count": 50,
     "metadata": {},
     "output_type": "execute_result"
    }
   ],
   "source": [
    "test_data_input"
   ]
  },
  {
   "cell_type": "code",
   "execution_count": 51,
   "id": "34fbde79",
   "metadata": {
    "execution": {
     "iopub.execute_input": "2024-11-16T23:42:25.092842Z",
     "iopub.status.busy": "2024-11-16T23:42:25.092414Z",
     "iopub.status.idle": "2024-11-16T23:42:29.733223Z",
     "shell.execute_reply": "2024-11-16T23:42:29.732252Z"
    },
    "papermill": {
     "duration": 4.676666,
     "end_time": "2024-11-16T23:42:29.735897",
     "exception": false,
     "start_time": "2024-11-16T23:42:25.059231",
     "status": "completed"
    },
    "tags": []
   },
   "outputs": [],
   "source": [
    "test_predictions = model.predict(test_data_input)"
   ]
  },
  {
   "cell_type": "code",
   "execution_count": 52,
   "id": "42e09a18",
   "metadata": {
    "execution": {
     "iopub.execute_input": "2024-11-16T23:42:29.803104Z",
     "iopub.status.busy": "2024-11-16T23:42:29.802284Z",
     "iopub.status.idle": "2024-11-16T23:42:29.937994Z",
     "shell.execute_reply": "2024-11-16T23:42:29.937001Z"
    },
    "papermill": {
     "duration": 0.171788,
     "end_time": "2024-11-16T23:42:29.940828",
     "exception": false,
     "start_time": "2024-11-16T23:42:29.769040",
     "status": "completed"
    },
    "tags": []
   },
   "outputs": [],
   "source": [
    "result_df = pd.DataFrame({\n",
    "    'id': test_data['id'],  # Extract IDs from the original DataFrame\n",
    "    'Depression': test_predictions\n",
    "})\n",
    "\n",
    "# Save to Excel\n",
    "result_df.to_csv('/kaggle/working/submission.csv', index=False)\n"
   ]
  },
  {
   "cell_type": "code",
   "execution_count": 53,
   "id": "f136cc20",
   "metadata": {
    "execution": {
     "iopub.execute_input": "2024-11-16T23:42:30.006891Z",
     "iopub.status.busy": "2024-11-16T23:42:30.006474Z",
     "iopub.status.idle": "2024-11-16T23:42:30.033043Z",
     "shell.execute_reply": "2024-11-16T23:42:30.031847Z"
    },
    "papermill": {
     "duration": 0.062579,
     "end_time": "2024-11-16T23:42:30.035752",
     "exception": false,
     "start_time": "2024-11-16T23:42:29.973173",
     "status": "completed"
    },
    "tags": []
   },
   "outputs": [],
   "source": [
    "sub = pd.read_csv(\"/kaggle/working/submission.csv\")"
   ]
  },
  {
   "cell_type": "code",
   "execution_count": 54,
   "id": "6cd98ee3",
   "metadata": {
    "execution": {
     "iopub.execute_input": "2024-11-16T23:42:30.100833Z",
     "iopub.status.busy": "2024-11-16T23:42:30.100417Z",
     "iopub.status.idle": "2024-11-16T23:42:30.110823Z",
     "shell.execute_reply": "2024-11-16T23:42:30.109690Z"
    },
    "papermill": {
     "duration": 0.045929,
     "end_time": "2024-11-16T23:42:30.113447",
     "exception": false,
     "start_time": "2024-11-16T23:42:30.067518",
     "status": "completed"
    },
    "tags": []
   },
   "outputs": [
    {
     "data": {
      "text/html": [
       "<div>\n",
       "<style scoped>\n",
       "    .dataframe tbody tr th:only-of-type {\n",
       "        vertical-align: middle;\n",
       "    }\n",
       "\n",
       "    .dataframe tbody tr th {\n",
       "        vertical-align: top;\n",
       "    }\n",
       "\n",
       "    .dataframe thead th {\n",
       "        text-align: right;\n",
       "    }\n",
       "</style>\n",
       "<table border=\"1\" class=\"dataframe\">\n",
       "  <thead>\n",
       "    <tr style=\"text-align: right;\">\n",
       "      <th></th>\n",
       "      <th>id</th>\n",
       "      <th>Depression</th>\n",
       "    </tr>\n",
       "  </thead>\n",
       "  <tbody>\n",
       "    <tr>\n",
       "      <th>0</th>\n",
       "      <td>140700</td>\n",
       "      <td>0</td>\n",
       "    </tr>\n",
       "    <tr>\n",
       "      <th>1</th>\n",
       "      <td>140701</td>\n",
       "      <td>0</td>\n",
       "    </tr>\n",
       "    <tr>\n",
       "      <th>2</th>\n",
       "      <td>140702</td>\n",
       "      <td>0</td>\n",
       "    </tr>\n",
       "    <tr>\n",
       "      <th>3</th>\n",
       "      <td>140703</td>\n",
       "      <td>1</td>\n",
       "    </tr>\n",
       "    <tr>\n",
       "      <th>4</th>\n",
       "      <td>140704</td>\n",
       "      <td>0</td>\n",
       "    </tr>\n",
       "  </tbody>\n",
       "</table>\n",
       "</div>"
      ],
      "text/plain": [
       "       id  Depression\n",
       "0  140700           0\n",
       "1  140701           0\n",
       "2  140702           0\n",
       "3  140703           1\n",
       "4  140704           0"
      ]
     },
     "execution_count": 54,
     "metadata": {},
     "output_type": "execute_result"
    }
   ],
   "source": [
    "sub.head()"
   ]
  },
  {
   "cell_type": "code",
   "execution_count": 55,
   "id": "886d0f88",
   "metadata": {
    "execution": {
     "iopub.execute_input": "2024-11-16T23:42:30.180253Z",
     "iopub.status.busy": "2024-11-16T23:42:30.179283Z",
     "iopub.status.idle": "2024-11-16T23:43:05.269426Z",
     "shell.execute_reply": "2024-11-16T23:43:05.267872Z"
    },
    "papermill": {
     "duration": 35.127525,
     "end_time": "2024-11-16T23:43:05.272896",
     "exception": false,
     "start_time": "2024-11-16T23:42:30.145371",
     "status": "completed"
    },
    "tags": []
   },
   "outputs": [
    {
     "name": "stdout",
     "output_type": "stream",
     "text": [
      "Requirement already satisfied: gitpython in /opt/conda/lib/python3.10/site-packages (3.1.43)\r\n",
      "Requirement already satisfied: gitdb<5,>=4.0.1 in /opt/conda/lib/python3.10/site-packages (from gitpython) (4.0.11)\r\n",
      "Requirement already satisfied: smmap<6,>=3.0.1 in /opt/conda/lib/python3.10/site-packages (from gitdb<5,>=4.0.1->gitpython) (5.0.1)\r\n"
     ]
    }
   ],
   "source": [
    "!pip install gitpython\n"
   ]
  },
  {
   "cell_type": "code",
   "execution_count": 56,
   "id": "9c65cf7a",
   "metadata": {
    "execution": {
     "iopub.execute_input": "2024-11-16T23:43:05.341501Z",
     "iopub.status.busy": "2024-11-16T23:43:05.340434Z",
     "iopub.status.idle": "2024-11-16T23:43:26.667545Z",
     "shell.execute_reply": "2024-11-16T23:43:26.666029Z"
    },
    "papermill": {
     "duration": 21.364441,
     "end_time": "2024-11-16T23:43:26.670797",
     "exception": false,
     "start_time": "2024-11-16T23:43:05.306356",
     "status": "completed"
    },
    "tags": []
   },
   "outputs": [
    {
     "name": "stdout",
     "output_type": "stream",
     "text": [
      "Cloning into 'kaggle-test'...\r\n",
      "fatal: unable to access 'https://github.com/NavyaTrilok/kaggle-test.git/': Could not resolve host: github.com\r\n"
     ]
    }
   ],
   "source": [
    "!git clone https://github.com/NavyaTrilok/kaggle-test.git\n"
   ]
  },
  {
   "cell_type": "code",
   "execution_count": 57,
   "id": "fcf8d404",
   "metadata": {
    "execution": {
     "iopub.execute_input": "2024-11-16T23:43:26.740923Z",
     "iopub.status.busy": "2024-11-16T23:43:26.739839Z",
     "iopub.status.idle": "2024-11-16T23:43:29.051108Z",
     "shell.execute_reply": "2024-11-16T23:43:29.049604Z"
    },
    "papermill": {
     "duration": 2.349792,
     "end_time": "2024-11-16T23:43:29.054141",
     "exception": false,
     "start_time": "2024-11-16T23:43:26.704349",
     "status": "completed"
    },
    "tags": []
   },
   "outputs": [],
   "source": [
    "!git config --global user.name \"NavyaTrilok\"\n",
    "!git config --global user.email \"dtriloknavya@gmail.com\"\n"
   ]
  },
  {
   "cell_type": "code",
   "execution_count": 58,
   "id": "b8087381",
   "metadata": {
    "execution": {
     "iopub.execute_input": "2024-11-16T23:43:29.122082Z",
     "iopub.status.busy": "2024-11-16T23:43:29.121093Z",
     "iopub.status.idle": "2024-11-16T23:43:30.275443Z",
     "shell.execute_reply": "2024-11-16T23:43:30.274158Z"
    },
    "papermill": {
     "duration": 1.19148,
     "end_time": "2024-11-16T23:43:30.278196",
     "exception": false,
     "start_time": "2024-11-16T23:43:29.086716",
     "status": "completed"
    },
    "tags": []
   },
   "outputs": [
    {
     "name": "stdout",
     "output_type": "stream",
     "text": [
      "Initialized empty Git repository in /kaggle/working/.git/\r\n"
     ]
    }
   ],
   "source": [
    "!git init\n"
   ]
  },
  {
   "cell_type": "code",
   "execution_count": 59,
   "id": "6f9cda0e",
   "metadata": {
    "execution": {
     "iopub.execute_input": "2024-11-16T23:43:30.345218Z",
     "iopub.status.busy": "2024-11-16T23:43:30.344693Z",
     "iopub.status.idle": "2024-11-16T23:43:31.502168Z",
     "shell.execute_reply": "2024-11-16T23:43:31.500498Z"
    },
    "papermill": {
     "duration": 1.194348,
     "end_time": "2024-11-16T23:43:31.505008",
     "exception": false,
     "start_time": "2024-11-16T23:43:30.310660",
     "status": "completed"
    },
    "tags": []
   },
   "outputs": [],
   "source": [
    "!git remote add origin https://github.com/NavyaTrilok/kaggle-test.git\n"
   ]
  },
  {
   "cell_type": "code",
   "execution_count": 60,
   "id": "4ecb7d31",
   "metadata": {
    "execution": {
     "iopub.execute_input": "2024-11-16T23:43:31.572863Z",
     "iopub.status.busy": "2024-11-16T23:43:31.572385Z",
     "iopub.status.idle": "2024-11-16T23:43:55.179872Z",
     "shell.execute_reply": "2024-11-16T23:43:55.178255Z"
    },
    "papermill": {
     "duration": 23.645388,
     "end_time": "2024-11-16T23:43:55.182849",
     "exception": false,
     "start_time": "2024-11-16T23:43:31.537461",
     "status": "completed"
    },
    "tags": []
   },
   "outputs": [
    {
     "name": "stdout",
     "output_type": "stream",
     "text": [
      "[master (root-commit) bff3302] Add Kaggle notebook\r\n",
      " 2 files changed, 97799 insertions(+)\r\n",
      " create mode 100644 __notebook__.ipynb\r\n",
      " create mode 100644 submission.csv\r\n",
      "fatal: unable to access 'https://github.com/NavyaTrilok/kaggle-test.git/': Could not resolve host: github.com\r\n"
     ]
    }
   ],
   "source": [
    "!git add .\n",
    "!git commit -m \"Add Kaggle notebook\"\n",
    "!git push -u origin master\n"
   ]
  },
  {
   "cell_type": "code",
   "execution_count": 61,
   "id": "b4123157",
   "metadata": {
    "execution": {
     "iopub.execute_input": "2024-11-16T23:43:55.251979Z",
     "iopub.status.busy": "2024-11-16T23:43:55.250809Z",
     "iopub.status.idle": "2024-11-16T23:43:56.409577Z",
     "shell.execute_reply": "2024-11-16T23:43:56.408086Z"
    },
    "papermill": {
     "duration": 1.196514,
     "end_time": "2024-11-16T23:43:56.412527",
     "exception": false,
     "start_time": "2024-11-16T23:43:55.216013",
     "status": "completed"
    },
    "tags": []
   },
   "outputs": [],
   "source": [
    "!git branch -m master\n"
   ]
  },
  {
   "cell_type": "code",
   "execution_count": 62,
   "id": "8475e889",
   "metadata": {
    "execution": {
     "iopub.execute_input": "2024-11-16T23:43:56.480299Z",
     "iopub.status.busy": "2024-11-16T23:43:56.479527Z",
     "iopub.status.idle": "2024-11-16T23:43:57.648638Z",
     "shell.execute_reply": "2024-11-16T23:43:57.647411Z"
    },
    "papermill": {
     "duration": 1.206449,
     "end_time": "2024-11-16T23:43:57.651665",
     "exception": false,
     "start_time": "2024-11-16T23:43:56.445216",
     "status": "completed"
    },
    "tags": []
   },
   "outputs": [
    {
     "name": "stdout",
     "output_type": "stream",
     "text": [
      "error: src refspec main does not match any\r\n",
      "\u001b[31merror: failed to push some refs to 'https://github.com/NavyaTrilok/kaggle-test.git'\r\n",
      "\u001b[m"
     ]
    }
   ],
   "source": [
    "!git push --set-upstream origin main\n"
   ]
  },
  {
   "cell_type": "code",
   "execution_count": 63,
   "id": "50798357",
   "metadata": {
    "execution": {
     "iopub.execute_input": "2024-11-16T23:43:57.721035Z",
     "iopub.status.busy": "2024-11-16T23:43:57.719844Z",
     "iopub.status.idle": "2024-11-16T23:43:58.894600Z",
     "shell.execute_reply": "2024-11-16T23:43:58.893085Z"
    },
    "papermill": {
     "duration": 1.21208,
     "end_time": "2024-11-16T23:43:58.897431",
     "exception": false,
     "start_time": "2024-11-16T23:43:57.685351",
     "status": "completed"
    },
    "tags": []
   },
   "outputs": [
    {
     "name": "stdout",
     "output_type": "stream",
     "text": [
      "error: src refspec main does not match any\r\n",
      "\u001b[31merror: failed to push some refs to 'https://github.com/NavyaTrilok/kaggle-test.git'\r\n",
      "\u001b[m"
     ]
    }
   ],
   "source": [
    "!git push -u origin main\n"
   ]
  },
  {
   "cell_type": "code",
   "execution_count": null,
   "id": "6e360fc1",
   "metadata": {
    "papermill": {
     "duration": 0.033336,
     "end_time": "2024-11-16T23:43:58.963908",
     "exception": false,
     "start_time": "2024-11-16T23:43:58.930572",
     "status": "completed"
    },
    "tags": []
   },
   "outputs": [],
   "source": []
  }
 ],
 "metadata": {
  "kaggle": {
   "accelerator": "none",
   "dataSources": [
    {
     "databundleVersionId": 10008389,
     "sourceId": 84895,
     "sourceType": "competition"
    }
   ],
   "dockerImageVersionId": 30786,
   "isGpuEnabled": false,
   "isInternetEnabled": false,
   "language": "python",
   "sourceType": "notebook"
  },
  "kernelspec": {
   "display_name": "Python 3",
   "language": "python",
   "name": "python3"
  },
  "language_info": {
   "codemirror_mode": {
    "name": "ipython",
    "version": 3
   },
   "file_extension": ".py",
   "mimetype": "text/x-python",
   "name": "python",
   "nbconvert_exporter": "python",
   "pygments_lexer": "ipython3",
   "version": "3.10.14"
  },
  "papermill": {
   "default_parameters": {},
   "duration": 113.772198,
   "end_time": "2024-11-16T23:43:59.820522",
   "environment_variables": {},
   "exception": null,
   "input_path": "__notebook__.ipynb",
   "output_path": "__notebook__.ipynb",
   "parameters": {},
   "start_time": "2024-11-16T23:42:06.048324",
   "version": "2.6.0"
  }
 },
 "nbformat": 4,
 "nbformat_minor": 5
}
